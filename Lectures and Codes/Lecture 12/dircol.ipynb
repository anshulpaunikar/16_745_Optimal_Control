{
 "cells": [
  {
   "cell_type": "code",
   "execution_count": 1,
   "metadata": {
    "tags": []
   },
   "outputs": [
    {
     "name": "stderr",
     "output_type": "stream",
     "text": [
      "\u001b[32m\u001b[1m  Activating\u001b[22m\u001b[39m environment at `C:\\D Drive\\Courses\\Non Umich Courses\\CMU\\Optimal_Control_16_745\\Lectures and Codes\\Lecture 12\\Project.toml`\n"
     ]
    }
   ],
   "source": [
    "import Pkg; Pkg.activate(@__DIR__); Pkg.instantiate()"
   ]
  },
  {
   "cell_type": "code",
   "execution_count": 2,
   "metadata": {},
   "outputs": [],
   "source": [
    "using LinearAlgebra\n",
    "using PyPlot\n",
    "using ForwardDiff\n",
    "using RobotZoo\n",
    "const RZ = RobotZoo\n",
    "using RobotDynamics\n",
    "using Ipopt\n",
    "using MathOptInterface\n",
    "const MOI = MathOptInterface;"
   ]
  },
  {
   "cell_type": "code",
   "execution_count": 3,
   "metadata": {},
   "outputs": [
    {
     "data": {
      "text/plain": [
       "0.1"
      ]
     },
     "execution_count": 3,
     "metadata": {},
     "output_type": "execute_result"
    }
   ],
   "source": [
    "#Pendulum Dynamics\n",
    "a = RobotZoo.Acrobot()\n",
    "h = 0.1 #10 Hz"
   ]
  },
  {
   "cell_type": "code",
   "execution_count": 4,
   "metadata": {},
   "outputs": [
    {
     "data": {
      "text/plain": [
       "208"
      ]
     },
     "execution_count": 4,
     "metadata": {},
     "output_type": "execute_result"
    }
   ],
   "source": [
    "Nx = 4     # number of state\n",
    "Nu = 1     # number of controls\n",
    "Tfinal = 5.0 # final time\n",
    "Nt = Int(Tfinal/h)+1   # number of time steps\n",
    "thist = Array(range(0,h*(Nt-1), step=h));\n",
    "n_nlp = (Nx+Nu)*Nt # number of decision variables\n",
    "m_nlp = Nx*(Nt+1)"
   ]
  },
  {
   "cell_type": "code",
   "execution_count": 5,
   "metadata": {},
   "outputs": [
    {
     "data": {
      "text/plain": [
       "dircol_dynamics (generic function with 1 method)"
      ]
     },
     "execution_count": 5,
     "metadata": {},
     "output_type": "execute_result"
    }
   ],
   "source": [
    "function dircol_dynamics(x1,u1,x2,u2)\n",
    "    #Hermite-Simpson integration with first-order hold on u\n",
    "    f1 = RZ.dynamics(a, x1, u1)\n",
    "    f2 = RZ.dynamics(a, x2, u2)\n",
    "    xm = 0.5*(x1 + x2) + (h/8.0)*(f1 - f2)\n",
    "    um = 0.5*(u1 + u2)\n",
    "    ẋm = (-3/(2.0*h))*(x1 - x2) - 0.25*(f1 + f2)\n",
    "    fm = RZ.dynamics(a, xm, um)\n",
    "    return fm - ẋm\n",
    "end"
   ]
  },
  {
   "cell_type": "code",
   "execution_count": 6,
   "metadata": {},
   "outputs": [],
   "source": [
    "# Cost weights\n",
    "Q = Diagonal([1.0*ones(2); 1.0*ones(2)]);\n",
    "R = 0.1;"
   ]
  },
  {
   "cell_type": "code",
   "execution_count": 7,
   "metadata": {},
   "outputs": [
    {
     "data": {
      "text/plain": [
       "stage_cost (generic function with 1 method)"
      ]
     },
     "execution_count": 7,
     "metadata": {},
     "output_type": "execute_result"
    }
   ],
   "source": [
    "function stage_cost(x,u)\n",
    "    return 0.5*((x-xgoal)'*Q*(x-xgoal)) + 0.5*u'*R*u\n",
    "end"
   ]
  },
  {
   "cell_type": "code",
   "execution_count": 8,
   "metadata": {},
   "outputs": [
    {
     "data": {
      "text/plain": [
       "cost (generic function with 1 method)"
      ]
     },
     "execution_count": 8,
     "metadata": {},
     "output_type": "execute_result"
    }
   ],
   "source": [
    "function cost(ztraj)\n",
    "    z = reshape(ztraj,Nx+Nu,Nt)\n",
    "    J = 0.0\n",
    "    for k = 1:Nt\n",
    "        J += stage_cost(z[1:Nx,k],z[(Nx+1):(Nx+Nu),k])\n",
    "    end\n",
    "    return J\n",
    "end"
   ]
  },
  {
   "cell_type": "code",
   "execution_count": 9,
   "metadata": {},
   "outputs": [
    {
     "data": {
      "text/plain": [
       "dynamics_constraint! (generic function with 1 method)"
      ]
     },
     "execution_count": 9,
     "metadata": {},
     "output_type": "execute_result"
    }
   ],
   "source": [
    "function dynamics_constraint!(c,ztraj)\n",
    "    d = reshape(c,Nx,Nt-1)\n",
    "    z = reshape(ztraj,Nx+Nu,Nt)\n",
    "    for k = 1:(Nt-1)\n",
    "        x1 = z[1:Nx,k]\n",
    "        u1 = z[(Nx+1):(Nx+Nu),k]\n",
    "        x2 = z[1:Nx,k+1]\n",
    "        u2 = z[(Nx+1):(Nx+Nu),k+1]\n",
    "        d[:,k] = dircol_dynamics(x1,u1,x2,u2)\n",
    "    end\n",
    "    return nothing\n",
    "end"
   ]
  },
  {
   "cell_type": "code",
   "execution_count": 10,
   "metadata": {},
   "outputs": [
    {
     "data": {
      "text/plain": [
       "con! (generic function with 1 method)"
      ]
     },
     "execution_count": 10,
     "metadata": {},
     "output_type": "execute_result"
    }
   ],
   "source": [
    "function con!(c,ztraj)\n",
    "    z = reshape(ztraj,Nx+Nu,Nt)\n",
    "    c[1:Nx] .= z[1:Nx,1] - x0\n",
    "    @views dynamics_constraint!(c[(Nx+1):(end-Nx)],ztraj)\n",
    "    c[(end-Nx+1):end] .= z[1:Nx,end] - xgoal\n",
    "end"
   ]
  },
  {
   "cell_type": "code",
   "execution_count": 11,
   "metadata": {},
   "outputs": [
    {
     "data": {
      "text/plain": [
       "solve (generic function with 1 method)"
      ]
     },
     "execution_count": 11,
     "metadata": {},
     "output_type": "execute_result"
    }
   ],
   "source": [
    "struct ProblemMOI <: MOI.AbstractNLPEvaluator\n",
    "    n_nlp::Int\n",
    "    m_nlp::Int\n",
    "    idx_ineq\n",
    "    obj_grad::Bool\n",
    "    con_jac::Bool\n",
    "    sparsity_jac\n",
    "    sparsity_hess\n",
    "    primal_bounds\n",
    "    constraint_bounds\n",
    "    hessian_lagrangian::Bool\n",
    "end\n",
    "\n",
    "function ProblemMOI(n_nlp,m_nlp;\n",
    "        idx_ineq=(1:0),\n",
    "        obj_grad=true,\n",
    "        con_jac=true,\n",
    "        sparsity_jac=sparsity_jacobian(n_nlp,m_nlp),\n",
    "        sparsity_hess=sparsity_hessian(n_nlp,m_nlp),\n",
    "        primal_bounds=primal_bounds(n_nlp),\n",
    "        constraint_bounds=constraint_bounds(m_nlp,idx_ineq=idx_ineq),\n",
    "        hessian_lagrangian=false)\n",
    "\n",
    "    ProblemMOI(n_nlp,m_nlp,\n",
    "        idx_ineq,\n",
    "        obj_grad,\n",
    "        con_jac,\n",
    "        sparsity_jac,\n",
    "        sparsity_hess,\n",
    "        primal_bounds,\n",
    "        constraint_bounds,\n",
    "        hessian_lagrangian)\n",
    "end\n",
    "\n",
    "function primal_bounds(n)\n",
    "    x_l = -Inf*ones(n)\n",
    "    x_u = Inf*ones(n)\n",
    "    return x_l, x_u\n",
    "end\n",
    "\n",
    "function constraint_bounds(m; idx_ineq=(1:0))\n",
    "    c_l = zeros(m)\n",
    "    c_l[idx_ineq] .= -Inf\n",
    "\n",
    "    c_u = zeros(m)\n",
    "    return c_l, c_u\n",
    "end\n",
    "\n",
    "function row_col!(row,col,r,c)\n",
    "    for cc in c\n",
    "        for rr in r\n",
    "            push!(row,convert(Int,rr))\n",
    "            push!(col,convert(Int,cc))\n",
    "        end\n",
    "    end\n",
    "    return row, col\n",
    "end\n",
    "\n",
    "function sparsity_jacobian(n,m)\n",
    "\n",
    "    row = []\n",
    "    col = []\n",
    "\n",
    "    r = 1:m\n",
    "    c = 1:n\n",
    "\n",
    "    row_col!(row,col,r,c)\n",
    "\n",
    "    return collect(zip(row,col))\n",
    "end\n",
    "\n",
    "function sparsity_hessian(n,m)\n",
    "\n",
    "    row = []\n",
    "    col = []\n",
    "\n",
    "    r = 1:m\n",
    "    c = 1:n\n",
    "\n",
    "    row_col!(row,col,r,c)\n",
    "\n",
    "    return collect(zip(row,col))\n",
    "end\n",
    "\n",
    "function MOI.eval_objective(prob::MOI.AbstractNLPEvaluator, x)\n",
    "    cost(x)\n",
    "end\n",
    "\n",
    "function MOI.eval_objective_gradient(prob::MOI.AbstractNLPEvaluator, grad_f, x)\n",
    "    ForwardDiff.gradient!(grad_f,cost,x)\n",
    "    return nothing\n",
    "end\n",
    "\n",
    "function MOI.eval_constraint(prob::MOI.AbstractNLPEvaluator,g,x)\n",
    "    con!(g,x)\n",
    "    return nothing\n",
    "end\n",
    "\n",
    "function MOI.eval_constraint_jacobian(prob::MOI.AbstractNLPEvaluator, jac, x)\n",
    "    ForwardDiff.jacobian!(reshape(jac,prob.m_nlp,prob.n_nlp), con!, zeros(prob.m_nlp), x)\n",
    "    return nothing\n",
    "end\n",
    "\n",
    "function MOI.features_available(prob::MOI.AbstractNLPEvaluator)\n",
    "    return [:Grad, :Jac]\n",
    "end\n",
    "\n",
    "MOI.initialize(prob::MOI.AbstractNLPEvaluator, features) = nothing\n",
    "MOI.jacobian_structure(prob::MOI.AbstractNLPEvaluator) = prob.sparsity_jac\n",
    "\n",
    "function solve(x0,prob::MOI.AbstractNLPEvaluator;\n",
    "        tol=1.0e-6,c_tol=1.0e-6,max_iter=10000)\n",
    "    x_l, x_u = prob.primal_bounds\n",
    "    c_l, c_u = prob.constraint_bounds\n",
    "\n",
    "    nlp_bounds = MOI.NLPBoundsPair.(c_l,c_u)\n",
    "    block_data = MOI.NLPBlockData(nlp_bounds,prob,true)\n",
    "\n",
    "    solver = Ipopt.Optimizer()\n",
    "    solver.options[\"max_iter\"] = max_iter\n",
    "    solver.options[\"tol\"] = tol\n",
    "    solver.options[\"constr_viol_tol\"] = c_tol\n",
    "\n",
    "    x = MOI.add_variables(solver,prob.n_nlp)\n",
    "\n",
    "    for i = 1:prob.n_nlp\n",
    "        MOI.add_constraint(solver, x[i], MOI.LessThan(x_u[i]))\n",
    "        MOI.add_constraint(solver, x[i], MOI.GreaterThan(x_l[i]))\n",
    "        MOI.set(solver, MOI.VariablePrimalStart(), x[i], x0[i])\n",
    "    end\n",
    "\n",
    "    # Solve the problem\n",
    "    MOI.set(solver, MOI.NLPBlock(), block_data)\n",
    "    MOI.set(solver, MOI.ObjectiveSense(), MOI.MIN_SENSE)\n",
    "    MOI.optimize!(solver)\n",
    "\n",
    "    # Get the solution\n",
    "    res = MOI.get(solver, MOI.VariablePrimal(), x)\n",
    "\n",
    "    return res\n",
    "end"
   ]
  },
  {
   "cell_type": "code",
   "execution_count": 12,
   "metadata": {},
   "outputs": [
    {
     "data": {
      "text/plain": [
       "4-element Vector{Float64}:\n",
       " 1.5707963267948966\n",
       " 0.0\n",
       " 0.0\n",
       " 0.0"
      ]
     },
     "execution_count": 12,
     "metadata": {},
     "output_type": "execute_result"
    }
   ],
   "source": [
    "#Initial and goal states\n",
    "x0 = [-pi/2; 0; 0; 0]\n",
    "xgoal = [pi/2; 0; 0; 0]"
   ]
  },
  {
   "cell_type": "code",
   "execution_count": 25,
   "metadata": {},
   "outputs": [],
   "source": [
    "#Guess\n",
    "xguess = kron(ones(Nt)', x0) #+ 0.1*randn(Nt)\n",
    "xguess[1,:] .= xtraj[1,:] + 0.1*randn(Nt)\n",
    "uguess = zeros(Nt)'\n",
    "z0 = reshape([xguess; uguess],(Nx+Nu)*Nt,1);"
   ]
  },
  {
   "cell_type": "code",
   "execution_count": 26,
   "metadata": {
    "scrolled": true,
    "tags": []
   },
   "outputs": [
    {
     "name": "stdout",
     "output_type": "stream",
     "text": [
      "This is Ipopt version 3.14.4, running with linear solver MUMPS 5.4.1.\n",
      "\n",
      "Number of nonzeros in equality constraint Jacobian...:    53040\n",
      "Number of nonzeros in inequality constraint Jacobian.:        0\n",
      "Number of nonzeros in Lagrangian Hessian.............:        0\n",
      "\n",
      "Total number of variables............................:      255\n",
      "                     variables with only lower bounds:        0\n",
      "                variables with lower and upper bounds:        0\n",
      "                     variables with only upper bounds:        0\n",
      "Total number of equality constraints.................:      208\n",
      "Total number of inequality constraints...............:        0\n",
      "        inequality constraints with only lower bounds:        0\n",
      "   inequality constraints with lower and upper bounds:        0\n",
      "        inequality constraints with only upper bounds:        0\n",
      "\n",
      "iter    objective    inf_pr   inf_du lg(mu)  ||d||  lg(rg) alpha_du alpha_pr  ls\n",
      "   0  1.8176172e+02 8.76e+00 2.40e-01   0.0 0.00e+00    -  0.00e+00 0.00e+00   0\n",
      "   1  2.6525198e+02 7.35e+00 4.25e+01 -11.0 4.09e+01    -  1.00e+00 1.25e-01h  4\n",
      "   2  5.4483626e+02 9.77e+00 4.35e+02 -11.0 2.76e+01    -  1.00e+00 2.50e-01h  3\n",
      "   3  9.1145898e+02 3.13e+01 2.86e+02 -11.0 1.05e+01    -  1.00e+00 1.00e+00h  1\n",
      "   4  7.5111511e+02 5.49e+00 3.83e+01 -11.0 2.81e+00    -  1.00e+00 1.00e+00f  1\n",
      "   5  7.5063642e+02 1.71e+00 1.84e+01 -11.0 3.11e+00    -  1.00e+00 1.00e+00f  1\n",
      "   6  7.2759852e+02 8.01e+00 2.94e+01 -11.0 1.48e+01    -  1.00e+00 1.00e+00F  1\n",
      "   7  7.2063613e+02 1.94e+01 1.24e+01 -11.0 7.03e+00    -  1.00e+00 1.00e+00f  1\n",
      "   8  7.0576591e+02 2.96e+00 7.12e+00 -11.0 1.90e+00    -  1.00e+00 1.00e+00f  1\n",
      "   9  7.0696323e+02 5.17e-01 1.90e+00 -11.0 7.46e-01    -  1.00e+00 1.00e+00h  1\n",
      "iter    objective    inf_pr   inf_du lg(mu)  ||d||  lg(rg) alpha_du alpha_pr  ls\n",
      "  10  7.0700674e+02 1.27e-02 4.83e-01 -11.0 2.47e-01    -  1.00e+00 1.00e+00h  1\n",
      "  11  7.0690791e+02 5.35e-03 8.21e-01 -11.0 4.39e-01    -  1.00e+00 1.00e+00h  1\n",
      "  12  7.0674937e+02 5.63e-02 3.70e+00 -11.0 2.29e+00    -  1.00e+00 1.00e+00F  1\n",
      "  13  7.0673568e+02 9.46e-02 5.02e+00 -11.0 9.94e+00    -  1.00e+00 6.25e-02f  5\n",
      "  14  7.0670902e+02 3.54e-02 6.78e+00 -11.0 2.15e+00    -  1.00e+00 1.00e+00F  1\n",
      "  15  7.0655036e+02 2.14e-01 1.36e+00 -11.0 1.14e+00    -  1.00e+00 1.00e+00f  1\n",
      "  16  7.0613106e+02 2.25e-02 3.73e-01 -11.0 6.96e-01    -  1.00e+00 1.00e+00h  1\n",
      "  17  7.0610393e+02 1.29e-02 4.78e-01 -11.0 4.72e-01    -  1.00e+00 1.00e+00h  1\n",
      "  18  7.0603809e+02 1.82e-03 2.43e-01 -11.0 2.11e-01    -  1.00e+00 1.00e+00h  1\n",
      "  19  7.0603386e+02 6.35e-05 6.63e-01 -11.0 1.54e-01    -  1.00e+00 1.00e+00H  1\n",
      "iter    objective    inf_pr   inf_du lg(mu)  ||d||  lg(rg) alpha_du alpha_pr  ls\n",
      "  20  7.0602422e+02 1.56e-04 5.84e-02 -11.0 2.43e-01    -  1.00e+00 1.00e+00H  1\n",
      "  21  7.0602486e+02 1.24e-05 9.07e-03 -11.0 2.84e-02    -  1.00e+00 1.00e+00h  1\n",
      "  22  7.0602477e+02 1.36e-06 4.96e-03 -11.0 7.31e-03    -  1.00e+00 1.00e+00h  1\n",
      "  23  7.0602477e+02 6.79e-08 5.61e-05 -11.0 1.32e-03    -  1.00e+00 1.00e+00h  1\n",
      "  24  7.0602477e+02 5.28e-09 3.77e-06 -11.0 2.50e-04    -  1.00e+00 1.00e+00h  1\n",
      "  25  7.0602477e+02 9.51e-11 1.89e-06 -11.0 3.93e-05    -  1.00e+00 1.00e+00h  1\n",
      "  26  7.0602477e+02 1.77e-14 7.04e-07 -11.0 4.38e-05    -  1.00e+00 1.00e+00H  1\n",
      "\n",
      "Number of Iterations....: 26\n",
      "\n",
      "                                   (scaled)                 (unscaled)\n",
      "Objective...............:   7.0602477170171096e+02    7.0602477170171096e+02\n",
      "Dual infeasibility......:   7.0395737472583875e-07    7.0395737472583875e-07\n",
      "Constraint violation....:   1.7652546091539989e-14    1.7652546091539989e-14\n",
      "Variable bound violation:   0.0000000000000000e+00    0.0000000000000000e+00\n",
      "Complementarity.........:   0.0000000000000000e+00    0.0000000000000000e+00\n",
      "Overall NLP error.......:   7.0395737472583875e-07    7.0395737472583875e-07\n",
      "\n",
      "\n",
      "Number of objective function evaluations             = 47\n",
      "Number of objective gradient evaluations             = 27\n",
      "Number of equality constraint evaluations            = 47\n",
      "Number of inequality constraint evaluations          = 0\n",
      "Number of equality constraint Jacobian evaluations   = 27\n",
      "Number of inequality constraint Jacobian evaluations = 0\n",
      "Number of Lagrangian Hessian evaluations             = 0\n",
      "Total seconds in IPOPT                               = 1.191\n",
      "\n",
      "EXIT: Optimal Solution Found.\n"
     ]
    }
   ],
   "source": [
    "prob = ProblemMOI(n_nlp,m_nlp)\n",
    "z_sol = solve(z0,prob) # solve\n",
    "ztraj = reshape(z_sol,Nx+Nu,Nt)\n",
    "xtraj = ztraj[1:Nx,:]\n",
    "utraj = ztraj[(Nx+1):(Nx+Nu),:];"
   ]
  },
  {
   "cell_type": "code",
   "execution_count": 27,
   "metadata": {},
   "outputs": [
    {
     "data": {
      "image/png": "[encoded data removed]",
      "text/plain": [
       "Figure(PyObject <Figure size 640x480 with 1 Axes>)"
      ]
     },
     "metadata": {},
     "output_type": "display_data"
    },
    {
     "data": {
      "text/plain": [
       "1-element Vector{PyCall.PyObject}:\n",
       " PyObject <matplotlib.lines.Line2D object at 0x00000000E1D51B50>"
      ]
     },
     "execution_count": 27,
     "metadata": {},
     "output_type": "execute_result"
    }
   ],
   "source": [
    "plot(thist,xtraj[1,:])\n",
    "plot(thist,xtraj[2,:])\n",
    "plot(thist,xguess[1,:])"
   ]
  },
  {
   "cell_type": "code",
   "execution_count": 28,
   "metadata": {},
   "outputs": [
    {
     "data": {
      "image/png": "[encoded data removed]",
      "text/plain": [
       "Figure(PyObject <Figure size 640x480 with 1 Axes>)"
      ]
     },
     "metadata": {},
     "output_type": "display_data"
    },
    {
     "data": {
      "text/plain": [
       "1-element Vector{PyCall.PyObject}:\n",
       " PyObject <matplotlib.lines.Line2D object at 0x00000000E1D91700>"
      ]
     },
     "execution_count": 28,
     "metadata": {},
     "output_type": "execute_result"
    }
   ],
   "source": [
    "plot(thist,xtraj[3,:])\n",
    "plot(thist,xtraj[4,:])"
   ]
  },
  {
   "cell_type": "code",
   "execution_count": 29,
   "metadata": {},
   "outputs": [
    {
     "data": {
      "image/png": "[encoded data removed]",
      "text/plain": [
       "Figure(PyObject <Figure size 640x480 with 1 Axes>)"
      ]
     },
     "metadata": {},
     "output_type": "display_data"
    },
    {
     "data": {
      "text/plain": [
       "1-element Vector{PyCall.PyObject}:\n",
       " PyObject <matplotlib.lines.Line2D object at 0x00000000E1E08640>"
      ]
     },
     "execution_count": 29,
     "metadata": {},
     "output_type": "execute_result"
    }
   ],
   "source": [
    "plot(thist,utraj[1,:])"
   ]
  },
  {
   "cell_type": "code",
   "execution_count": 30,
   "metadata": {},
   "outputs": [
    {
     "data": {
      "text/plain": [
       "animate_acrobot (generic function with 1 method)"
      ]
     },
     "execution_count": 30,
     "metadata": {},
     "output_type": "execute_result"
    }
   ],
   "source": [
    "# Acrobot (doublependulum)\n",
    "import MeshCat as mc\n",
    "using Colors\n",
    "\n",
    "function RotX(alpha)\n",
    "    c, s = cos(alpha), sin(alpha)\n",
    "    [1 0 0; 0 c -s; 0 s  c]\n",
    "end\n",
    "\n",
    "function create_acrobot!(vis, color=colorant\"blue\", thick=0.05)\n",
    "    l1,l2 = [1.,1.]\n",
    "    hinge = mc.Cylinder(mc.Point(-0.05,0,0), mc.Point(0.05,0,0), 0.05)\n",
    "    dim1  = mc.Vec(thick, thick, l1)\n",
    "    link1 = mc.HyperRectangle(mc.Vec(-thick/2,-thick/2,0),dim1)\n",
    "    dim2  = mc.Vec(thick, thick, l2)\n",
    "    link2 = mc.HyperRectangle(mc.Vec(-thick/2,-thick/2,0),dim2)\n",
    "    mat1 = mc.MeshPhongMaterial(color=colorant\"grey\")\n",
    "    mat2 = mc.MeshPhongMaterial(color=color)\n",
    "    mc.setobject!(vis[\"base\"], hinge, mat1) \n",
    "    mc.setobject!(vis[\"link1\"], link1, mat2) \n",
    "    mc.setobject!(vis[\"link1\",\"joint\"], hinge, mat1) \n",
    "    mc.setobject!(vis[\"link1\",\"link2\"], link2, mat2) \n",
    "    mc.settransform!(vis[\"link1\",\"link2\"], mc.Translation(0,0,l1))\n",
    "    mc.settransform!(vis[\"link1\",\"joint\"], mc.Translation(0,0,l1))\n",
    "end\n",
    "\n",
    "function update_acro_pose!(vis, x)\n",
    "    l1, l2 = [1, 1.]\n",
    "    mc.settransform!(vis[\"robot\",\"link1\"], mc.LinearMap(RotX(x[1]-pi/2)))\n",
    "    mc.settransform!(vis[\"robot\",\"link1\",\"link2\"], mc.compose(mc.Translation(0,0,l1), mc.LinearMap(RotX(x[2]))))\n",
    "end\n",
    "\n",
    "function animate_acrobot(X, dt)\n",
    "    vis = mc.Visualizer()\n",
    "    create_acrobot!(vis[\"robot\"])\n",
    "    anim = mc.Animation(floor(Int,1/dt))\n",
    "    for k = 1:length(X)\n",
    "        mc.atframe(anim, k) do\n",
    "            update_acro_pose!(vis,X[k])\n",
    "        end\n",
    "    end\n",
    "    mc.setanimation!(vis, anim)\n",
    "    return mc.render(vis)\n",
    "end"
   ]
  },
  {
   "cell_type": "code",
   "execution_count": 31,
   "metadata": {},
   "outputs": [
    {
     "name": "stderr",
     "output_type": "stream",
     "text": [
      "\u001b[36m\u001b[1m┌ \u001b[22m\u001b[39m\u001b[36m\u001b[1mInfo: \u001b[22m\u001b[39mMeshCat server started. You can open the visualizer by visiting the following URL in your browser:\n",
      "\u001b[36m\u001b[1m└ \u001b[22m\u001b[39mhttp://127.0.0.1:8701\n"
     ]
    },
    {
     "data": {
      "text/html": [
       "    <div style=\"height: 500px; width: 100%; overflow-x: auto; overflow-y: hidden; resize: both\">\n",
       "    <iframe src=\"http://127.0.0.1:8701\" style=\"width: 100%; height: 100%; border: none\"></iframe>\n",
       "    </div>\n"
      ],
      "text/plain": [
       "MeshCat.DisplayedVisualizer(MeshCat.CoreVisualizer(MeshCat.SceneTrees.SceneNode(nothing, nothing, Dict{String, Vector{UInt8}}(), UInt8[0x83, 0xa7, 0x6f, 0x70, 0x74, 0x69, 0x6f, 0x6e, 0x73, 0x82  …  0x5f, 0x61, 0x6e, 0x69, 0x6d, 0x61, 0x74, 0x69, 0x6f, 0x6e], Dict{String, MeshCat.SceneTrees.SceneNode}(\"meshcat\" => MeshCat.SceneTrees.SceneNode(nothing, nothing, Dict{String, Vector{UInt8}}(), nothing, Dict{String, MeshCat.SceneTrees.SceneNode}(\"robot\" => MeshCat.SceneTrees.SceneNode(nothing, nothing, Dict{String, Vector{UInt8}}(), nothing, Dict{String, MeshCat.SceneTrees.SceneNode}(\"base\" => MeshCat.SceneTrees.SceneNode(UInt8[0x83, 0xa6, 0x6f, 0x62, 0x6a, 0x65, 0x63, 0x74, 0x84, 0xaa  …  0x72, 0x6f, 0x62, 0x6f, 0x74, 0x2f, 0x62, 0x61, 0x73, 0x65], nothing, Dict{String, Vector{UInt8}}(), nothing, Dict{String, MeshCat.SceneTrees.SceneNode}()), \"link1\" => MeshCat.SceneTrees.SceneNode(UInt8[0x83, 0xa6, 0x6f, 0x62, 0x6a, 0x65, 0x63, 0x74, 0x84, 0xaa  …  0x6f, 0x62, 0x6f, 0x74, 0x2f, 0x6c, 0x69, 0x6e, 0x6b, 0x31], nothing, Dict{String, Vector{UInt8}}(), nothing, Dict{String, MeshCat.SceneTrees.SceneNode}(\"joint\" => MeshCat.SceneTrees.SceneNode(UInt8[0x83, 0xa6, 0x6f, 0x62, 0x6a, 0x65, 0x63, 0x74, 0x84, 0xaa  …  0x69, 0x6e, 0x6b, 0x31, 0x2f, 0x6a, 0x6f, 0x69, 0x6e, 0x74], UInt8[0x83, 0xa6, 0x6d, 0x61, 0x74, 0x72, 0x69, 0x78, 0xc7, 0x40  …  0x69, 0x6e, 0x6b, 0x31, 0x2f, 0x6a, 0x6f, 0x69, 0x6e, 0x74], Dict{String, Vector{UInt8}}(), nothing, Dict{String, MeshCat.SceneTrees.SceneNode}()), \"link2\" => MeshCat.SceneTrees.SceneNode(UInt8[0x83, 0xa6, 0x6f, 0x62, 0x6a, 0x65, 0x63, 0x74, 0x84, 0xaa  …  0x69, 0x6e, 0x6b, 0x31, 0x2f, 0x6c, 0x69, 0x6e, 0x6b, 0x32], UInt8[0x83, 0xa6, 0x6d, 0x61, 0x74, 0x72, 0x69, 0x78, 0xc7, 0x40  …  0x69, 0x6e, 0x6b, 0x31, 0x2f, 0x6c, 0x69, 0x6e, 0x6b, 0x32], Dict{String, Vector{UInt8}}(), nothing, Dict{String, MeshCat.SceneTrees.SceneNode}()))))))))), Set{Any}(), ip\"127.0.0.1\", 8701))"
      ]
     },
     "execution_count": 31,
     "metadata": {},
     "output_type": "execute_result"
    }
   ],
   "source": [
    "X1 = [Vector(x) for x in eachcol(xtraj)];\n",
    "animate_acrobot(X1, h)"
   ]
  },
  {
   "cell_type": "code",
   "execution_count": null,
   "metadata": {},
   "outputs": [],
   "source": []
  }
 ],
 "metadata": {
  "kernelspec": {
   "display_name": "Julia 1.6.7",
   "language": "julia",
   "name": "julia-1.6"
  },
  "language_info": {
   "file_extension": ".jl",
   "mimetype": "application/julia",
   "name": "julia",
   "version": "1.6.7"
  }
 },
 "nbformat": 4,
 "nbformat_minor": 4
}
