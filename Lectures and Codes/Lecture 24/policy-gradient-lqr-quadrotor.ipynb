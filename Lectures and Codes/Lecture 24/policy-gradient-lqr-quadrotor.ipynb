{
 "cells": [
  {
   "cell_type": "code",
   "execution_count": 1,
   "id": "89f1cd70-b334-4e3e-a024-53eacb49d744",
   "metadata": {},
   "outputs": [
    {
     "name": "stderr",
     "output_type": "stream",
     "text": [
      "\u001b[32m\u001b[1m  Activating\u001b[22m\u001b[39m project at `~/OCRL/RL`\n"
     ]
    }
   ],
   "source": [
    "using Pkg; Pkg.activate(\".\"); Pkg.instantiate()\n",
    "using LinearAlgebra\n",
    "using PyPlot\n",
    "using ControlSystems\n",
    "using ForwardDiff"
   ]
  },
  {
   "cell_type": "code",
   "execution_count": 2,
   "id": "e237bfca-1690-46db-9ff8-f684e3a58aab",
   "metadata": {},
   "outputs": [
    {
     "data": {
      "text/plain": [
       "0.2"
      ]
     },
     "execution_count": 2,
     "metadata": {},
     "output_type": "execute_result"
    }
   ],
   "source": [
    "#Model parameters\n",
    "g = 9.81 #m/s^2\n",
    "m = 1.0 #kg \n",
    "ℓ = 0.3 #meters\n",
    "\n",
    "h = 0.2 #time step (5 Hz)"
   ]
  },
  {
   "cell_type": "code",
   "execution_count": 3,
   "id": "084aa1bd-c38e-4e66-aed1-99ee96f65c77",
   "metadata": {},
   "outputs": [
    {
     "data": {
      "text/plain": [
       "quad_dynamics (generic function with 1 method)"
      ]
     },
     "execution_count": 3,
     "metadata": {},
     "output_type": "execute_result"
    }
   ],
   "source": [
    "#Planar Quadrotor Dynamics\n",
    "function quad_dynamics(x,u)\n",
    "    θ = x[3]\n",
    "    \n",
    "    ẍ = (1/m)*(u[1] + u[2])*sin(θ)\n",
    "    ÿ = (1/m)*(u[1] + u[2])*cos(θ) - g\n",
    "    θ̈ = (1/(0.2*m*ℓ*ℓ))*(ℓ/2)*(u[2] - u[1])\n",
    "    \n",
    "    return [x[4:6]; ẍ; ÿ; θ̈]\n",
    "end"
   ]
  },
  {
   "cell_type": "code",
   "execution_count": 4,
   "id": "a5247c41-b8a1-4288-934d-92d6bdc6cf6c",
   "metadata": {},
   "outputs": [
    {
     "data": {
      "text/plain": [
       "quad_dynamics_rk4 (generic function with 1 method)"
      ]
     },
     "execution_count": 4,
     "metadata": {},
     "output_type": "execute_result"
    }
   ],
   "source": [
    "function quad_dynamics_rk4(x,u)\n",
    "    #RK4 integration with zero-order hold on u\n",
    "    f1 = quad_dynamics(x, u)\n",
    "    f2 = quad_dynamics(x + 0.5*h*f1, u)\n",
    "    f3 = quad_dynamics(x + 0.5*h*f2, u)\n",
    "    f4 = quad_dynamics(x + h*f3, u)\n",
    "    return x + (h/6.0)*(f1 + 2*f2 + 2*f3 + f4)\n",
    "end"
   ]
  },
  {
   "cell_type": "code",
   "execution_count": 5,
   "id": "d539b293-8a89-4d4c-a1f9-25abdc6616e0",
   "metadata": {},
   "outputs": [],
   "source": [
    "#Linearized dynamics for hovering\n",
    "x_hover = zeros(6)\n",
    "u_hover = [0.5*m*g; 0.5*m*g]\n",
    "A = ForwardDiff.jacobian(x->quad_dynamics_rk4(x,u_hover),x_hover);\n",
    "B = ForwardDiff.jacobian(u->quad_dynamics_rk4(x_hover,u),u_hover);"
   ]
  },
  {
   "cell_type": "code",
   "execution_count": 6,
   "id": "aaf85a16-c227-4d4e-9f68-aacae7cf6340",
   "metadata": {},
   "outputs": [],
   "source": [
    "n = 6     # number of state\n",
    "m = 2     # number of controls\n",
    "Tfinal = 10.0 # final time\n",
    "N = Int(Tfinal/h)+1    # number of time steps\n",
    "thist = Array(range(0,h*(N-1), step=h));"
   ]
  },
  {
   "cell_type": "code",
   "execution_count": 7,
   "id": "774b52e5-6fb4-45d7-9e64-ecd85a3e766a",
   "metadata": {},
   "outputs": [],
   "source": [
    "#2D Quadrotor Problem\n",
    "x0 = [1.0; -0.5; 0; 0; 0; 0]\n",
    "\n",
    "#LQR Cost Matrices\n",
    "Q = Array(1.0*I(n))\n",
    "R = Array(0.1*I(m))\n",
    "#Qf = Array(1.0*I(2));\n",
    "Qf = dare(A,B,Q,R); #This makes sure that the infinite-horizon K is the solution to the finite-horizon problem"
   ]
  },
  {
   "cell_type": "code",
   "execution_count": 8,
   "id": "fa335ca9-af9c-4dd6-9965-8a69dfe5dedc",
   "metadata": {},
   "outputs": [
    {
     "data": {
      "text/plain": [
       "cost_to_go (generic function with 1 method)"
      ]
     },
     "execution_count": 8,
     "metadata": {},
     "output_type": "execute_result"
    }
   ],
   "source": [
    "function cost(x0, K)\n",
    "    xtraj = zeros(n, N)\n",
    "    utraj = zeros(m, N-1)\n",
    "    vtraj = zeros(m, N-1)\n",
    "    rollout!(xtraj,utraj,vtraj,x0,K,zeros(m,m),zeros(n,n))\n",
    "    J = cost(xtraj,utraj,Q,R,Qf)\n",
    "    return J\n",
    "end\n",
    "function cost(xtraj,utraj,Q,R,Qf)\n",
    "    J = 0.0\n",
    "    for k = 1:(N-1)\n",
    "        j = 0.5*xtraj[:,k]'*Q*xtraj[:,k] + 0.5*utraj[:,k]'*R*utraj[:,k]\n",
    "        J += j\n",
    "    end\n",
    "    j = 0.5*xtraj[:,N]'*Qf*xtraj[:,N]\n",
    "    J += j\n",
    "    return J\n",
    "end\n",
    "\n",
    "function cost_to_go(xtraj,utraj,Q,R,Qf)\n",
    "    costvec = zeros(N)\n",
    "    for k = 1:(N-1)\n",
    "        j = 0.5*xtraj[:,k]'*Q*xtraj[:,k] + 0.5*utraj[:,k]'*R*utraj[:,k]\n",
    "        costvec[k] = j\n",
    "    end\n",
    "    j = 0.5*xtraj[:,N]'*Qf*xtraj[:,N]\n",
    "    costvec[N] = j\n",
    "    cost_to_go = zeros(N)\n",
    "    for k = 1:N\n",
    "        cost_to_go[k] = sum(costvec[k:end])\n",
    "    end\n",
    "    return cost_to_go\n",
    "end"
   ]
  },
  {
   "cell_type": "code",
   "execution_count": 9,
   "id": "98c8cc49-5d4a-4540-a5c1-9836ba793358",
   "metadata": {},
   "outputs": [
    {
     "data": {
      "text/plain": [
       "2×6 Matrix{Float64}:\n",
       " -0.173043  1.32479  -1.5023  -0.287999  1.75495  -0.430164\n",
       "  0.173043  1.32479   1.5023   0.287999  1.75495   0.430164"
      ]
     },
     "execution_count": 9,
     "metadata": {},
     "output_type": "execute_result"
    }
   ],
   "source": [
    "#Groud Truth Solution (Infinite-Horizon LQR Gain)\n",
    "K_true = dlqr(A,B,Q,R)"
   ]
  },
  {
   "cell_type": "code",
   "execution_count": 10,
   "id": "946867d0-8d0e-4e05-9735-d4bd9357f23e",
   "metadata": {},
   "outputs": [],
   "source": [
    "#Ground-truth Closed-loop simulation with LQR controller\n",
    "\n",
    "function rollout!(xtraj,utraj,vtraj,x0,K,V,W)\n",
    "    xtraj[:,1] .= x0\n",
    "    for k = 1:(N-1)\n",
    "        vtraj[:,k] .= sqrt(V)*randn(m)\n",
    "        utraj[:,k] .= -K*xtraj[:,k] + vtraj[:,k]\n",
    "        xtraj[:,k+1] .= A*xtraj[:,k] + B*utraj[:,k] + sqrt(W)*randn(n)\n",
    "    end\n",
    "end\n",
    "    \n",
    "xtraj_true = zeros(n,N)\n",
    "utraj_true = zeros(m,N-1)\n",
    "vtraj_true = zeros(m,N-1)\n",
    "\n",
    "rollout!(xtraj_true,utraj_true,vtraj_true,x0,K_true,zeros(m,m),zeros(n,n))"
   ]
  },
  {
   "cell_type": "code",
   "execution_count": 11,
   "id": "56f7254b-f092-4231-bb87-3e88068a3232",
   "metadata": {},
   "outputs": [
    {
     "data": {
      "image/png": "[encoded data removed]",
      "text/plain": [
       "Figure(PyObject <Figure size 640x480 with 1 Axes>)"
      ]
     },
     "metadata": {},
     "output_type": "display_data"
    },
    {
     "data": {
      "text/plain": [
       "1-element Vector{PyCall.PyObject}:\n",
       " PyObject <matplotlib.lines.Line2D object at 0x7faa5808e0b8>"
      ]
     },
     "execution_count": 11,
     "metadata": {},
     "output_type": "execute_result"
    }
   ],
   "source": [
    "plot(xtraj_true[1,:])\n",
    "plot(xtraj_true[2,:])\n",
    "plot(xtraj_true[3,:])"
   ]
  },
  {
   "cell_type": "code",
   "execution_count": 12,
   "id": "404f17a0-101b-40db-a590-410f117a28e8",
   "metadata": {},
   "outputs": [
    {
     "data": {
      "image/png": "[encoded data removed]",
      "text/plain": [
       "Figure(PyObject <Figure size 640x480 with 1 Axes>)"
      ]
     },
     "metadata": {},
     "output_type": "display_data"
    },
    {
     "data": {
      "text/plain": [
       "1-element Vector{PyCall.PyObject}:\n",
       " PyObject <matplotlib.lines.Line2D object at 0x7faa521ffbe0>"
      ]
     },
     "execution_count": 12,
     "metadata": {},
     "output_type": "execute_result"
    }
   ],
   "source": [
    "plot(utraj_true[1,:])\n",
    "plot(utraj_true[2,:])"
   ]
  },
  {
   "cell_type": "code",
   "execution_count": 17,
   "id": "5713d342-592f-4cb9-ba0d-b52219412d3d",
   "metadata": {},
   "outputs": [],
   "source": [
    "#Policy-Gradient Algorithm\n",
    "iter = 1000 #number of outer-loop iterations\n",
    "batch_size = 100 #number of rollouts per minibatch to estimate policy gradient\n",
    "\n",
    "α0 = 0.01#1e-3 #step size (\"learning rate\")\n",
    "β1 = 0.9\n",
    "β2 = 0.999\n",
    "ϵ = 1e-8\n",
    "\n",
    "V = 0.001*I(m) #noise covariance for policy (\"exploration\")\n",
    "W = zeros(n,n) #noise covariance for dynamics (process noise)\n",
    "\n",
    "K0 = zeros(m,n)\n",
    "K = deepcopy(K0)\n",
    "baseline = 0.0\n",
    "iter_costs = zeros(iter)\n",
    "batch_costs = zeros(N,batch_size)\n",
    "batch_vxt = zeros(N-1, m, n, batch_size)\n",
    "\n",
    "adam_m = zeros(m,n)\n",
    "adam_v = zeros(m,n)\n",
    "\n",
    "xtraj_pg = zeros(n,N)\n",
    "utraj_pg = zeros(m,N-1)\n",
    "vtraj_pg = zeros(m,N-1);"
   ]
  },
  {
   "cell_type": "code",
   "execution_count": 14,
   "id": "93042bc9-01bb-43c6-9d84-217dad8911c3",
   "metadata": {},
   "outputs": [],
   "source": [
    "#ADAM\n",
    "for k = 1:iter\n",
    "    \n",
    "    #Do a bunch of rollouts with stochastic policy\n",
    "    for j = 1:batch_size\n",
    "        rollout!(xtraj_pg,utraj_pg,vtraj_pg,x0,K,V,W)\n",
    "        batch_costs[:,j] .= cost_to_go(xtraj_pg,utraj_pg,Q,R,Qf)\n",
    "        batch_vxt[:,:,:,j] .= reshape(vtraj_pg, N-1, m, 1).*reshape(xtraj_pg[:,1:N-1]', N-1, 1, n)\n",
    "    end\n",
    "    \n",
    "    #Evaluate policy gradient from batch\n",
    "    grad = zeros(m,n)\n",
    "    baseline = (1.0/batch_size)*sum(batch_costs[1,:]) #use average cost as baseline\n",
    "    for j = 1:batch_size\n",
    "        grad -= sum(reshape(((batch_costs[1:N-1,j] .- baseline)./batch_size), N-1, 1, 1).*batch_vxt[:,:,:,j], dims=1)[1, :, :]\n",
    "    end\n",
    "    \n",
    "    #Take ADAM step\n",
    "    adam_m = β1*adam_m + (1-β1)*grad\n",
    "    adam_v = β2*adam_v + (1-β2)*(grad.*grad)\n",
    "    α = α0*sqrt(1-β2^(k+1))/(1-β1^(k+1))\n",
    "    K -= α*adam_m./(sqrt.(adam_v).+ϵ)\n",
    "\n",
    "    \n",
    "    #Evaluate cost for plotting\n",
    "    rollout!(xtraj_pg,utraj_pg,vtraj_pg,x0,K,zeros(m,m),zeros(n,n))\n",
    "    iter_costs[k] = cost(xtraj_pg,utraj_pg,Q,R,Qf)\n",
    "end"
   ]
  },
  {
   "cell_type": "code",
   "execution_count": 15,
   "id": "55a4280b",
   "metadata": {},
   "outputs": [
    {
     "data": {
      "image/png": "[encoded data removed]",
      "text/plain": [
       "Figure(PyObject <Figure size 640x480 with 1 Axes>)"
      ]
     },
     "metadata": {},
     "output_type": "display_data"
    },
    {
     "data": {
      "text/plain": [
       "1-element Vector{PyCall.PyObject}:\n",
       " PyObject <matplotlib.lines.Line2D object at 0x7faa5216bba8>"
      ]
     },
     "execution_count": 15,
     "metadata": {},
     "output_type": "execute_result"
    }
   ],
   "source": [
    "plot(iter_costs)"
   ]
  },
  {
   "cell_type": "code",
   "execution_count": 103,
   "id": "a7443ad7",
   "metadata": {},
   "outputs": [],
   "source": [
    "#ADAM with line search\n",
    "for k = 1:iter\n",
    "    \n",
    "    #Do a bunch of rollouts with stochastic policy\n",
    "    for j = 1:batch_size\n",
    "        rollout!(xtraj_pg,utraj_pg,vtraj_pg,x0,K,V,W)\n",
    "        batch_costs[:,j] .= cost_to_go(xtraj_pg,utraj_pg,Q,R,Qf)\n",
    "        batch_vxt[:,:,:,j] .= reshape(vtraj_pg, N-1, m, 1).*reshape(xtraj_pg[:,1:N-1]', N-1, 1, n)\n",
    "    end\n",
    "    \n",
    "    #Evaluate policy gradient from batch\n",
    "    grad = zeros(m,n)\n",
    "    baseline = (1.0/batch_size)*sum(batch_costs[1,:]) #use average cost as baseline\n",
    "    for j = 1:batch_size\n",
    "        grad -= sum(reshape(((batch_costs[1:N-1,j] .- baseline)./batch_size), N-1, 1, 1).*batch_vxt[:,:,:,j], dims=1)[1, :, :]\n",
    "    end\n",
    "    \n",
    "    #Take ADAM step\n",
    "    adam_m = β1*adam_m + (1-β1)*grad\n",
    "    adam_v = β2*adam_v + (1-β2)*(grad.*grad)\n",
    "    \n",
    "    c_old = cost(x0,K)\n",
    "    c_new = c_old + 10000\n",
    "    K_new = deepcopy(K)\n",
    "    α = 10.0\n",
    "    while isnan(c_new) || c_new > c_old\n",
    "        K_new = K - α*adam_m./(sqrt.(adam_v).+ϵ)\n",
    "        c_new = cost(x0,K_new)\n",
    "        if α < 0.0000001\n",
    "            break\n",
    "        end\n",
    "        α = 0.5*α\n",
    "    end\n",
    "    if α > 0.0000001\n",
    "        K = K_new\n",
    "    end\n",
    "\n",
    "    \n",
    "    #Evaluate cost for plotting\n",
    "    rollout!(xtraj_pg,utraj_pg,vtraj_pg,x0,K,zeros(m,m),zeros(n,n))\n",
    "    iter_costs[k] = cost(xtraj_pg,utraj_pg,Q,R,Qf)\n",
    "end"
   ]
  },
  {
   "cell_type": "code",
   "execution_count": 104,
   "id": "20419553-cc2c-4852-aa92-afc12eb6d6af",
   "metadata": {},
   "outputs": [
    {
     "data": {
      "image/png": "[encoded data removed]",
      "text/plain": [
       "Figure(PyObject <Figure size 640x480 with 1 Axes>)"
      ]
     },
     "metadata": {},
     "output_type": "display_data"
    },
    {
     "data": {
      "text/plain": [
       "1-element Vector{PyCall.PyObject}:\n",
       " PyObject <matplotlib.lines.Line2D object at 0x7fe1b5a3b320>"
      ]
     },
     "execution_count": 104,
     "metadata": {},
     "output_type": "execute_result"
    }
   ],
   "source": [
    "plot(iter_costs)"
   ]
  },
  {
   "cell_type": "code",
   "execution_count": 105,
   "id": "e004d72b-4994-436e-bcab-0740757d6cfc",
   "metadata": {},
   "outputs": [
    {
     "data": {
      "image/png": "[encoded data removed]",
      "text/plain": [
       "Figure(PyObject <Figure size 640x480 with 1 Axes>)"
      ]
     },
     "metadata": {},
     "output_type": "display_data"
    },
    {
     "data": {
      "text/plain": [
       "1-element Vector{PyCall.PyObject}:\n",
       " PyObject <matplotlib.lines.Line2D object at 0x7fe1b5a23208>"
      ]
     },
     "execution_count": 105,
     "metadata": {},
     "output_type": "execute_result"
    }
   ],
   "source": [
    "plot(xtraj_pg[1,:])\n",
    "plot(xtraj_pg[2,:])\n",
    "plot(xtraj_pg[3,:])"
   ]
  },
  {
   "cell_type": "code",
   "execution_count": 109,
   "id": "56cbe43f-7030-4d22-bf31-bff6cee4a1d3",
   "metadata": {},
   "outputs": [
    {
     "data": {
      "text/plain": [
       "7.968849702394411"
      ]
     },
     "execution_count": 109,
     "metadata": {},
     "output_type": "execute_result"
    }
   ],
   "source": [
    "iter_costs[end]"
   ]
  },
  {
   "cell_type": "code",
   "execution_count": 90,
   "id": "00ec1058-172b-4d67-b15b-6b462d910626",
   "metadata": {},
   "outputs": [
    {
     "data": {
      "text/plain": [
       "4.988734311751817"
      ]
     },
     "execution_count": 90,
     "metadata": {},
     "output_type": "execute_result"
    }
   ],
   "source": [
    "true_cost = cost(xtraj_true,utraj_true,Q,R,Qf)"
   ]
  },
  {
   "cell_type": "code",
   "execution_count": 106,
   "id": "974f2278-2a81-4c26-99b8-496455b01237",
   "metadata": {},
   "outputs": [
    {
     "data": {
      "text/plain": [
       "2×6 Matrix{Float64}:\n",
       " -0.173043  1.32479  -1.5023  -0.287999  1.75495  -0.430164\n",
       "  0.173043  1.32479   1.5023   0.287999  1.75495   0.430164"
      ]
     },
     "execution_count": 106,
     "metadata": {},
     "output_type": "execute_result"
    }
   ],
   "source": [
    "K_true"
   ]
  },
  {
   "cell_type": "code",
   "execution_count": 107,
   "id": "29acffbe-2f2b-4296-98d4-617d087c06a0",
   "metadata": {},
   "outputs": [
    {
     "data": {
      "text/plain": [
       "2×6 Matrix{Float64}:\n",
       " -0.633506  1.06411   -1.27243   -1.02396   1.72148  -0.459599\n",
       " -0.270524  0.702524   0.125153  -0.167814  1.54813   0.698938"
      ]
     },
     "execution_count": 107,
     "metadata": {},
     "output_type": "execute_result"
    }
   ],
   "source": [
    "K"
   ]
  },
  {
   "cell_type": "code",
   "execution_count": 108,
   "id": "56506855-0aaa-4533-b347-d22a81644294",
   "metadata": {},
   "outputs": [
    {
     "data": {
      "text/plain": [
       "6-element Vector{Float64}:\n",
       " 0.8534805318507609\n",
       " 0.4373672885555224\n",
       " 0.964812992085612\n",
       " 0.964812992085612\n",
       " 0.8647661705230681\n",
       " 0.9594047915877671"
      ]
     },
     "execution_count": 108,
     "metadata": {},
     "output_type": "execute_result"
    }
   ],
   "source": [
    "norm.(eigvals(A-B*K))"
   ]
  },
  {
   "cell_type": "code",
   "execution_count": null,
   "id": "cbd7dd0f-ab4c-4ac2-bfb7-43321f7a2f89",
   "metadata": {},
   "outputs": [],
   "source": []
  }
 ],
 "metadata": {
  "kernelspec": {
   "display_name": "Julia 1.7.2",
   "language": "julia",
   "name": "julia-1.7"
  },
  "language_info": {
   "file_extension": ".jl",
   "mimetype": "application/julia",
   "name": "julia",
   "version": "1.7.2"
  }
 },
 "nbformat": 4,
 "nbformat_minor": 5
}
