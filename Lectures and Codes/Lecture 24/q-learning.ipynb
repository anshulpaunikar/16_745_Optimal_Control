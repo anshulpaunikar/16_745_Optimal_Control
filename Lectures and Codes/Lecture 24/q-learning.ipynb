{
 "cells": [
  {
   "cell_type": "code",
   "execution_count": 1,
   "id": "89f1cd70-b334-4e3e-a024-53eacb49d744",
   "metadata": {},
   "outputs": [
    {
     "name": "stderr",
     "output_type": "stream",
     "text": [
      "\u001b[32m\u001b[1m  Activating\u001b[22m\u001b[39m project at `~/OCRL/RL`\n"
     ]
    }
   ],
   "source": [
    "using Pkg; Pkg.activate(\".\"); Pkg.instantiate()\n",
    "using LinearAlgebra\n",
    "using PyPlot\n",
    "using ControlSystems\n",
    "import ForwardDiff as FD"
   ]
  },
  {
   "cell_type": "code",
   "execution_count": 2,
   "id": "774b52e5-6fb4-45d7-9e64-ecd85a3e766a",
   "metadata": {},
   "outputs": [
    {
     "data": {
      "text/plain": [
       "0.95"
      ]
     },
     "execution_count": 2,
     "metadata": {},
     "output_type": "execute_result"
    }
   ],
   "source": [
    "#1D Double-Integrator Problem\n",
    "N = 15\n",
    "n = 2\n",
    "m = 1\n",
    "x0 = [1.0; 0]\n",
    "u0 = 0.0\n",
    "dt = 1.0\n",
    "A = [1 dt; 0 1];\n",
    "B = [0.5*dt*dt; dt];\n",
    "gamma = 0.95"
   ]
  },
  {
   "cell_type": "code",
   "execution_count": 3,
   "id": "9991e244-66fc-4f01-b5e5-8947c761afd4",
   "metadata": {},
   "outputs": [],
   "source": [
    "#LQR Cost Matrices\n",
    "P = Array(1.0*I(2))\n",
    "R = Array(0.1*I(1))\n",
    "#Pf = Array(1.0*I(2));\n",
    "Pf = dare(A,B,P,R); #This makes sure that the infinite-horizon K is the solution to the finite-horizon problem"
   ]
  },
  {
   "cell_type": "code",
   "execution_count": 4,
   "id": "fa335ca9-af9c-4dd6-9965-8a69dfe5dedc",
   "metadata": {},
   "outputs": [
    {
     "data": {
      "text/plain": [
       "bellman_residual (generic function with 1 method)"
      ]
     },
     "execution_count": 4,
     "metadata": {},
     "output_type": "execute_result"
    }
   ],
   "source": [
    "#Cost Function\n",
    "function cost(xtraj,utraj,P,R,Pf)\n",
    "    J = 0.0\n",
    "    for k = 1:(N-1)\n",
    "        J += 0.5*xtraj[:,k]'*P*xtraj[:,k] + 0.5*(utraj[k]'*R*utraj[k])[1]\n",
    "    end\n",
    "    J += 0.5*xtraj[:,N]'*Pf*xtraj[:,N]\n",
    "end\n",
    "\n",
    "function cost!(xtraj,utraj,P,R,Pf, cost_batch)\n",
    "    J = 0.0\n",
    "    for k = 1:(N-1)\n",
    "        cost_batch[k] = 0.5*xtraj[:,k]'*P*xtraj[:,k] + 0.5*(utraj[k]'*R*utraj[k])[1]\n",
    "    end\n",
    "    cost_batch[N] = 0.5*xtraj[:,N]'*Pf*xtraj[:,N]\n",
    "end\n",
    "\n",
    "function Q_func(xi, ui, Qxx, Qux, Quu)\n",
    "    Q_val = 0.5*ui*Quu*ui + (xi'*Qux*ui)[1] + 0.5*xi'*Qxx*xi\n",
    "    return Q_val\n",
    "end\n",
    "\n",
    "function Q_func_grad(xi, ui, Q_vec)\n",
    "    uivec = [ui]\n",
    "    Lxx, Luu, Qux = get_Ls(Q_vec)\n",
    "    Luu_grad = reshape(Luu*uivec*uivec', m*m)\n",
    "    Qux_grad = reshape(xi*uivec', n*m)\n",
    "    Lxx_grad = reshape(Lxx*xi*xi', n*n)\n",
    "    Q_grad = vcat([Lxx_grad; Qux_grad; Luu_grad])\n",
    "    return Q_grad\n",
    "end    \n",
    "\n",
    "function Q_func_argmin(xi, Q_vec)\n",
    "    Qxx, Qux, Quu = get_Qs(Q_vec)\n",
    "    u_min = (-xi'*Qux/(Quu[1,1]))\n",
    "    Q_min = Q_func(xi, u_min[1], Qxx, Qux, Quu[1,1])\n",
    "    return u_min[1], Q_min\n",
    "end\n",
    "\n",
    "function bellman_residual(xi, ui, xi_1, costi, Qxx, Qux, Quu, Q_vec_targ)\n",
    "    res = Q_func(xi, ui, Qxx, Qux, Quu[1,1]) - (costi + gamma*Q_func_argmin(xi_1, Q_vec_targ)[2])\n",
    "    return res\n",
    "end"
   ]
  },
  {
   "cell_type": "code",
   "execution_count": 5,
   "id": "98c8cc49-5d4a-4540-a5c1-9836ba793358",
   "metadata": {},
   "outputs": [
    {
     "data": {
      "text/plain": [
       "1×2 Matrix{Float64}:\n",
       " 0.616695  1.27032"
      ]
     },
     "execution_count": 5,
     "metadata": {},
     "output_type": "execute_result"
    }
   ],
   "source": [
    "#Groud Truth Solution (Infinite-Horizon LQR Gain)\n",
    "K_true = dlqr(A,B,P,R)"
   ]
  },
  {
   "cell_type": "code",
   "execution_count": 6,
   "id": "946867d0-8d0e-4e05-9735-d4bd9357f23e",
   "metadata": {},
   "outputs": [],
   "source": [
    "#Ground-truth Closed-loop simulation with LQR controller\n",
    "\n",
    "function rollout!(xtraj,utraj,vtraj,x0, Q_vec,V,W)\n",
    "    xtraj[:,1] .= x0\n",
    "    for k = 1:(N-1)\n",
    "        vtraj[k] = sqrt(V)*randn()\n",
    "        u_opt = Q_func_argmin(xtraj[:, k], Q_vec)[1]\n",
    "        utraj[k] = u_opt + vtraj[k]\n",
    "        xtraj[:,k+1] .= A*xtraj[:,k] + B*utraj[k] + sqrt(W)*randn(2)\n",
    "    end\n",
    "end\n",
    "\n",
    "function rollout!(xtraj,utraj,vtraj,x0, K)\n",
    "    xtraj[:,1] .= x0\n",
    "    for k = 1:(N-1)\n",
    "        u_opt = -K*xtraj[:, k]\n",
    "        utraj[k] = u_opt[1]\n",
    "        xtraj[:,k+1] .= A*xtraj[:,k] + B*utraj[k]\n",
    "    end\n",
    "end\n",
    "\n",
    "function compute_Q_grad(xtraj, utraj, costtraj, Q_vec, Q_vec_targ)\n",
    "    Q_grad = zeros(n*n + n*m + m*m)\n",
    "    Q_res = zeros(N-1)\n",
    "    Qxx, Qux, Quu = get_Qs(Q_vec)\n",
    "    for k = 1:(N-1)\n",
    "        Q_res[k] = bellman_residual(xtraj[:,k], utraj[k], xtraj[:,k+1], costtraj[k], Qxx, Qux, Quu, Q_vec_targ)\n",
    "        Q_gradk = Q_func_grad(xtraj[:,k], utraj[k], Q_vec)\n",
    "        Q_grad[:] .+= Q_gradk*Q_res[k]\n",
    "    end\n",
    "    return Q_grad, Q_res\n",
    "end\n",
    "\n",
    "function get_Qs(Q_vec)\n",
    "    Lxx = reshape(Q_vec[1:n*n], n, n)\n",
    "    Qxx = Lxx'*Lxx\n",
    "    Qux = reshape(Q_vec[n*n+1:n*n+n*m], n, m)\n",
    "    Luu = reshape(Q_vec[n*n+n*m+1:end], m, m)\n",
    "    Quu = Luu'*Luu\n",
    "    return Qxx, Qux, Quu\n",
    "end\n",
    "\n",
    "function get_Ls(Q_vec)\n",
    "    Lxx = reshape(Q_vec[1:n*n], n, n)\n",
    "    Qux = reshape(Q_vec[n*n+1:n*n+n*m], n, m)\n",
    "    Luu = reshape(Q_vec[n*n+n*m+1:end], m, m)\n",
    "    return Lxx, Luu, Qux\n",
    "end\n",
    "\n",
    "\n",
    "xtraj_true = zeros(n,N)\n",
    "utraj_true = zeros(N-1)\n",
    "vtraj_true = zeros(N-1)\n",
    "\n",
    "rollout!(xtraj_true,utraj_true,vtraj_true,x0,K_true)"
   ]
  },
  {
   "cell_type": "code",
   "execution_count": 7,
   "id": "8926f73e",
   "metadata": {},
   "outputs": [
    {
     "data": {
      "text/plain": [
       "get_Q_vec (generic function with 1 method)"
      ]
     },
     "execution_count": 7,
     "metadata": {},
     "output_type": "execute_result"
    }
   ],
   "source": [
    "function get_Q_vec(K)\n",
    "    D = P + K'*R*K\n",
    "    M = zeros(n,n)\n",
    "    M .+= D*gamma\n",
    "    S = A - B*K\n",
    "    Si = S*gamma*gamma\n",
    "    for i=1:100\n",
    "        M .+= Si'*D*Si\n",
    "        Si = Si*S*gamma\n",
    "    end\n",
    "    Qxx = P + A'*M*A\n",
    "    Quu = R + [B'*M*B]\n",
    "    Qux = A'*M*B\n",
    "    Lxx = reshape(sqrt(Qxx), n*n)\n",
    "    Luu = reshape(sqrt(Quu), m*m)\n",
    "    Qux = reshape(Qux, n*m)\n",
    "    Q_vec = vcat([Lxx; Qux; Luu])\n",
    "    return Q_vec\n",
    "end"
   ]
  },
  {
   "cell_type": "code",
   "execution_count": 8,
   "id": "56f7254b-f092-4231-bb87-3e88068a3232",
   "metadata": {},
   "outputs": [
    {
     "name": "stdout",
     "output_type": "stream",
     "text": [
      "cost(xtraj_true, utraj_true, P, R, Pf) = 1.0299384521582335\n"
     ]
    },
    {
     "data": {
      "image/png": "[encoded data removed]",
      "text/plain": [
       "Figure(PyObject <Figure size 640x480 with 1 Axes>)"
      ]
     },
     "metadata": {},
     "output_type": "display_data"
    },
    {
     "data": {
      "text/plain": [
       "1.0299384521582335"
      ]
     },
     "execution_count": 8,
     "metadata": {},
     "output_type": "execute_result"
    }
   ],
   "source": [
    "plot(xtraj_true[1,:])\n",
    "plot(xtraj_true[2,:])\n",
    "@show cost(xtraj_true,utraj_true,P,R,Pf)"
   ]
  },
  {
   "cell_type": "code",
   "execution_count": 9,
   "id": "404f17a0-101b-40db-a590-410f117a28e8",
   "metadata": {},
   "outputs": [
    {
     "data": {
      "image/png": "[encoded data removed]",
      "text/plain": [
       "Figure(PyObject <Figure size 640x480 with 1 Axes>)"
      ]
     },
     "metadata": {},
     "output_type": "display_data"
    },
    {
     "data": {
      "text/plain": [
       "1-element Vector{PyCall.PyObject}:\n",
       " PyObject <matplotlib.lines.Line2D object at 0x7f711168b8d0>"
      ]
     },
     "execution_count": 9,
     "metadata": {},
     "output_type": "execute_result"
    }
   ],
   "source": [
    "plot(utraj_true)"
   ]
  },
  {
   "cell_type": "code",
   "execution_count": 41,
   "id": "5713d342-592f-4cb9-ba0d-b52219412d3d",
   "metadata": {},
   "outputs": [
    {
     "data": {
      "text/plain": [
       "14×50 Matrix{Float64}:\n",
       " 0.0  0.0  0.0  0.0  0.0  0.0  0.0  0.0  …  0.0  0.0  0.0  0.0  0.0  0.0  0.0\n",
       " 0.0  0.0  0.0  0.0  0.0  0.0  0.0  0.0     0.0  0.0  0.0  0.0  0.0  0.0  0.0\n",
       " 0.0  0.0  0.0  0.0  0.0  0.0  0.0  0.0     0.0  0.0  0.0  0.0  0.0  0.0  0.0\n",
       " 0.0  0.0  0.0  0.0  0.0  0.0  0.0  0.0     0.0  0.0  0.0  0.0  0.0  0.0  0.0\n",
       " 0.0  0.0  0.0  0.0  0.0  0.0  0.0  0.0     0.0  0.0  0.0  0.0  0.0  0.0  0.0\n",
       " 0.0  0.0  0.0  0.0  0.0  0.0  0.0  0.0  …  0.0  0.0  0.0  0.0  0.0  0.0  0.0\n",
       " 0.0  0.0  0.0  0.0  0.0  0.0  0.0  0.0     0.0  0.0  0.0  0.0  0.0  0.0  0.0\n",
       " 0.0  0.0  0.0  0.0  0.0  0.0  0.0  0.0     0.0  0.0  0.0  0.0  0.0  0.0  0.0\n",
       " 0.0  0.0  0.0  0.0  0.0  0.0  0.0  0.0     0.0  0.0  0.0  0.0  0.0  0.0  0.0\n",
       " 0.0  0.0  0.0  0.0  0.0  0.0  0.0  0.0     0.0  0.0  0.0  0.0  0.0  0.0  0.0\n",
       " 0.0  0.0  0.0  0.0  0.0  0.0  0.0  0.0  …  0.0  0.0  0.0  0.0  0.0  0.0  0.0\n",
       " 0.0  0.0  0.0  0.0  0.0  0.0  0.0  0.0     0.0  0.0  0.0  0.0  0.0  0.0  0.0\n",
       " 0.0  0.0  0.0  0.0  0.0  0.0  0.0  0.0     0.0  0.0  0.0  0.0  0.0  0.0  0.0\n",
       " 0.0  0.0  0.0  0.0  0.0  0.0  0.0  0.0     0.0  0.0  0.0  0.0  0.0  0.0  0.0"
      ]
     },
     "execution_count": 41,
     "metadata": {},
     "output_type": "execute_result"
    }
   ],
   "source": [
    "#Q-Learning Algorithm\n",
    "iter = 1000 #number of outer-loop iterations\n",
    "batch_size = 50 #number of rollouts for Q-learning update\n",
    "\n",
    "α0 = 0.01 #step size (\"learning rate\")\n",
    "β1 = 0.9\n",
    "β2 = 0.999\n",
    "ϵ = 1e-8\n",
    "\n",
    "V = 0.01 #noise covariance for policy (\"exploration\")\n",
    "W = zeros(2,2) #noise covariance for dynamics (process noise)\n",
    "\n",
    "iter_costs = zeros(iter)\n",
    "batch_vxt = zeros(1,2,batch_size)\n",
    "\n",
    "adam_m = zeros(n*n + n*m + m*m)\n",
    "adam_v = zeros(n*n + n*m + m*m)\n",
    "\n",
    "xtraj_pg = zeros(2,N)\n",
    "utraj_pg = zeros(N-1)\n",
    "vtraj_pg = zeros(N-1);\n",
    "\n",
    "Q_vec = get_Q_vec(K_true) + randn(n*n + n*m + m*m)*0.4\n",
    "Q_vec_targ = deepcopy(Q_vec)\n",
    "Qxx, Qux, Quu = get_Qs(Q_vec)\n",
    "\n",
    "batch_grads = zeros(n*n + n*m + m*m, batch_size)\n",
    "batch_costs = zeros(N)\n",
    "batch_res = zeros(N-1,batch_size)"
   ]
  },
  {
   "cell_type": "code",
   "execution_count": 42,
   "id": "1b8761e7-dc78-4c38-a6ba-f4306928cb73",
   "metadata": {},
   "outputs": [],
   "source": [
    "#Adam\n",
    "for k = 1:1000\n",
    "    \n",
    "    #Do a bunch of rollouts with epsilon greedy policy\n",
    "    for j = 1:batch_size\n",
    "        rollout!(xtraj_pg,utraj_pg,vtraj_pg,x0,Q_vec,V,W)\n",
    "        cost!(xtraj_pg,utraj_pg,P,R,Pf, batch_costs)\n",
    "        batch_grads_j, batch_res_j = compute_Q_grad(xtraj_pg, utraj_pg, batch_costs, Q_vec, Q_vec_targ)\n",
    "        batch_res[:, j] .= batch_res_j\n",
    "        batch_grads[:, j] .= batch_grads_j\n",
    "    end\n",
    "    \n",
    "    #Aggregate gradients\n",
    "    grad = zeros(n*n + n*m + m*m)\n",
    "    for j = 1:batch_size\n",
    "        grad += batch_grads[:,j]\n",
    "    end\n",
    "        \n",
    "    #Take Adam step on Q_vec using gradient estimate\n",
    "    adam_m = β1*adam_m + (1-β1)*grad\n",
    "    adam_v = β2*adam_v + (1-β2)*(grad.*grad)\n",
    "    \n",
    "    α = α0*sqrt(1-β2^(k+1))/(1-β1^(k+1))\n",
    "    \n",
    "    Q_vec -= α*adam_m./(sqrt.(adam_v).+ϵ)\n",
    "    Qxx, Qux, Quu = get_Qs(Q_vec)\n",
    "    Q_vec_targ = Q_vec*0.05 + Q_vec_targ*0.95\n",
    "    \n",
    "    #Evaluate cost for plotting\n",
    "    rollout!(xtraj_pg,utraj_pg,vtraj_pg,x0, Q_vec, 0,zeros(2,2))\n",
    "    iter_costs[k] = cost(xtraj_pg,utraj_pg,P,R,Pf)\n",
    "end"
   ]
  },
  {
   "cell_type": "code",
   "execution_count": 43,
   "id": "8f912c5a-07ed-4d8f-9066-23ca9d8cb992",
   "metadata": {},
   "outputs": [
    {
     "data": {
      "image/png": "[encoded data removed]",
      "text/plain": [
       "Figure(PyObject <Figure size 640x480 with 1 Axes>)"
      ]
     },
     "metadata": {},
     "output_type": "display_data"
    },
    {
     "data": {
      "text/plain": [
       "1-element Vector{PyCall.PyObject}:\n",
       " PyObject <matplotlib.lines.Line2D object at 0x7f71103b3f98>"
      ]
     },
     "execution_count": 43,
     "metadata": {},
     "output_type": "execute_result"
    }
   ],
   "source": [
    "plot(iter_costs)"
   ]
  },
  {
   "cell_type": "code",
   "execution_count": 44,
   "id": "bb9d2e83-ad77-4792-a19d-a7c88aae811f",
   "metadata": {},
   "outputs": [
    {
     "data": {
      "text/plain": [
       "1.0299384521582335"
      ]
     },
     "execution_count": 44,
     "metadata": {},
     "output_type": "execute_result"
    }
   ],
   "source": [
    "true_cost = cost(xtraj_true,utraj_true,P,R,Pf)"
   ]
  },
  {
   "cell_type": "code",
   "execution_count": 45,
   "id": "948a5d5b-1c36-4508-8bbc-05992d06dd85",
   "metadata": {},
   "outputs": [
    {
     "data": {
      "text/plain": [
       "1.0299610974891849"
      ]
     },
     "execution_count": 45,
     "metadata": {},
     "output_type": "execute_result"
    }
   ],
   "source": [
    "iter_costs[end]"
   ]
  },
  {
   "cell_type": "code",
   "execution_count": 46,
   "id": "7d86642c",
   "metadata": {},
   "outputs": [
    {
     "data": {
      "text/plain": [
       "0.9980742997393562"
      ]
     },
     "execution_count": 46,
     "metadata": {},
     "output_type": "execute_result"
    }
   ],
   "source": [
    "Qxx, Qux, Quu = get_Qs(Q_vec)\n",
    "Q_func(xtraj_pg[:,1], utraj_pg[1], Qxx, Qux, Quu[1,1])"
   ]
  },
  {
   "cell_type": "code",
   "execution_count": 47,
   "id": "6e590668",
   "metadata": {},
   "outputs": [
    {
     "data": {
      "text/plain": [
       "1.0005542590697414"
      ]
     },
     "execution_count": 47,
     "metadata": {},
     "output_type": "execute_result"
    }
   ],
   "source": [
    "function discounted_cost(xtraj,utraj,Q,R,Qf)\n",
    "    J = 0.0\n",
    "    for k = 1:(N-1)\n",
    "        J += (0.5*xtraj[:,k]'*Q*xtraj[:,k] + 0.5*(utraj[k]'*R*utraj[k])[1])*(gamma^(k-1))\n",
    "    end\n",
    "    J += 0.5*xtraj[:,N]'*Qf*xtraj[:,N]*(gamma^(N-1))\n",
    "end\n",
    "discounted_cost(xtraj_pg, utraj_pg,P,R,Pf)"
   ]
  },
  {
   "cell_type": "code",
   "execution_count": 48,
   "id": "974f2278-2a81-4c26-99b8-496455b01237",
   "metadata": {},
   "outputs": [
    {
     "data": {
      "text/plain": [
       "7-element Vector{Float64}:\n",
       " 1.5582106751697582\n",
       " 0.6141977925199543\n",
       " 0.6141977925199543\n",
       " 2.169942248770182\n",
       " 1.3871935777860347\n",
       " 2.9409766433038147\n",
       " 1.5321161360715438"
      ]
     },
     "execution_count": 48,
     "metadata": {},
     "output_type": "execute_result"
    }
   ],
   "source": [
    "Q_vec_true = get_Q_vec(K_true)\n",
    "Q_vec_true"
   ]
  },
  {
   "cell_type": "code",
   "execution_count": 49,
   "id": "29acffbe-2f2b-4296-98d4-617d087c06a0",
   "metadata": {},
   "outputs": [
    {
     "data": {
      "text/plain": [
       "7-element Vector{Float64}:\n",
       " 1.5000285621723994\n",
       " 0.869776091720707\n",
       " 0.3919933335171369\n",
       " 2.3418659809386044\n",
       " 1.6282492492832261\n",
       " 3.338399752339204\n",
       " 1.619809723591103"
      ]
     },
     "execution_count": 49,
     "metadata": {},
     "output_type": "execute_result"
    }
   ],
   "source": [
    "Q_vec"
   ]
  },
  {
   "cell_type": "code",
   "execution_count": 50,
   "id": "ec107d22-6de8-4ad0-8a12-f4bac6ffc188",
   "metadata": {},
   "outputs": [
    {
     "data": {
      "image/png": "[encoded data removed]",
      "text/plain": [
       "Figure(PyObject <Figure size 640x480 with 1 Axes>)"
      ]
     },
     "metadata": {},
     "output_type": "display_data"
    },
    {
     "data": {
      "text/plain": [
       "1-element Vector{PyCall.PyObject}:\n",
       " PyObject <matplotlib.lines.Line2D object at 0x7f7111311080>"
      ]
     },
     "execution_count": 50,
     "metadata": {},
     "output_type": "execute_result"
    }
   ],
   "source": [
    "plot(xtraj_pg[1,:])\n",
    "plot(xtraj_pg[2,:])"
   ]
  },
  {
   "cell_type": "code",
   "execution_count": 53,
   "id": "bc45b9ff-a351-485d-979b-c478130fdb53",
   "metadata": {},
   "outputs": [
    {
     "data": {
      "text/plain": [
       "14×50 Matrix{Float64}:\n",
       " 0.0  0.0  0.0  0.0  0.0  0.0  0.0  0.0  …  0.0  0.0  0.0  0.0  0.0  0.0  0.0\n",
       " 0.0  0.0  0.0  0.0  0.0  0.0  0.0  0.0     0.0  0.0  0.0  0.0  0.0  0.0  0.0\n",
       " 0.0  0.0  0.0  0.0  0.0  0.0  0.0  0.0     0.0  0.0  0.0  0.0  0.0  0.0  0.0\n",
       " 0.0  0.0  0.0  0.0  0.0  0.0  0.0  0.0     0.0  0.0  0.0  0.0  0.0  0.0  0.0\n",
       " 0.0  0.0  0.0  0.0  0.0  0.0  0.0  0.0     0.0  0.0  0.0  0.0  0.0  0.0  0.0\n",
       " 0.0  0.0  0.0  0.0  0.0  0.0  0.0  0.0  …  0.0  0.0  0.0  0.0  0.0  0.0  0.0\n",
       " 0.0  0.0  0.0  0.0  0.0  0.0  0.0  0.0     0.0  0.0  0.0  0.0  0.0  0.0  0.0\n",
       " 0.0  0.0  0.0  0.0  0.0  0.0  0.0  0.0     0.0  0.0  0.0  0.0  0.0  0.0  0.0\n",
       " 0.0  0.0  0.0  0.0  0.0  0.0  0.0  0.0     0.0  0.0  0.0  0.0  0.0  0.0  0.0\n",
       " 0.0  0.0  0.0  0.0  0.0  0.0  0.0  0.0     0.0  0.0  0.0  0.0  0.0  0.0  0.0\n",
       " 0.0  0.0  0.0  0.0  0.0  0.0  0.0  0.0  …  0.0  0.0  0.0  0.0  0.0  0.0  0.0\n",
       " 0.0  0.0  0.0  0.0  0.0  0.0  0.0  0.0     0.0  0.0  0.0  0.0  0.0  0.0  0.0\n",
       " 0.0  0.0  0.0  0.0  0.0  0.0  0.0  0.0     0.0  0.0  0.0  0.0  0.0  0.0  0.0\n",
       " 0.0  0.0  0.0  0.0  0.0  0.0  0.0  0.0     0.0  0.0  0.0  0.0  0.0  0.0  0.0"
      ]
     },
     "execution_count": 53,
     "metadata": {},
     "output_type": "execute_result"
    }
   ],
   "source": [
    "#Q-Learning Algorithm\n",
    "iter = 1000 #number of outer-loop iterations\n",
    "batch_size = 50 #number of rollouts for Q-learning update\n",
    "\n",
    "α0 = 0.01 #step size (\"learning rate\")\n",
    "β1 = 0.9\n",
    "β2 = 0.999\n",
    "ϵ = 1e-8\n",
    "\n",
    "V = 0.01 #noise covariance for policy (\"exploration\")\n",
    "W = zeros(2,2) #noise covariance for dynamics (process noise)\n",
    "\n",
    "iter_costs = zeros(iter)\n",
    "batch_vxt = zeros(1,2,batch_size)\n",
    "\n",
    "adam_m = zeros(n*n + n*m + m*m)\n",
    "adam_v = zeros(n*n + n*m + m*m)\n",
    "\n",
    "xtraj_pg = zeros(2,N)\n",
    "utraj_pg = zeros(N-1)\n",
    "vtraj_pg = zeros(N-1);\n",
    "\n",
    "Q_vec = get_Q_vec(K_true) + randn(n*n + n*m + m*m)\n",
    "Q_vec_targ = deepcopy(Q_vec)\n",
    "Qxx, Qux, Quu = get_Qs(Q_vec)\n",
    "\n",
    "batch_grads = zeros(n*n + n*m + m*m, batch_size)\n",
    "batch_costs = zeros(N)\n",
    "batch_res = zeros(N-1,batch_size)"
   ]
  },
  {
   "cell_type": "code",
   "execution_count": 54,
   "id": "187d154f",
   "metadata": {},
   "outputs": [],
   "source": [
    "#Adam\n",
    "for k = 1:1000\n",
    "    \n",
    "    #Do a bunch of rollouts with epsilon greedy policy\n",
    "    for j = 1:batch_size\n",
    "        rollout!(xtraj_pg,utraj_pg,vtraj_pg,x0,Q_vec,V,W)\n",
    "        cost!(xtraj_pg,utraj_pg,P,R,Pf, batch_costs)\n",
    "        batch_grads_j, batch_res_j = compute_Q_grad(xtraj_pg, utraj_pg, batch_costs, Q_vec, Q_vec_targ)\n",
    "        batch_res[:, j] .= batch_res_j\n",
    "        batch_grads[:, j] .= batch_grads_j\n",
    "    end\n",
    "    \n",
    "    #Aggregate gradients\n",
    "    grad = zeros(n*n + n*m + m*m)\n",
    "    for j = 1:batch_size\n",
    "        grad += batch_grads[:,j]\n",
    "    end\n",
    "        \n",
    "    #Take Adam step on Q_vec using gradient estimate\n",
    "    adam_m = β1*adam_m + (1-β1)*grad\n",
    "    adam_v = β2*adam_v + (1-β2)*(grad.*grad)\n",
    "    \n",
    "    α = α0*sqrt(1-β2^(k+1))/(1-β1^(k+1))\n",
    "    \n",
    "    Q_vec -= α*adam_m./(sqrt.(adam_v).+ϵ)\n",
    "    Qxx, Qux, Quu = get_Qs(Q_vec)\n",
    "    Q_vec_targ = Q_vec*0.05 + Q_vec_targ*0.95\n",
    "    \n",
    "    #Evaluate cost for plotting\n",
    "    rollout!(xtraj_pg,utraj_pg,vtraj_pg,x0, Q_vec, 0,zeros(2,2))\n",
    "    iter_costs[k] = cost(xtraj_pg,utraj_pg,P,R,Pf)\n",
    "end"
   ]
  },
  {
   "cell_type": "code",
   "execution_count": 55,
   "id": "e432fe06",
   "metadata": {},
   "outputs": [
    {
     "data": {
      "image/png": "[encoded data removed]",
      "text/plain": [
       "Figure(PyObject <Figure size 640x480 with 1 Axes>)"
      ]
     },
     "metadata": {},
     "output_type": "display_data"
    },
    {
     "data": {
      "text/plain": [
       "1-element Vector{PyCall.PyObject}:\n",
       " PyObject <matplotlib.lines.Line2D object at 0x7f7110386c88>"
      ]
     },
     "execution_count": 55,
     "metadata": {},
     "output_type": "execute_result"
    }
   ],
   "source": [
    "plot(iter_costs)"
   ]
  },
  {
   "cell_type": "code",
   "execution_count": 56,
   "id": "e4956c17",
   "metadata": {},
   "outputs": [
    {
     "data": {
      "text/plain": [
       "2.4621554758079114"
      ]
     },
     "execution_count": 56,
     "metadata": {},
     "output_type": "execute_result"
    }
   ],
   "source": [
    "iter_costs[end]"
   ]
  },
  {
   "cell_type": "code",
   "execution_count": null,
   "id": "9534d6db",
   "metadata": {},
   "outputs": [],
   "source": []
  }
 ],
 "metadata": {
  "kernelspec": {
   "display_name": "Julia 1.7.2",
   "language": "julia",
   "name": "julia-1.7"
  },
  "language_info": {
   "file_extension": ".jl",
   "mimetype": "application/julia",
   "name": "julia",
   "version": "1.7.2"
  }
 },
 "nbformat": 4,
 "nbformat_minor": 5
}
