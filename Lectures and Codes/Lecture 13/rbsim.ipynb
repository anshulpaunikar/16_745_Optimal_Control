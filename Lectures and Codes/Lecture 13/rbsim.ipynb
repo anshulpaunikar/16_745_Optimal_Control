{
 "cells": [
  {
   "cell_type": "code",
   "execution_count": 1,
   "id": "852cc810-f6dc-400d-b9e3-be8274023446",
   "metadata": {},
   "outputs": [
    {
     "name": "stderr",
     "output_type": "stream",
     "text": [
      "\u001b[32m\u001b[1m  Activating\u001b[22m\u001b[39m environment at `C:\\D Drive\\Courses\\Non Umich Courses\\CMU\\Optimal_Control_16_745\\Lectures and Codes\\Lecture 13\\Project.toml`\n"
     ]
    }
   ],
   "source": [
    "import Pkg; Pkg.activate(@__DIR__); Pkg.instantiate()"
   ]
  },
  {
   "cell_type": "code",
   "execution_count": 2,
   "id": "3b4881e0-e594-4800-b9b2-9ce861d9c0cb",
   "metadata": {},
   "outputs": [],
   "source": [
    "using LinearAlgebra\n",
    "using ForwardDiff"
   ]
  },
  {
   "cell_type": "code",
   "execution_count": 3,
   "id": "e5fcb4bf-a045-4910-8532-4ccce3dfd0bc",
   "metadata": {},
   "outputs": [
    {
     "data": {
      "text/plain": [
       "hat (generic function with 1 method)"
      ]
     },
     "execution_count": 3,
     "metadata": {},
     "output_type": "execute_result"
    }
   ],
   "source": [
    "function hat(v)\n",
    "    return [0 -v[3] v[2];\n",
    "            v[3] 0 -v[1];\n",
    "            -v[2] v[1] 0]\n",
    "end"
   ]
  },
  {
   "cell_type": "code",
   "execution_count": 4,
   "id": "df940483-86ce-4cef-ae3f-e3f67f3e3ae5",
   "metadata": {},
   "outputs": [
    {
     "data": {
      "text/plain": [
       "L (generic function with 1 method)"
      ]
     },
     "execution_count": 4,
     "metadata": {},
     "output_type": "execute_result"
    }
   ],
   "source": [
    "function L(q)\n",
    "    s = q[1]\n",
    "    v = q[2:4]\n",
    "    L = [s    -v';\n",
    "         v  s*I+hat(v)]\n",
    "    return L\n",
    "end"
   ]
  },
  {
   "cell_type": "code",
   "execution_count": 5,
   "id": "f369ce00-cd8e-4170-8918-acf5aad604b2",
   "metadata": {},
   "outputs": [
    {
     "data": {
      "text/plain": [
       "R (generic function with 1 method)"
      ]
     },
     "execution_count": 5,
     "metadata": {},
     "output_type": "execute_result"
    }
   ],
   "source": [
    "function R(q)\n",
    "    s = q[1]\n",
    "    v = q[2:4]\n",
    "    R = [s    -v';\n",
    "         v  s*I-hat(v)]\n",
    "    return R\n",
    "end"
   ]
  },
  {
   "cell_type": "code",
   "execution_count": 6,
   "id": "37243558-83b9-4b33-b5d9-21f3468a6c58",
   "metadata": {},
   "outputs": [],
   "source": [
    "T = Diagonal([1; -ones(3)])\n",
    "H = [zeros(1,3); I];"
   ]
  },
  {
   "cell_type": "code",
   "execution_count": 7,
   "id": "415243be-a32b-48c9-b052-254c1da2a193",
   "metadata": {},
   "outputs": [
    {
     "data": {
      "text/plain": [
       "Q (generic function with 1 method)"
      ]
     },
     "execution_count": 7,
     "metadata": {},
     "output_type": "execute_result"
    }
   ],
   "source": [
    "function G(q)\n",
    "    G = L(q)*H\n",
    "end\n",
    "\n",
    "function Q(q)\n",
    "    return H'*(R(q)'*L(q))*H\n",
    "end"
   ]
  },
  {
   "cell_type": "code",
   "execution_count": 8,
   "id": "468693dd-f4be-4b27-b4aa-d1d96a8e10a6",
   "metadata": {},
   "outputs": [
    {
     "data": {
      "text/plain": [
       "0.1"
      ]
     },
     "execution_count": 8,
     "metadata": {},
     "output_type": "execute_result"
    }
   ],
   "source": [
    "J = Diagonal([1; 2; 3])\n",
    "h = 0.1"
   ]
  },
  {
   "cell_type": "code",
   "execution_count": 9,
   "id": "0370d040-1802-4137-ac5e-c3a734fbac1b",
   "metadata": {},
   "outputs": [
    {
     "data": {
      "text/plain": [
       "7-element Vector{Float64}:\n",
       "  1.0\n",
       "  0.0\n",
       "  0.0\n",
       "  0.0\n",
       " -2.2407928047750922\n",
       " -0.23673441340621923\n",
       "  0.5954444772156684"
      ]
     },
     "execution_count": 9,
     "metadata": {},
     "output_type": "execute_result"
    }
   ],
   "source": [
    "#initial conditions\n",
    "Q0 = Array(I(3))\n",
    "q0 = [1; 0; 0; 0]\n",
    "ω0 = randn(3)\n",
    "x0 = [vec(Q0); ω0]\n",
    "x0q = [q0; ω0]"
   ]
  },
  {
   "cell_type": "code",
   "execution_count": 10,
   "id": "a8c05162-9c79-416c-b36d-d199a1da9684",
   "metadata": {},
   "outputs": [
    {
     "data": {
      "text/plain": [
       "dynamics (generic function with 1 method)"
      ]
     },
     "execution_count": 10,
     "metadata": {},
     "output_type": "execute_result"
    }
   ],
   "source": [
    "#dynamics\n",
    "function dynamics(x)\n",
    "    Q = reshape(x[1:9],3,3)\n",
    "    ω = x[10:12]\n",
    "    \n",
    "    Q̇ = Q*hat(ω)\n",
    "    ω̇ = -J\\(hat(ω)*J*ω)\n",
    "\n",
    "    ẋ = [vec(Q̇); ω̇]\n",
    "end"
   ]
  },
  {
   "cell_type": "code",
   "execution_count": 11,
   "id": "a8ef3f75-5412-454b-91d1-90db2ec336e7",
   "metadata": {},
   "outputs": [
    {
     "data": {
      "text/plain": [
       "rkstep (generic function with 1 method)"
      ]
     },
     "execution_count": 11,
     "metadata": {},
     "output_type": "execute_result"
    }
   ],
   "source": [
    "function rkstep(x)\n",
    "    f1 = dynamics(x)\n",
    "    f2 = dynamics(x + 0.5*h*f1)\n",
    "    f3 = dynamics(x + 0.5*h*f2)\n",
    "    f4 = dynamics(x + h*f3)\n",
    "    xn = x + (h/6.0)*(f1 + 2*f2 + 2*f3 + f4)\n",
    "    return xn\n",
    "end"
   ]
  },
  {
   "cell_type": "code",
   "execution_count": 12,
   "id": "d8a8b470-3cff-4a5e-9094-81494d9bf84b",
   "metadata": {},
   "outputs": [],
   "source": [
    "xk = x0\n",
    "for k = 1:10000\n",
    "    xk = rkstep(xk)\n",
    "end"
   ]
  },
  {
   "cell_type": "code",
   "execution_count": 13,
   "id": "6190591d-839b-411c-9217-793aac0e507e",
   "metadata": {},
   "outputs": [
    {
     "data": {
      "text/plain": [
       "3×3 Matrix{Float64}:\n",
       "  0.100288     -0.942715   -0.304359\n",
       "  0.000405349  -0.306557    0.94113\n",
       " -0.989348     -0.0853291  -0.0295668"
      ]
     },
     "execution_count": 13,
     "metadata": {},
     "output_type": "execute_result"
    }
   ],
   "source": [
    "Qk = reshape(xk[1:9],3,3)"
   ]
  },
  {
   "cell_type": "code",
   "execution_count": 14,
   "id": "e6ab480e-05a4-4ef9-81cc-cfe74618fbbc",
   "metadata": {},
   "outputs": [
    {
     "data": {
      "text/plain": [
       "3×3 Matrix{Float64}:\n",
       "  0.988868   -0.0102469    -0.0008901\n",
       " -0.0102469   0.98997       0.000936703\n",
       " -0.0008901   0.000936703   0.979235"
      ]
     },
     "execution_count": 14,
     "metadata": {},
     "output_type": "execute_result"
    }
   ],
   "source": [
    "Qk'*Qk"
   ]
  },
  {
   "cell_type": "code",
   "execution_count": 15,
   "id": "8eaa0035-4020-4240-8215-9663b390cc7d",
   "metadata": {},
   "outputs": [
    {
     "data": {
      "text/plain": [
       "qdynamics (generic function with 1 method)"
      ]
     },
     "execution_count": 15,
     "metadata": {},
     "output_type": "execute_result"
    }
   ],
   "source": [
    "#quaternion dynamics\n",
    "function qdynamics(x)\n",
    "    q = x[1:4]\n",
    "    ω = x[5:7]\n",
    "    \n",
    "    q̇ = 0.5*L(q)*H*ω\n",
    "    ω̇ = -J\\(hat(ω)*J*ω)\n",
    "\n",
    "    ẋ = [q̇; ω̇]\n",
    "end"
   ]
  },
  {
   "cell_type": "code",
   "execution_count": 16,
   "id": "d0b295da-c058-43a1-805f-3703da5545a7",
   "metadata": {},
   "outputs": [
    {
     "data": {
      "text/plain": [
       "qrkstep (generic function with 1 method)"
      ]
     },
     "execution_count": 16,
     "metadata": {},
     "output_type": "execute_result"
    }
   ],
   "source": [
    "function qrkstep(x)\n",
    "    f1 = qdynamics(x)\n",
    "    f2 = qdynamics(x + 0.5*h*f1)\n",
    "    f3 = qdynamics(x + 0.5*h*f2)\n",
    "    f4 = qdynamics(x + h*f3)\n",
    "    xn = x + (h/6.0)*(f1 + 2*f2 + 2*f3 + f4)\n",
    "    xn[1:4] .= xn[1:4]./norm(xn[1:4])\n",
    "    return xn\n",
    "end"
   ]
  },
  {
   "cell_type": "code",
   "execution_count": 17,
   "id": "c2891453-84e3-41ec-8dc6-18bdf571a998",
   "metadata": {},
   "outputs": [],
   "source": [
    "xkq = x0q\n",
    "for k = 1:10000\n",
    "    xkq = qrkstep(xkq)\n",
    "end"
   ]
  },
  {
   "cell_type": "code",
   "execution_count": 18,
   "id": "8bd11529-0930-414a-a0b5-63ac3b7e4e21",
   "metadata": {},
   "outputs": [
    {
     "data": {
      "text/plain": [
       "4-element Vector{Float64}:\n",
       " -0.41752204204890503\n",
       "  0.6145699356285862\n",
       " -0.39498777651418093\n",
       " -0.5403367422535427"
      ]
     },
     "execution_count": 18,
     "metadata": {},
     "output_type": "execute_result"
    }
   ],
   "source": [
    "qk = xkq[1:4]"
   ]
  },
  {
   "cell_type": "code",
   "execution_count": 19,
   "id": "5381338f-4c0c-40ae-a24a-4b4e682dcec2",
   "metadata": {},
   "outputs": [
    {
     "data": {
      "text/plain": [
       "1.0"
      ]
     },
     "execution_count": 19,
     "metadata": {},
     "output_type": "execute_result"
    }
   ],
   "source": [
    "norm(qk)"
   ]
  },
  {
   "cell_type": "code",
   "execution_count": null,
   "id": "868e6bbc-18b4-4f89-8494-aa84e2d44649",
   "metadata": {},
   "outputs": [],
   "source": []
  }
 ],
 "metadata": {
  "kernelspec": {
   "display_name": "Julia 1.6.7",
   "language": "julia",
   "name": "julia-1.6"
  },
  "language_info": {
   "file_extension": ".jl",
   "mimetype": "application/julia",
   "name": "julia",
   "version": "1.6.7"
  }
 },
 "nbformat": 4,
 "nbformat_minor": 5
}
