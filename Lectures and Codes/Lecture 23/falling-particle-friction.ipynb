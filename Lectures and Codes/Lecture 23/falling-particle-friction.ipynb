{
 "cells": [
  {
   "cell_type": "code",
   "execution_count": 27,
   "id": "5c41c817",
   "metadata": {},
   "outputs": [
    {
     "name": "stderr",
     "output_type": "stream",
     "text": [
      "\u001b[32m\u001b[1m  Activating\u001b[22m\u001b[39m new environment at `~/GitHub/Optimal-Control-16-745/lecture-notebooks/Lecture 23/Project.toml`\n",
      "\u001b[32m\u001b[1m  No Changes\u001b[22m\u001b[39m to `~/GitHub/Optimal-Control-16-745/lecture-notebooks/Lecture 23/Project.toml`\n",
      "\u001b[32m\u001b[1m  No Changes\u001b[22m\u001b[39m to `~/GitHub/Optimal-Control-16-745/lecture-notebooks/Lecture 23/Manifest.toml`\n"
     ]
    }
   ],
   "source": [
    "import Pkg; Pkg.activate(@__DIR__); Pkg.instantiate()"
   ]
  },
  {
   "cell_type": "code",
   "execution_count": 28,
   "id": "8ec79d58",
   "metadata": {},
   "outputs": [
    {
     "data": {
      "text/plain": [
       "MathOptInterface"
      ]
     },
     "execution_count": 28,
     "metadata": {},
     "output_type": "execute_result"
    }
   ],
   "source": [
    "using LinearAlgebra\n",
    "using ForwardDiff\n",
    "using Plots\n",
    "using Ipopt\n",
    "using MathOptInterface\n",
    "const MOI = MathOptInterface"
   ]
  },
  {
   "cell_type": "code",
   "execution_count": 29,
   "id": "fcc1f3ad",
   "metadata": {},
   "outputs": [
    {
     "data": {
      "text/plain": [
       "31"
      ]
     },
     "execution_count": 29,
     "metadata": {},
     "output_type": "execute_result"
    }
   ],
   "source": [
    "#Parameters\n",
    "g = 9.81\n",
    "m = 1.0\n",
    "h = 0.05 #20 Hz\n",
    "Tf = 1.5 #final time (sec)\n",
    "thist = Array(0:h:Tf)\n",
    "N = length(thist)"
   ]
  },
  {
   "cell_type": "code",
   "execution_count": 30,
   "id": "fec57ac4",
   "metadata": {},
   "outputs": [
    {
     "data": {
      "text/plain": [
       "2-element Vector{Float64}:\n",
       " 0.05\n",
       " 2.9877375"
      ]
     },
     "execution_count": 30,
     "metadata": {},
     "output_type": "execute_result"
    }
   ],
   "source": [
    "#Initial Conditions\n",
    "q0 = [0; 3.0]\n",
    "v0 = [1.0; 0.0]\n",
    "q1 = q0 + h*v0 + 0.5*h*h*[0; -g]"
   ]
  },
  {
   "cell_type": "code",
   "execution_count": 31,
   "id": "41873fae",
   "metadata": {},
   "outputs": [
    {
     "data": {
      "text/plain": [
       "1×2 adjoint(::Vector{Float64}) with eltype Float64:\n",
       " 0.0  1.0"
      ]
     },
     "execution_count": 31,
     "metadata": {},
     "output_type": "execute_result"
    }
   ],
   "source": [
    "#Signed-distance function for a particle in 2D\n",
    "function ϕ(q)\n",
    "    return q[2]\n",
    "end\n",
    "\n",
    "Dϕ = [0; 1.0]'"
   ]
  },
  {
   "cell_type": "code",
   "execution_count": 32,
   "id": "dd118ebc",
   "metadata": {},
   "outputs": [
    {
     "data": {
      "text/plain": [
       "D2Ld (generic function with 1 method)"
      ]
     },
     "execution_count": 32,
     "metadata": {},
     "output_type": "execute_result"
    }
   ],
   "source": [
    "#Discrete Lagrangian stuff\n",
    "function L(q,q̇)\n",
    "    0.5*m*q̇'*q̇ - m*g*q[2]\n",
    "end\n",
    "\n",
    "function Ld(q1,q2)\n",
    "    qm = 0.5*(q1 + q2)\n",
    "    vm = (q2-q1)/h\n",
    "    return L(qm,vm)\n",
    "end\n",
    "\n",
    "function D1Ld(q1,q2)\n",
    "    return ForwardDiff.gradient(dq1->Ld(dq1,q2),q1)\n",
    "end\n",
    "\n",
    "function D2Ld(q1,q2)\n",
    "    return ForwardDiff.gradient(dq2->Ld(q1,dq2),q2)\n",
    "end"
   ]
  },
  {
   "cell_type": "code",
   "execution_count": 33,
   "id": "80f78ea4",
   "metadata": {},
   "outputs": [
    {
     "data": {
      "text/plain": [
       "DEL (generic function with 2 methods)"
      ]
     },
     "execution_count": 33,
     "metadata": {},
     "output_type": "execute_result"
    }
   ],
   "source": [
    "function DEL(q1,q2,q3,n)\n",
    "    D2Ld(q1,q2) + D1Ld(q2,q3) + h*Dϕ'*n\n",
    "end"
   ]
  },
  {
   "cell_type": "code",
   "execution_count": 34,
   "id": "068cdd22",
   "metadata": {},
   "outputs": [
    {
     "data": {
      "text/plain": [
       "ipopt_solve (generic function with 1 method)"
      ]
     },
     "execution_count": 34,
     "metadata": {},
     "output_type": "execute_result"
    }
   ],
   "source": [
    "#Boilerplate setup code to interface with IPOPT.\n",
    "\n",
    "struct ProblemMOI <: MOI.AbstractNLPEvaluator\n",
    "    n_nlp::Int\n",
    "    m_nlp::Int\n",
    "    idx_ineq\n",
    "    obj_grad::Bool\n",
    "    con_jac::Bool\n",
    "    sparsity_jac\n",
    "    sparsity_hess\n",
    "    primal_bounds\n",
    "    constraint_bounds\n",
    "    hessian_lagrangian::Bool\n",
    "end\n",
    "\n",
    "function ProblemMOI(n_nlp,m_nlp;\n",
    "        idx_ineq=(1:0),\n",
    "        obj_grad=true,\n",
    "        con_jac=true,\n",
    "        sparsity_jac=sparsity_jacobian(n_nlp,m_nlp),\n",
    "        sparsity_hess=sparsity_hessian(n_nlp,m_nlp),\n",
    "        primal_bounds=primal_bounds(n_nlp),\n",
    "        constraint_bounds=constraint_bounds(m_nlp,idx_ineq=idx_ineq),\n",
    "        hessian_lagrangian=false)\n",
    "\n",
    "    ProblemMOI(n_nlp,m_nlp,\n",
    "        idx_ineq,\n",
    "        obj_grad,\n",
    "        con_jac,\n",
    "        sparsity_jac,\n",
    "        sparsity_hess,\n",
    "        primal_bounds,\n",
    "        constraint_bounds,\n",
    "        hessian_lagrangian)\n",
    "end\n",
    "\n",
    "function constraint_bounds(m; idx_ineq=(1:0))\n",
    "    c_l = zeros(m)\n",
    "\n",
    "    c_u = zeros(m)\n",
    "    c_u[idx_ineq] .= Inf\n",
    "    \n",
    "    return c_l, c_u\n",
    "end\n",
    "\n",
    "function row_col!(row,col,r,c)\n",
    "    for cc in c\n",
    "        for rr in r\n",
    "            push!(row,convert(Int,rr))\n",
    "            push!(col,convert(Int,cc))\n",
    "        end\n",
    "    end\n",
    "    return row, col\n",
    "end\n",
    "\n",
    "function sparsity_jacobian(n,m)\n",
    "\n",
    "    row = []\n",
    "    col = []\n",
    "\n",
    "    r = 1:m\n",
    "    c = 1:n\n",
    "\n",
    "    row_col!(row,col,r,c)\n",
    "\n",
    "    return collect(zip(row,col))\n",
    "end\n",
    "\n",
    "function sparsity_hessian(n,m)\n",
    "\n",
    "    row = []\n",
    "    col = []\n",
    "\n",
    "    r = 1:m\n",
    "    c = 1:n\n",
    "\n",
    "    row_col!(row,col,r,c)\n",
    "\n",
    "    return collect(zip(row,col))\n",
    "end\n",
    "\n",
    "function MOI.eval_objective(prob::MOI.AbstractNLPEvaluator, x)\n",
    "    objective(x)\n",
    "end\n",
    "\n",
    "function MOI.eval_objective_gradient(prob::MOI.AbstractNLPEvaluator, grad_f, x)\n",
    "    ForwardDiff.gradient!(grad_f,objective,x)\n",
    "    return nothing\n",
    "end\n",
    "\n",
    "function MOI.eval_constraint(prob::MOI.AbstractNLPEvaluator,g,x)\n",
    "    constraint!(g,x)\n",
    "    return nothing\n",
    "end\n",
    "\n",
    "function MOI.eval_constraint_jacobian(prob::MOI.AbstractNLPEvaluator, jac, x)\n",
    "    ForwardDiff.jacobian!(reshape(jac,prob.m_nlp,prob.n_nlp), constraint!, zeros(prob.m_nlp), x)\n",
    "    return nothing\n",
    "end\n",
    "\n",
    "function MOI.features_available(prob::MOI.AbstractNLPEvaluator)\n",
    "    return [:Grad, :Jac]\n",
    "end\n",
    "\n",
    "MOI.initialize(prob::MOI.AbstractNLPEvaluator, features) = nothing\n",
    "MOI.jacobian_structure(prob::MOI.AbstractNLPEvaluator) = prob.sparsity_jac\n",
    "\n",
    "function ipopt_solve(x0,prob::MOI.AbstractNLPEvaluator;\n",
    "        tol=1.0e-6,c_tol=1.0e-6,max_iter=10000)\n",
    "    x_l, x_u = prob.primal_bounds\n",
    "    c_l, c_u = prob.constraint_bounds\n",
    "\n",
    "    nlp_bounds = MOI.NLPBoundsPair.(c_l,c_u)\n",
    "    block_data = MOI.NLPBlockData(nlp_bounds,prob,true)\n",
    "\n",
    "    solver = Ipopt.Optimizer()\n",
    "    solver.options[\"max_iter\"] = max_iter\n",
    "    solver.options[\"tol\"] = tol\n",
    "    solver.options[\"constr_viol_tol\"] = c_tol\n",
    "    \n",
    "    #Uncomment the following line to turn off verbose IPOPT output\n",
    "    solver.options[\"print_level\"] = 0\n",
    "\n",
    "    x = MOI.add_variables(solver,prob.n_nlp)\n",
    "\n",
    "    for i = 1:prob.n_nlp\n",
    "        MOI.add_constraint(solver, x[i], MOI.LessThan(x_u[i]))\n",
    "        MOI.add_constraint(solver, x[i], MOI.GreaterThan(x_l[i]))\n",
    "        MOI.set(solver, MOI.VariablePrimalStart(), x[i], x0[i])\n",
    "    end\n",
    "\n",
    "    # Solve the problem\n",
    "    MOI.set(solver, MOI.NLPBlock(), block_data)\n",
    "    MOI.set(solver, MOI.ObjectiveSense(), MOI.MIN_SENSE)\n",
    "    MOI.optimize!(solver)\n",
    "\n",
    "    # Get the solution\n",
    "    res = MOI.get(solver, MOI.VariablePrimal(), x)\n",
    "\n",
    "    return res\n",
    "end"
   ]
  },
  {
   "cell_type": "code",
   "execution_count": 35,
   "id": "ab76414b",
   "metadata": {},
   "outputs": [
    {
     "data": {
      "text/plain": [
       "primal_bounds (generic function with 1 method)"
      ]
     },
     "execution_count": 35,
     "metadata": {},
     "output_type": "execute_result"
    }
   ],
   "source": [
    "#Objective and constraint functions for IPOPT\n",
    "\n",
    "function objective(z)\n",
    "    qn = z[1:2]\n",
    "    n = z[3]\n",
    "    s = z[4]\n",
    "    \n",
    "    return s #Minimize slacks associated with relaxed complementarity condition\n",
    "end\n",
    "\n",
    "function constraint!(c,z)\n",
    "    qn = z[1:2]\n",
    "    n = z[3]\n",
    "    s = z[4]\n",
    "    \n",
    "    c .= [DEL(qhist[:,k-1],qhist[:,k],qn,n); #DEL\n",
    "          ϕ(qn); #signed distance\n",
    "          s-n*ϕ(qn)] #relaxed complementarity\n",
    "    \n",
    "    return nothing\n",
    "end\n",
    "\n",
    "#Specify the indecies of c (constraint output) that should be non-negative.\n",
    "#The rest will be treated as equality constraints.\n",
    "nonnegative_constraint_indices = (3:4)\n",
    "\n",
    "function primal_bounds(n)\n",
    "    #Enforce simple bound constraints on the decision variables (e.g. positivity) here\n",
    "    \n",
    "    x_l = [-Inf*ones(2); zeros(2)]\n",
    "    x_u = Inf*ones(4)\n",
    "    \n",
    "    return x_l, x_u\n",
    "end"
   ]
  },
  {
   "cell_type": "code",
   "execution_count": 36,
   "id": "d17b6565",
   "metadata": {},
   "outputs": [],
   "source": [
    "#Solve with IPOPT\n",
    "n_nlp = 4\n",
    "m_nlp = 4\n",
    "nlp_prob = ProblemMOI(n_nlp,m_nlp, idx_ineq=nonnegative_constraint_indices);\n",
    "\n",
    "#Initial conditions\n",
    "qhist = zeros(2,N)\n",
    "qhist[:,1] .= q0\n",
    "qhist[:,2] .= q1\n",
    "\n",
    "nhist = zeros(N-1)\n",
    "shist = zeros(N-1)\n",
    "k = 0\n",
    "\n",
    "for kk = 2:(N-1)\n",
    "    k = kk\n",
    "    z_guess = [qhist[:,k]; 0; 1.0]\n",
    "    z_sol = ipopt_solve(z_guess,nlp_prob);\n",
    "    qhist[:,k+1] .= z_sol[1:2]\n",
    "    nhist[k] = z_sol[3]\n",
    "    shist[k] = z_sol[4]\n",
    "end"
   ]
  },
  {
   "cell_type": "code",
   "execution_count": 37,
   "id": "ee019863",
   "metadata": {},
   "outputs": [
    {
     "data": {
      "image/svg+xml": [
       "<?xml version=\"1.0\" encoding=\"utf-8\"?>\n",
       "<svg xmlns=\"http://www.w3.org/2000/svg\" xmlns:xlink=\"http://www.w3.org/1999/xlink\" width=\"600\" height=\"400\" viewBox=\"0 0 2400 1600\">\n",
       "<defs>\n",
       "  <clipPath id=\"clip510\">\n",
       "    <rect x=\"0\" y=\"0\" width=\"2400\" height=\"1600\"/>\n",
       "  </clipPath>\n",
       "</defs>\n",
       "<path clip-path=\"url(#clip510)\" d=\"M0 1600 L2400 1600 L2400 0 L0 0  Z\" fill=\"#ffffff\" fill-rule=\"evenodd\" fill-opacity=\"1\"/>\n",
       "<defs>\n",
       "  <clipPath id=\"clip511\">\n",
       "    <rect x=\"480\" y=\"0\" width=\"1681\" height=\"1600\"/>\n",
       "  </clipPath>\n",
       "</defs>\n",
       "<path clip-path=\"url(#clip510)\" d=\"M156.112 1486.45 L2352.76 1486.45 L2352.76 47.2441 L156.112 47.2441  Z\" fill=\"#ffffff\" fill-rule=\"evenodd\" fill-opacity=\"1\"/>\n",
       "<defs>\n",
       "  <clipPath id=\"clip512\">\n",
       "    <rect x=\"156\" y=\"47\" width=\"2198\" height=\"1440\"/>\n",
       "  </clipPath>\n",
       "</defs>\n",
       "<polyline clip-path=\"url(#clip512)\" style=\"stroke:#000000; stroke-linecap:round; stroke-linejoin:round; stroke-width:2; stroke-opacity:0.1; fill:none\" points=\"218.281,1486.45 218.281,47.2441 \"/>\n",
       "<polyline clip-path=\"url(#clip512)\" style=\"stroke:#000000; stroke-linecap:round; stroke-linejoin:round; stroke-width:2; stroke-opacity:0.1; fill:none\" points=\"909.05,1486.45 909.05,47.2441 \"/>\n",
       "<polyline clip-path=\"url(#clip512)\" style=\"stroke:#000000; stroke-linecap:round; stroke-linejoin:round; stroke-width:2; stroke-opacity:0.1; fill:none\" points=\"1599.82,1486.45 1599.82,47.2441 \"/>\n",
       "<polyline clip-path=\"url(#clip512)\" style=\"stroke:#000000; stroke-linecap:round; stroke-linejoin:round; stroke-width:2; stroke-opacity:0.1; fill:none\" points=\"2290.59,1486.45 2290.59,47.2441 \"/>\n",
       "<polyline clip-path=\"url(#clip510)\" style=\"stroke:#000000; stroke-linecap:round; stroke-linejoin:round; stroke-width:4; stroke-opacity:1; fill:none\" points=\"156.112,1486.45 2352.76,1486.45 \"/>\n",
       "<polyline clip-path=\"url(#clip510)\" style=\"stroke:#000000; stroke-linecap:round; stroke-linejoin:round; stroke-width:4; stroke-opacity:1; fill:none\" points=\"218.281,1486.45 218.281,1467.55 \"/>\n",
       "<polyline clip-path=\"url(#clip510)\" style=\"stroke:#000000; stroke-linecap:round; stroke-linejoin:round; stroke-width:4; stroke-opacity:1; fill:none\" points=\"909.05,1486.45 909.05,1467.55 \"/>\n",
       "<polyline clip-path=\"url(#clip510)\" style=\"stroke:#000000; stroke-linecap:round; stroke-linejoin:round; stroke-width:4; stroke-opacity:1; fill:none\" points=\"1599.82,1486.45 1599.82,1467.55 \"/>\n",
       "<polyline clip-path=\"url(#clip510)\" style=\"stroke:#000000; stroke-linecap:round; stroke-linejoin:round; stroke-width:4; stroke-opacity:1; fill:none\" points=\"2290.59,1486.45 2290.59,1467.55 \"/>\n",
       "<path clip-path=\"url(#clip510)\" d=\"M195.666 1517.37 Q192.055 1517.37 190.226 1520.93 Q188.42 1524.47 188.42 1531.6 Q188.42 1538.71 190.226 1542.27 Q192.055 1545.82 195.666 1545.82 Q199.3 1545.82 201.105 1542.27 Q202.934 1538.71 202.934 1531.6 Q202.934 1524.47 201.105 1520.93 Q199.3 1517.37 195.666 1517.37 M195.666 1513.66 Q201.476 1513.66 204.531 1518.27 Q207.61 1522.85 207.61 1531.6 Q207.61 1540.33 204.531 1544.94 Q201.476 1549.52 195.666 1549.52 Q189.856 1549.52 186.777 1544.94 Q183.721 1540.33 183.721 1531.6 Q183.721 1522.85 186.777 1518.27 Q189.856 1513.66 195.666 1513.66 Z\" fill=\"#000000\" fill-rule=\"nonzero\" fill-opacity=\"1\" /><path clip-path=\"url(#clip510)\" d=\"M215.828 1542.97 L220.712 1542.97 L220.712 1548.85 L215.828 1548.85 L215.828 1542.97 Z\" fill=\"#000000\" fill-rule=\"nonzero\" fill-opacity=\"1\" /><path clip-path=\"url(#clip510)\" d=\"M240.897 1517.37 Q237.286 1517.37 235.457 1520.93 Q233.652 1524.47 233.652 1531.6 Q233.652 1538.71 235.457 1542.27 Q237.286 1545.82 240.897 1545.82 Q244.531 1545.82 246.337 1542.27 Q248.165 1538.71 248.165 1531.6 Q248.165 1524.47 246.337 1520.93 Q244.531 1517.37 240.897 1517.37 M240.897 1513.66 Q246.707 1513.66 249.763 1518.27 Q252.841 1522.85 252.841 1531.6 Q252.841 1540.33 249.763 1544.94 Q246.707 1549.52 240.897 1549.52 Q235.087 1549.52 232.008 1544.94 Q228.953 1540.33 228.953 1531.6 Q228.953 1522.85 232.008 1518.27 Q235.087 1513.66 240.897 1513.66 Z\" fill=\"#000000\" fill-rule=\"nonzero\" fill-opacity=\"1\" /><path clip-path=\"url(#clip510)\" d=\"M886.932 1517.37 Q883.321 1517.37 881.492 1520.93 Q879.687 1524.47 879.687 1531.6 Q879.687 1538.71 881.492 1542.27 Q883.321 1545.82 886.932 1545.82 Q890.566 1545.82 892.372 1542.27 Q894.2 1538.71 894.2 1531.6 Q894.2 1524.47 892.372 1520.93 Q890.566 1517.37 886.932 1517.37 M886.932 1513.66 Q892.742 1513.66 895.798 1518.27 Q898.876 1522.85 898.876 1531.6 Q898.876 1540.33 895.798 1544.94 Q892.742 1549.52 886.932 1549.52 Q881.122 1549.52 878.043 1544.94 Q874.987 1540.33 874.987 1531.6 Q874.987 1522.85 878.043 1518.27 Q881.122 1513.66 886.932 1513.66 Z\" fill=\"#000000\" fill-rule=\"nonzero\" fill-opacity=\"1\" /><path clip-path=\"url(#clip510)\" d=\"M907.094 1542.97 L911.978 1542.97 L911.978 1548.85 L907.094 1548.85 L907.094 1542.97 Z\" fill=\"#000000\" fill-rule=\"nonzero\" fill-opacity=\"1\" /><path clip-path=\"url(#clip510)\" d=\"M922.209 1514.29 L940.566 1514.29 L940.566 1518.22 L926.492 1518.22 L926.492 1526.7 Q927.51 1526.35 928.529 1526.19 Q929.547 1526 930.566 1526 Q936.353 1526 939.732 1529.17 Q943.112 1532.34 943.112 1537.76 Q943.112 1543.34 939.64 1546.44 Q936.168 1549.52 929.848 1549.52 Q927.672 1549.52 925.404 1549.15 Q923.158 1548.78 920.751 1548.04 L920.751 1543.34 Q922.834 1544.47 925.057 1545.03 Q927.279 1545.58 929.756 1545.58 Q933.76 1545.58 936.098 1543.48 Q938.436 1541.37 938.436 1537.76 Q938.436 1534.15 936.098 1532.04 Q933.76 1529.94 929.756 1529.94 Q927.881 1529.94 926.006 1530.35 Q924.154 1530.77 922.209 1531.65 L922.209 1514.29 Z\" fill=\"#000000\" fill-rule=\"nonzero\" fill-opacity=\"1\" /><path clip-path=\"url(#clip510)\" d=\"M1566.97 1544.91 L1574.61 1544.91 L1574.61 1518.55 L1566.3 1520.21 L1566.3 1515.95 L1574.56 1514.29 L1579.24 1514.29 L1579.24 1544.91 L1586.88 1544.91 L1586.88 1548.85 L1566.97 1548.85 L1566.97 1544.91 Z\" fill=\"#000000\" fill-rule=\"nonzero\" fill-opacity=\"1\" /><path clip-path=\"url(#clip510)\" d=\"M1596.32 1542.97 L1601.21 1542.97 L1601.21 1548.85 L1596.32 1548.85 L1596.32 1542.97 Z\" fill=\"#000000\" fill-rule=\"nonzero\" fill-opacity=\"1\" /><path clip-path=\"url(#clip510)\" d=\"M1621.39 1517.37 Q1617.78 1517.37 1615.95 1520.93 Q1614.15 1524.47 1614.15 1531.6 Q1614.15 1538.71 1615.95 1542.27 Q1617.78 1545.82 1621.39 1545.82 Q1625.03 1545.82 1626.83 1542.27 Q1628.66 1538.71 1628.66 1531.6 Q1628.66 1524.47 1626.83 1520.93 Q1625.03 1517.37 1621.39 1517.37 M1621.39 1513.66 Q1627.2 1513.66 1630.26 1518.27 Q1633.34 1522.85 1633.34 1531.6 Q1633.34 1540.33 1630.26 1544.94 Q1627.2 1549.52 1621.39 1549.52 Q1615.58 1549.52 1612.5 1544.94 Q1609.45 1540.33 1609.45 1531.6 Q1609.45 1522.85 1612.5 1518.27 Q1615.58 1513.66 1621.39 1513.66 Z\" fill=\"#000000\" fill-rule=\"nonzero\" fill-opacity=\"1\" /><path clip-path=\"url(#clip510)\" d=\"M2258.24 1544.91 L2265.88 1544.91 L2265.88 1518.55 L2257.57 1520.21 L2257.57 1515.95 L2265.83 1514.29 L2270.51 1514.29 L2270.51 1544.91 L2278.14 1544.91 L2278.14 1548.85 L2258.24 1548.85 L2258.24 1544.91 Z\" fill=\"#000000\" fill-rule=\"nonzero\" fill-opacity=\"1\" /><path clip-path=\"url(#clip510)\" d=\"M2287.59 1542.97 L2292.47 1542.97 L2292.47 1548.85 L2287.59 1548.85 L2287.59 1542.97 Z\" fill=\"#000000\" fill-rule=\"nonzero\" fill-opacity=\"1\" /><path clip-path=\"url(#clip510)\" d=\"M2302.7 1514.29 L2321.06 1514.29 L2321.06 1518.22 L2306.99 1518.22 L2306.99 1526.7 Q2308.01 1526.35 2309.02 1526.19 Q2310.04 1526 2311.06 1526 Q2316.85 1526 2320.23 1529.17 Q2323.61 1532.34 2323.61 1537.76 Q2323.61 1543.34 2320.14 1546.44 Q2316.66 1549.52 2310.34 1549.52 Q2308.17 1549.52 2305.9 1549.15 Q2303.65 1548.78 2301.25 1548.04 L2301.25 1543.34 Q2303.33 1544.47 2305.55 1545.03 Q2307.77 1545.58 2310.25 1545.58 Q2314.26 1545.58 2316.59 1543.48 Q2318.93 1541.37 2318.93 1537.76 Q2318.93 1534.15 2316.59 1532.04 Q2314.26 1529.94 2310.25 1529.94 Q2308.38 1529.94 2306.5 1530.35 Q2304.65 1530.77 2302.7 1531.65 L2302.7 1514.29 Z\" fill=\"#000000\" fill-rule=\"nonzero\" fill-opacity=\"1\" /><polyline clip-path=\"url(#clip512)\" style=\"stroke:#000000; stroke-linecap:round; stroke-linejoin:round; stroke-width:2; stroke-opacity:0.1; fill:none\" points=\"156.112,1445.72 2352.76,1445.72 \"/>\n",
       "<polyline clip-path=\"url(#clip512)\" style=\"stroke:#000000; stroke-linecap:round; stroke-linejoin:round; stroke-width:2; stroke-opacity:0.1; fill:none\" points=\"156.112,993.136 2352.76,993.136 \"/>\n",
       "<polyline clip-path=\"url(#clip512)\" style=\"stroke:#000000; stroke-linecap:round; stroke-linejoin:round; stroke-width:2; stroke-opacity:0.1; fill:none\" points=\"156.112,540.556 2352.76,540.556 \"/>\n",
       "<polyline clip-path=\"url(#clip512)\" style=\"stroke:#000000; stroke-linecap:round; stroke-linejoin:round; stroke-width:2; stroke-opacity:0.1; fill:none\" points=\"156.112,87.9763 2352.76,87.9763 \"/>\n",
       "<polyline clip-path=\"url(#clip510)\" style=\"stroke:#000000; stroke-linecap:round; stroke-linejoin:round; stroke-width:4; stroke-opacity:1; fill:none\" points=\"156.112,1486.45 156.112,47.2441 \"/>\n",
       "<polyline clip-path=\"url(#clip510)\" style=\"stroke:#000000; stroke-linecap:round; stroke-linejoin:round; stroke-width:4; stroke-opacity:1; fill:none\" points=\"156.112,1445.72 175.01,1445.72 \"/>\n",
       "<polyline clip-path=\"url(#clip510)\" style=\"stroke:#000000; stroke-linecap:round; stroke-linejoin:round; stroke-width:4; stroke-opacity:1; fill:none\" points=\"156.112,993.136 175.01,993.136 \"/>\n",
       "<polyline clip-path=\"url(#clip510)\" style=\"stroke:#000000; stroke-linecap:round; stroke-linejoin:round; stroke-width:4; stroke-opacity:1; fill:none\" points=\"156.112,540.556 175.01,540.556 \"/>\n",
       "<polyline clip-path=\"url(#clip510)\" style=\"stroke:#000000; stroke-linecap:round; stroke-linejoin:round; stroke-width:4; stroke-opacity:1; fill:none\" points=\"156.112,87.9763 175.01,87.9763 \"/>\n",
       "<path clip-path=\"url(#clip510)\" d=\"M62.9365 1431.51 Q59.3254 1431.51 57.4967 1435.08 Q55.6912 1438.62 55.6912 1445.75 Q55.6912 1452.86 57.4967 1456.42 Q59.3254 1459.96 62.9365 1459.96 Q66.5707 1459.96 68.3763 1456.42 Q70.205 1452.86 70.205 1445.75 Q70.205 1438.62 68.3763 1435.08 Q66.5707 1431.51 62.9365 1431.51 M62.9365 1427.81 Q68.7467 1427.81 71.8022 1432.42 Q74.8809 1437 74.8809 1445.75 Q74.8809 1454.48 71.8022 1459.08 Q68.7467 1463.67 62.9365 1463.67 Q57.1264 1463.67 54.0477 1459.08 Q50.9921 1454.48 50.9921 1445.75 Q50.9921 1437 54.0477 1432.42 Q57.1264 1427.81 62.9365 1427.81 Z\" fill=\"#000000\" fill-rule=\"nonzero\" fill-opacity=\"1\" /><path clip-path=\"url(#clip510)\" d=\"M83.0984 1457.12 L87.9827 1457.12 L87.9827 1463 L83.0984 1463 L83.0984 1457.12 Z\" fill=\"#000000\" fill-rule=\"nonzero\" fill-opacity=\"1\" /><path clip-path=\"url(#clip510)\" d=\"M108.168 1431.51 Q104.557 1431.51 102.728 1435.08 Q100.922 1438.62 100.922 1445.75 Q100.922 1452.86 102.728 1456.42 Q104.557 1459.96 108.168 1459.96 Q111.802 1459.96 113.608 1456.42 Q115.436 1452.86 115.436 1445.75 Q115.436 1438.62 113.608 1435.08 Q111.802 1431.51 108.168 1431.51 M108.168 1427.81 Q113.978 1427.81 117.033 1432.42 Q120.112 1437 120.112 1445.75 Q120.112 1454.48 117.033 1459.08 Q113.978 1463.67 108.168 1463.67 Q102.358 1463.67 99.2789 1459.08 Q96.2234 1454.48 96.2234 1445.75 Q96.2234 1437 99.2789 1432.42 Q102.358 1427.81 108.168 1427.81 Z\" fill=\"#000000\" fill-rule=\"nonzero\" fill-opacity=\"1\" /><path clip-path=\"url(#clip510)\" d=\"M63.9319 978.935 Q60.3208 978.935 58.4921 982.499 Q56.6865 986.041 56.6865 993.171 Q56.6865 1000.28 58.4921 1003.84 Q60.3208 1007.38 63.9319 1007.38 Q67.5661 1007.38 69.3717 1003.84 Q71.2004 1000.28 71.2004 993.171 Q71.2004 986.041 69.3717 982.499 Q67.5661 978.935 63.9319 978.935 M63.9319 975.231 Q69.742 975.231 72.7976 979.837 Q75.8763 984.421 75.8763 993.171 Q75.8763 1001.9 72.7976 1006.5 Q69.742 1011.09 63.9319 1011.09 Q58.1217 1011.09 55.043 1006.5 Q51.9875 1001.9 51.9875 993.171 Q51.9875 984.421 55.043 979.837 Q58.1217 975.231 63.9319 975.231 Z\" fill=\"#000000\" fill-rule=\"nonzero\" fill-opacity=\"1\" /><path clip-path=\"url(#clip510)\" d=\"M84.0938 1004.54 L88.978 1004.54 L88.978 1010.42 L84.0938 1010.42 L84.0938 1004.54 Z\" fill=\"#000000\" fill-rule=\"nonzero\" fill-opacity=\"1\" /><path clip-path=\"url(#clip510)\" d=\"M99.2095 975.856 L117.566 975.856 L117.566 979.791 L103.492 979.791 L103.492 988.263 Q104.51 987.916 105.529 987.754 Q106.547 987.569 107.566 987.569 Q113.353 987.569 116.733 990.74 Q120.112 993.911 120.112 999.328 Q120.112 1004.91 116.64 1008.01 Q113.168 1011.09 106.848 1011.09 Q104.672 1011.09 102.404 1010.72 Q100.159 1010.35 97.7511 1009.61 L97.7511 1004.91 Q99.8345 1006.04 102.057 1006.6 Q104.279 1007.15 106.756 1007.15 Q110.76 1007.15 113.098 1005.05 Q115.436 1002.94 115.436 999.328 Q115.436 995.717 113.098 993.61 Q110.76 991.504 106.756 991.504 Q104.881 991.504 103.006 991.921 Q101.154 992.337 99.2095 993.217 L99.2095 975.856 Z\" fill=\"#000000\" fill-rule=\"nonzero\" fill-opacity=\"1\" /><path clip-path=\"url(#clip510)\" d=\"M53.7467 553.901 L61.3856 553.901 L61.3856 527.535 L53.0754 529.202 L53.0754 524.943 L61.3393 523.276 L66.0152 523.276 L66.0152 553.901 L73.654 553.901 L73.654 557.836 L53.7467 557.836 L53.7467 553.901 Z\" fill=\"#000000\" fill-rule=\"nonzero\" fill-opacity=\"1\" /><path clip-path=\"url(#clip510)\" d=\"M83.0984 551.956 L87.9827 551.956 L87.9827 557.836 L83.0984 557.836 L83.0984 551.956 Z\" fill=\"#000000\" fill-rule=\"nonzero\" fill-opacity=\"1\" /><path clip-path=\"url(#clip510)\" d=\"M108.168 526.355 Q104.557 526.355 102.728 529.92 Q100.922 533.461 100.922 540.591 Q100.922 547.697 102.728 551.262 Q104.557 554.804 108.168 554.804 Q111.802 554.804 113.608 551.262 Q115.436 547.697 115.436 540.591 Q115.436 533.461 113.608 529.92 Q111.802 526.355 108.168 526.355 M108.168 522.651 Q113.978 522.651 117.033 527.258 Q120.112 531.841 120.112 540.591 Q120.112 549.318 117.033 553.924 Q113.978 558.507 108.168 558.507 Q102.358 558.507 99.2789 553.924 Q96.2234 549.318 96.2234 540.591 Q96.2234 531.841 99.2789 527.258 Q102.358 522.651 108.168 522.651 Z\" fill=\"#000000\" fill-rule=\"nonzero\" fill-opacity=\"1\" /><path clip-path=\"url(#clip510)\" d=\"M54.7421 101.321 L62.381 101.321 L62.381 74.9555 L54.0708 76.6222 L54.0708 72.3629 L62.3347 70.6963 L67.0106 70.6963 L67.0106 101.321 L74.6494 101.321 L74.6494 105.256 L54.7421 105.256 L54.7421 101.321 Z\" fill=\"#000000\" fill-rule=\"nonzero\" fill-opacity=\"1\" /><path clip-path=\"url(#clip510)\" d=\"M84.0938 99.3767 L88.978 99.3767 L88.978 105.256 L84.0938 105.256 L84.0938 99.3767 Z\" fill=\"#000000\" fill-rule=\"nonzero\" fill-opacity=\"1\" /><path clip-path=\"url(#clip510)\" d=\"M99.2095 70.6963 L117.566 70.6963 L117.566 74.6314 L103.492 74.6314 L103.492 83.1036 Q104.51 82.7564 105.529 82.5944 Q106.547 82.4092 107.566 82.4092 Q113.353 82.4092 116.733 85.5805 Q120.112 88.7517 120.112 94.1684 Q120.112 99.747 116.64 102.849 Q113.168 105.928 106.848 105.928 Q104.672 105.928 102.404 105.557 Q100.159 105.187 97.7511 104.446 L97.7511 99.747 Q99.8345 100.881 102.057 101.437 Q104.279 101.992 106.756 101.992 Q110.76 101.992 113.098 99.8859 Q115.436 97.7795 115.436 94.1684 Q115.436 90.5573 113.098 88.4508 Q110.76 86.3443 106.756 86.3443 Q104.881 86.3443 103.006 86.761 Q101.154 87.1777 99.2095 88.0573 L99.2095 70.6963 Z\" fill=\"#000000\" fill-rule=\"nonzero\" fill-opacity=\"1\" /><polyline clip-path=\"url(#clip512)\" style=\"stroke:#009af9; stroke-linecap:round; stroke-linejoin:round; stroke-width:4; stroke-opacity:1; fill:none\" points=\"218.281,1445.72 287.358,1400.46 356.435,1355.2 425.512,1309.94 494.589,1264.68 563.666,1219.43 632.742,1174.17 701.819,1128.91 770.896,1083.65 839.973,1038.39 909.05,993.136 978.127,947.878 1047.2,902.62 1116.28,857.362 1185.36,812.104 1254.43,766.846 1323.51,721.588 1392.59,676.33 1461.66,631.072 1530.74,585.814 1599.82,540.556 1668.9,495.298 1737.97,450.04 1807.05,404.782 1876.13,359.524 1945.2,314.266 2014.28,269.008 2083.36,223.75 2152.43,178.492 2221.51,133.234 2290.59,87.9763 \"/>\n",
       "<path clip-path=\"url(#clip510)\" d=\"M229.334 198.898 L501.428 198.898 L501.428 95.2176 L229.334 95.2176  Z\" fill=\"#ffffff\" fill-rule=\"evenodd\" fill-opacity=\"1\"/>\n",
       "<polyline clip-path=\"url(#clip510)\" style=\"stroke:#000000; stroke-linecap:round; stroke-linejoin:round; stroke-width:4; stroke-opacity:1; fill:none\" points=\"229.334,198.898 501.428,198.898 501.428,95.2176 229.334,95.2176 229.334,198.898 \"/>\n",
       "<polyline clip-path=\"url(#clip510)\" style=\"stroke:#009af9; stroke-linecap:round; stroke-linejoin:round; stroke-width:4; stroke-opacity:1; fill:none\" points=\"253.741,147.058 400.184,147.058 \"/>\n",
       "<path clip-path=\"url(#clip510)\" d=\"M438.433 166.745 Q436.628 171.375 434.915 172.787 Q433.202 174.199 430.332 174.199 L426.929 174.199 L426.929 170.634 L429.429 170.634 Q431.188 170.634 432.16 169.8 Q433.132 168.967 434.313 165.865 L435.077 163.921 L424.591 138.412 L429.105 138.412 L437.206 158.689 L445.308 138.412 L449.822 138.412 L438.433 166.745 Z\" fill=\"#000000\" fill-rule=\"nonzero\" fill-opacity=\"1\" /><path clip-path=\"url(#clip510)\" d=\"M457.114 160.402 L464.753 160.402 L464.753 134.037 L456.442 135.703 L456.442 131.444 L464.706 129.778 L469.382 129.778 L469.382 160.402 L477.021 160.402 L477.021 164.338 L457.114 164.338 L457.114 160.402 Z\" fill=\"#000000\" fill-rule=\"nonzero\" fill-opacity=\"1\" /></svg>\n"
      ]
     },
     "execution_count": 37,
     "metadata": {},
     "output_type": "execute_result"
    }
   ],
   "source": [
    "plot(thist,qhist[1,:])"
   ]
  },
  {
   "cell_type": "code",
   "execution_count": 38,
   "id": "e84d4f14",
   "metadata": {},
   "outputs": [
    {
     "data": {
      "image/svg+xml": [
       "<?xml version=\"1.0\" encoding=\"utf-8\"?>\n",
       "<svg xmlns=\"http://www.w3.org/2000/svg\" xmlns:xlink=\"http://www.w3.org/1999/xlink\" width=\"600\" height=\"400\" viewBox=\"0 0 2400 1600\">\n",
       "<defs>\n",
       "  <clipPath id=\"clip550\">\n",
       "    <rect x=\"0\" y=\"0\" width=\"2400\" height=\"1600\"/>\n",
       "  </clipPath>\n",
       "</defs>\n",
       "<path clip-path=\"url(#clip550)\" d=\"M0 1600 L2400 1600 L2400 0 L0 0  Z\" fill=\"#ffffff\" fill-rule=\"evenodd\" fill-opacity=\"1\"/>\n",
       "<defs>\n",
       "  <clipPath id=\"clip551\">\n",
       "    <rect x=\"480\" y=\"0\" width=\"1681\" height=\"1600\"/>\n",
       "  </clipPath>\n",
       "</defs>\n",
       "<path clip-path=\"url(#clip550)\" d=\"M110.881 1486.45 L2352.76 1486.45 L2352.76 47.2441 L110.881 47.2441  Z\" fill=\"#ffffff\" fill-rule=\"evenodd\" fill-opacity=\"1\"/>\n",
       "<defs>\n",
       "  <clipPath id=\"clip552\">\n",
       "    <rect x=\"110\" y=\"47\" width=\"2243\" height=\"1440\"/>\n",
       "  </clipPath>\n",
       "</defs>\n",
       "<polyline clip-path=\"url(#clip552)\" style=\"stroke:#000000; stroke-linecap:round; stroke-linejoin:round; stroke-width:2; stroke-opacity:0.1; fill:none\" points=\"174.33,1486.45 174.33,47.2441 \"/>\n",
       "<polyline clip-path=\"url(#clip552)\" style=\"stroke:#000000; stroke-linecap:round; stroke-linejoin:round; stroke-width:2; stroke-opacity:0.1; fill:none\" points=\"879.322,1486.45 879.322,47.2441 \"/>\n",
       "<polyline clip-path=\"url(#clip552)\" style=\"stroke:#000000; stroke-linecap:round; stroke-linejoin:round; stroke-width:2; stroke-opacity:0.1; fill:none\" points=\"1584.31,1486.45 1584.31,47.2441 \"/>\n",
       "<polyline clip-path=\"url(#clip552)\" style=\"stroke:#000000; stroke-linecap:round; stroke-linejoin:round; stroke-width:2; stroke-opacity:0.1; fill:none\" points=\"2289.31,1486.45 2289.31,47.2441 \"/>\n",
       "<polyline clip-path=\"url(#clip550)\" style=\"stroke:#000000; stroke-linecap:round; stroke-linejoin:round; stroke-width:4; stroke-opacity:1; fill:none\" points=\"110.881,1486.45 2352.76,1486.45 \"/>\n",
       "<polyline clip-path=\"url(#clip550)\" style=\"stroke:#000000; stroke-linecap:round; stroke-linejoin:round; stroke-width:4; stroke-opacity:1; fill:none\" points=\"174.33,1486.45 174.33,1467.55 \"/>\n",
       "<polyline clip-path=\"url(#clip550)\" style=\"stroke:#000000; stroke-linecap:round; stroke-linejoin:round; stroke-width:4; stroke-opacity:1; fill:none\" points=\"879.322,1486.45 879.322,1467.55 \"/>\n",
       "<polyline clip-path=\"url(#clip550)\" style=\"stroke:#000000; stroke-linecap:round; stroke-linejoin:round; stroke-width:4; stroke-opacity:1; fill:none\" points=\"1584.31,1486.45 1584.31,1467.55 \"/>\n",
       "<polyline clip-path=\"url(#clip550)\" style=\"stroke:#000000; stroke-linecap:round; stroke-linejoin:round; stroke-width:4; stroke-opacity:1; fill:none\" points=\"2289.31,1486.45 2289.31,1467.55 \"/>\n",
       "<path clip-path=\"url(#clip550)\" d=\"M151.715 1517.37 Q148.103 1517.37 146.275 1520.93 Q144.469 1524.47 144.469 1531.6 Q144.469 1538.71 146.275 1542.27 Q148.103 1545.82 151.715 1545.82 Q155.349 1545.82 157.154 1542.27 Q158.983 1538.71 158.983 1531.6 Q158.983 1524.47 157.154 1520.93 Q155.349 1517.37 151.715 1517.37 M151.715 1513.66 Q157.525 1513.66 160.58 1518.27 Q163.659 1522.85 163.659 1531.6 Q163.659 1540.33 160.58 1544.94 Q157.525 1549.52 151.715 1549.52 Q145.904 1549.52 142.826 1544.94 Q139.77 1540.33 139.77 1531.6 Q139.77 1522.85 142.826 1518.27 Q145.904 1513.66 151.715 1513.66 Z\" fill=\"#000000\" fill-rule=\"nonzero\" fill-opacity=\"1\" /><path clip-path=\"url(#clip550)\" d=\"M171.876 1542.97 L176.761 1542.97 L176.761 1548.85 L171.876 1548.85 L171.876 1542.97 Z\" fill=\"#000000\" fill-rule=\"nonzero\" fill-opacity=\"1\" /><path clip-path=\"url(#clip550)\" d=\"M196.946 1517.37 Q193.335 1517.37 191.506 1520.93 Q189.7 1524.47 189.7 1531.6 Q189.7 1538.71 191.506 1542.27 Q193.335 1545.82 196.946 1545.82 Q200.58 1545.82 202.386 1542.27 Q204.214 1538.71 204.214 1531.6 Q204.214 1524.47 202.386 1520.93 Q200.58 1517.37 196.946 1517.37 M196.946 1513.66 Q202.756 1513.66 205.811 1518.27 Q208.89 1522.85 208.89 1531.6 Q208.89 1540.33 205.811 1544.94 Q202.756 1549.52 196.946 1549.52 Q191.136 1549.52 188.057 1544.94 Q185.001 1540.33 185.001 1531.6 Q185.001 1522.85 188.057 1518.27 Q191.136 1513.66 196.946 1513.66 Z\" fill=\"#000000\" fill-rule=\"nonzero\" fill-opacity=\"1\" /><path clip-path=\"url(#clip550)\" d=\"M857.204 1517.37 Q853.593 1517.37 851.765 1520.93 Q849.959 1524.47 849.959 1531.6 Q849.959 1538.71 851.765 1542.27 Q853.593 1545.82 857.204 1545.82 Q860.839 1545.82 862.644 1542.27 Q864.473 1538.71 864.473 1531.6 Q864.473 1524.47 862.644 1520.93 Q860.839 1517.37 857.204 1517.37 M857.204 1513.66 Q863.015 1513.66 866.07 1518.27 Q869.149 1522.85 869.149 1531.6 Q869.149 1540.33 866.07 1544.94 Q863.015 1549.52 857.204 1549.52 Q851.394 1549.52 848.316 1544.94 Q845.26 1540.33 845.26 1531.6 Q845.26 1522.85 848.316 1518.27 Q851.394 1513.66 857.204 1513.66 Z\" fill=\"#000000\" fill-rule=\"nonzero\" fill-opacity=\"1\" /><path clip-path=\"url(#clip550)\" d=\"M877.366 1542.97 L882.251 1542.97 L882.251 1548.85 L877.366 1548.85 L877.366 1542.97 Z\" fill=\"#000000\" fill-rule=\"nonzero\" fill-opacity=\"1\" /><path clip-path=\"url(#clip550)\" d=\"M892.482 1514.29 L910.838 1514.29 L910.838 1518.22 L896.764 1518.22 L896.764 1526.7 Q897.783 1526.35 898.801 1526.19 Q899.82 1526 900.838 1526 Q906.625 1526 910.005 1529.17 Q913.385 1532.34 913.385 1537.76 Q913.385 1543.34 909.912 1546.44 Q906.44 1549.52 900.121 1549.52 Q897.945 1549.52 895.676 1549.15 Q893.431 1548.78 891.024 1548.04 L891.024 1543.34 Q893.107 1544.47 895.329 1545.03 Q897.551 1545.58 900.028 1545.58 Q904.033 1545.58 906.371 1543.48 Q908.709 1541.37 908.709 1537.76 Q908.709 1534.15 906.371 1532.04 Q904.033 1529.94 900.028 1529.94 Q898.153 1529.94 896.278 1530.35 Q894.426 1530.77 892.482 1531.65 L892.482 1514.29 Z\" fill=\"#000000\" fill-rule=\"nonzero\" fill-opacity=\"1\" /><path clip-path=\"url(#clip550)\" d=\"M1551.47 1544.91 L1559.11 1544.91 L1559.11 1518.55 L1550.8 1520.21 L1550.8 1515.95 L1559.06 1514.29 L1563.74 1514.29 L1563.74 1544.91 L1571.37 1544.91 L1571.37 1548.85 L1551.47 1548.85 L1551.47 1544.91 Z\" fill=\"#000000\" fill-rule=\"nonzero\" fill-opacity=\"1\" /><path clip-path=\"url(#clip550)\" d=\"M1580.82 1542.97 L1585.7 1542.97 L1585.7 1548.85 L1580.82 1548.85 L1580.82 1542.97 Z\" fill=\"#000000\" fill-rule=\"nonzero\" fill-opacity=\"1\" /><path clip-path=\"url(#clip550)\" d=\"M1605.89 1517.37 Q1602.28 1517.37 1600.45 1520.93 Q1598.64 1524.47 1598.64 1531.6 Q1598.64 1538.71 1600.45 1542.27 Q1602.28 1545.82 1605.89 1545.82 Q1609.52 1545.82 1611.33 1542.27 Q1613.16 1538.71 1613.16 1531.6 Q1613.16 1524.47 1611.33 1520.93 Q1609.52 1517.37 1605.89 1517.37 M1605.89 1513.66 Q1611.7 1513.66 1614.75 1518.27 Q1617.83 1522.85 1617.83 1531.6 Q1617.83 1540.33 1614.75 1544.94 Q1611.7 1549.52 1605.89 1549.52 Q1600.08 1549.52 1597 1544.94 Q1593.94 1540.33 1593.94 1531.6 Q1593.94 1522.85 1597 1518.27 Q1600.08 1513.66 1605.89 1513.66 Z\" fill=\"#000000\" fill-rule=\"nonzero\" fill-opacity=\"1\" /><path clip-path=\"url(#clip550)\" d=\"M2256.96 1544.91 L2264.6 1544.91 L2264.6 1518.55 L2256.29 1520.21 L2256.29 1515.95 L2264.55 1514.29 L2269.23 1514.29 L2269.23 1544.91 L2276.86 1544.91 L2276.86 1548.85 L2256.96 1548.85 L2256.96 1544.91 Z\" fill=\"#000000\" fill-rule=\"nonzero\" fill-opacity=\"1\" /><path clip-path=\"url(#clip550)\" d=\"M2286.31 1542.97 L2291.19 1542.97 L2291.19 1548.85 L2286.31 1548.85 L2286.31 1542.97 Z\" fill=\"#000000\" fill-rule=\"nonzero\" fill-opacity=\"1\" /><path clip-path=\"url(#clip550)\" d=\"M2301.42 1514.29 L2319.78 1514.29 L2319.78 1518.22 L2305.71 1518.22 L2305.71 1526.7 Q2306.73 1526.35 2307.74 1526.19 Q2308.76 1526 2309.78 1526 Q2315.57 1526 2318.95 1529.17 Q2322.33 1532.34 2322.33 1537.76 Q2322.33 1543.34 2318.86 1546.44 Q2315.38 1549.52 2309.06 1549.52 Q2306.89 1549.52 2304.62 1549.15 Q2302.37 1548.78 2299.97 1548.04 L2299.97 1543.34 Q2302.05 1544.47 2304.27 1545.03 Q2306.49 1545.58 2308.97 1545.58 Q2312.98 1545.58 2315.31 1543.48 Q2317.65 1541.37 2317.65 1537.76 Q2317.65 1534.15 2315.31 1532.04 Q2312.98 1529.94 2308.97 1529.94 Q2307.1 1529.94 2305.22 1530.35 Q2303.37 1530.77 2301.42 1531.65 L2301.42 1514.29 Z\" fill=\"#000000\" fill-rule=\"nonzero\" fill-opacity=\"1\" /><polyline clip-path=\"url(#clip552)\" style=\"stroke:#000000; stroke-linecap:round; stroke-linejoin:round; stroke-width:2; stroke-opacity:0.1; fill:none\" points=\"110.881,1445.72 2352.76,1445.72 \"/>\n",
       "<polyline clip-path=\"url(#clip552)\" style=\"stroke:#000000; stroke-linecap:round; stroke-linejoin:round; stroke-width:2; stroke-opacity:0.1; fill:none\" points=\"110.881,993.136 2352.76,993.136 \"/>\n",
       "<polyline clip-path=\"url(#clip552)\" style=\"stroke:#000000; stroke-linecap:round; stroke-linejoin:round; stroke-width:2; stroke-opacity:0.1; fill:none\" points=\"110.881,540.556 2352.76,540.556 \"/>\n",
       "<polyline clip-path=\"url(#clip552)\" style=\"stroke:#000000; stroke-linecap:round; stroke-linejoin:round; stroke-width:2; stroke-opacity:0.1; fill:none\" points=\"110.881,87.9763 2352.76,87.9763 \"/>\n",
       "<polyline clip-path=\"url(#clip550)\" style=\"stroke:#000000; stroke-linecap:round; stroke-linejoin:round; stroke-width:4; stroke-opacity:1; fill:none\" points=\"110.881,1486.45 110.881,47.2441 \"/>\n",
       "<polyline clip-path=\"url(#clip550)\" style=\"stroke:#000000; stroke-linecap:round; stroke-linejoin:round; stroke-width:4; stroke-opacity:1; fill:none\" points=\"110.881,1445.72 129.779,1445.72 \"/>\n",
       "<polyline clip-path=\"url(#clip550)\" style=\"stroke:#000000; stroke-linecap:round; stroke-linejoin:round; stroke-width:4; stroke-opacity:1; fill:none\" points=\"110.881,993.136 129.779,993.136 \"/>\n",
       "<polyline clip-path=\"url(#clip550)\" style=\"stroke:#000000; stroke-linecap:round; stroke-linejoin:round; stroke-width:4; stroke-opacity:1; fill:none\" points=\"110.881,540.556 129.779,540.556 \"/>\n",
       "<polyline clip-path=\"url(#clip550)\" style=\"stroke:#000000; stroke-linecap:round; stroke-linejoin:round; stroke-width:4; stroke-opacity:1; fill:none\" points=\"110.881,87.9763 129.779,87.9763 \"/>\n",
       "<path clip-path=\"url(#clip550)\" d=\"M62.9365 1431.51 Q59.3254 1431.51 57.4967 1435.08 Q55.6912 1438.62 55.6912 1445.75 Q55.6912 1452.86 57.4967 1456.42 Q59.3254 1459.96 62.9365 1459.96 Q66.5707 1459.96 68.3763 1456.42 Q70.205 1452.86 70.205 1445.75 Q70.205 1438.62 68.3763 1435.08 Q66.5707 1431.51 62.9365 1431.51 M62.9365 1427.81 Q68.7467 1427.81 71.8022 1432.42 Q74.8809 1437 74.8809 1445.75 Q74.8809 1454.48 71.8022 1459.08 Q68.7467 1463.67 62.9365 1463.67 Q57.1264 1463.67 54.0477 1459.08 Q50.9921 1454.48 50.9921 1445.75 Q50.9921 1437 54.0477 1432.42 Q57.1264 1427.81 62.9365 1427.81 Z\" fill=\"#000000\" fill-rule=\"nonzero\" fill-opacity=\"1\" /><path clip-path=\"url(#clip550)\" d=\"M54.9736 1006.48 L62.6124 1006.48 L62.6124 980.115 L54.3023 981.782 L54.3023 977.523 L62.5661 975.856 L67.242 975.856 L67.242 1006.48 L74.8809 1006.48 L74.8809 1010.42 L54.9736 1010.42 L54.9736 1006.48 Z\" fill=\"#000000\" fill-rule=\"nonzero\" fill-opacity=\"1\" /><path clip-path=\"url(#clip550)\" d=\"M58.5615 553.901 L74.8809 553.901 L74.8809 557.836 L52.9366 557.836 L52.9366 553.901 Q55.5986 551.146 60.1819 546.517 Q64.7883 541.864 65.9689 540.521 Q68.2143 537.998 69.0939 536.262 Q69.9967 534.503 69.9967 532.813 Q69.9967 530.058 68.0522 528.322 Q66.1309 526.586 63.0291 526.586 Q60.83 526.586 58.3763 527.35 Q55.9458 528.114 53.168 529.665 L53.168 524.943 Q55.9921 523.808 58.4458 523.23 Q60.8995 522.651 62.9365 522.651 Q68.3068 522.651 71.5013 525.336 Q74.6957 528.021 74.6957 532.512 Q74.6957 534.642 73.8855 536.563 Q73.0985 538.461 70.992 541.054 Q70.4133 541.725 67.3115 544.943 Q64.2096 548.137 58.5615 553.901 Z\" fill=\"#000000\" fill-rule=\"nonzero\" fill-opacity=\"1\" /><path clip-path=\"url(#clip550)\" d=\"M67.7513 86.6221 Q71.1078 87.3397 72.9827 89.6082 Q74.8809 91.8767 74.8809 95.21 Q74.8809 100.326 71.3624 103.127 Q67.8439 105.928 61.3624 105.928 Q59.1865 105.928 56.8717 105.488 Q54.5801 105.071 52.1264 104.215 L52.1264 99.7008 Q54.0708 100.835 56.3856 101.414 Q58.7004 101.992 61.2236 101.992 Q65.6217 101.992 67.9133 100.256 Q70.2281 98.5202 70.2281 95.21 Q70.2281 92.1545 68.0754 90.4415 Q65.9457 88.7054 62.1263 88.7054 L58.0986 88.7054 L58.0986 84.8629 L62.3115 84.8629 Q65.7606 84.8629 67.5893 83.4971 Q69.418 82.1083 69.418 79.5157 Q69.418 76.8537 67.5198 75.4416 Q65.6448 74.0064 62.1263 74.0064 Q60.205 74.0064 58.006 74.4231 Q55.8069 74.8398 53.168 75.7194 L53.168 71.5528 Q55.8301 70.812 58.1449 70.4416 Q60.4828 70.0713 62.543 70.0713 Q67.867 70.0713 70.9689 72.5018 Q74.0707 74.9092 74.0707 79.0296 Q74.0707 81.8999 72.4272 83.8907 Q70.7837 85.8582 67.7513 86.6221 Z\" fill=\"#000000\" fill-rule=\"nonzero\" fill-opacity=\"1\" /><polyline clip-path=\"url(#clip552)\" style=\"stroke:#009af9; stroke-linecap:round; stroke-linejoin:round; stroke-width:4; stroke-opacity:1; fill:none\" points=\"174.33,87.9763 244.829,93.526 315.329,110.175 385.828,137.924 456.327,176.772 526.826,226.72 597.325,287.768 667.825,359.915 738.324,443.161 808.823,537.507 879.322,642.952 949.822,759.497 1020.32,887.142 1090.82,1025.89 1161.32,1175.73 1231.82,1336.67 1302.32,1445.72 1372.82,1445.72 1443.32,1445.72 1513.82,1445.72 1584.31,1445.72 1654.81,1445.72 1725.31,1445.72 1795.81,1445.72 1866.31,1445.72 1936.81,1445.72 2007.31,1445.72 2077.81,1445.72 2148.31,1445.72 2218.81,1445.72 2289.31,1445.72 \"/>\n",
       "<path clip-path=\"url(#clip550)\" d=\"M2001.41 198.898 L2278.03 198.898 L2278.03 95.2176 L2001.41 95.2176  Z\" fill=\"#ffffff\" fill-rule=\"evenodd\" fill-opacity=\"1\"/>\n",
       "<polyline clip-path=\"url(#clip550)\" style=\"stroke:#000000; stroke-linecap:round; stroke-linejoin:round; stroke-width:4; stroke-opacity:1; fill:none\" points=\"2001.41,198.898 2278.03,198.898 2278.03,95.2176 2001.41,95.2176 2001.41,198.898 \"/>\n",
       "<polyline clip-path=\"url(#clip550)\" style=\"stroke:#009af9; stroke-linecap:round; stroke-linejoin:round; stroke-width:4; stroke-opacity:1; fill:none\" points=\"2026.32,147.058 2175.78,147.058 \"/>\n",
       "<path clip-path=\"url(#clip550)\" d=\"M2214.53 166.745 Q2212.72 171.375 2211.01 172.787 Q2209.3 174.199 2206.43 174.199 L2203.02 174.199 L2203.02 170.634 L2205.52 170.634 Q2207.28 170.634 2208.26 169.8 Q2209.23 168.967 2210.41 165.865 L2211.17 163.921 L2200.69 138.412 L2205.2 138.412 L2213.3 158.689 L2221.4 138.412 L2225.92 138.412 L2214.53 166.745 Z\" fill=\"#000000\" fill-rule=\"nonzero\" fill-opacity=\"1\" /><path clip-path=\"url(#clip550)\" d=\"M2233.21 160.402 L2240.85 160.402 L2240.85 134.037 L2232.54 135.703 L2232.54 131.444 L2240.8 129.778 L2245.48 129.778 L2245.48 160.402 L2253.12 160.402 L2253.12 164.338 L2233.21 164.338 L2233.21 160.402 Z\" fill=\"#000000\" fill-rule=\"nonzero\" fill-opacity=\"1\" /></svg>\n"
      ]
     },
     "execution_count": 38,
     "metadata": {},
     "output_type": "execute_result"
    }
   ],
   "source": [
    "plot(thist,qhist[2,:])"
   ]
  },
  {
   "cell_type": "code",
   "execution_count": 39,
   "id": "fb550522",
   "metadata": {},
   "outputs": [
    {
     "data": {
      "image/svg+xml": [
       "<?xml version=\"1.0\" encoding=\"utf-8\"?>\n",
       "<svg xmlns=\"http://www.w3.org/2000/svg\" xmlns:xlink=\"http://www.w3.org/1999/xlink\" width=\"600\" height=\"400\" viewBox=\"0 0 2400 1600\">\n",
       "<defs>\n",
       "  <clipPath id=\"clip590\">\n",
       "    <rect x=\"0\" y=\"0\" width=\"2400\" height=\"1600\"/>\n",
       "  </clipPath>\n",
       "</defs>\n",
       "<path clip-path=\"url(#clip590)\" d=\"M0 1600 L2400 1600 L2400 0 L0 0  Z\" fill=\"#ffffff\" fill-rule=\"evenodd\" fill-opacity=\"1\"/>\n",
       "<defs>\n",
       "  <clipPath id=\"clip591\">\n",
       "    <rect x=\"480\" y=\"0\" width=\"1681\" height=\"1600\"/>\n",
       "  </clipPath>\n",
       "</defs>\n",
       "<path clip-path=\"url(#clip590)\" d=\"M201.019 1486.45 L2352.76 1486.45 L2352.76 47.2441 L201.019 47.2441  Z\" fill=\"#ffffff\" fill-rule=\"evenodd\" fill-opacity=\"1\"/>\n",
       "<defs>\n",
       "  <clipPath id=\"clip592\">\n",
       "    <rect x=\"201\" y=\"47\" width=\"2153\" height=\"1440\"/>\n",
       "  </clipPath>\n",
       "</defs>\n",
       "<polyline clip-path=\"url(#clip592)\" style=\"stroke:#000000; stroke-linecap:round; stroke-linejoin:round; stroke-width:2; stroke-opacity:0.1; fill:none\" points=\"261.917,1486.45 261.917,47.2441 \"/>\n",
       "<polyline clip-path=\"url(#clip592)\" style=\"stroke:#000000; stroke-linecap:round; stroke-linejoin:round; stroke-width:2; stroke-opacity:0.1; fill:none\" points=\"681.905,1486.45 681.905,47.2441 \"/>\n",
       "<polyline clip-path=\"url(#clip592)\" style=\"stroke:#000000; stroke-linecap:round; stroke-linejoin:round; stroke-width:2; stroke-opacity:0.1; fill:none\" points=\"1101.89,1486.45 1101.89,47.2441 \"/>\n",
       "<polyline clip-path=\"url(#clip592)\" style=\"stroke:#000000; stroke-linecap:round; stroke-linejoin:round; stroke-width:2; stroke-opacity:0.1; fill:none\" points=\"1521.88,1486.45 1521.88,47.2441 \"/>\n",
       "<polyline clip-path=\"url(#clip592)\" style=\"stroke:#000000; stroke-linecap:round; stroke-linejoin:round; stroke-width:2; stroke-opacity:0.1; fill:none\" points=\"1941.87,1486.45 1941.87,47.2441 \"/>\n",
       "<polyline clip-path=\"url(#clip590)\" style=\"stroke:#000000; stroke-linecap:round; stroke-linejoin:round; stroke-width:4; stroke-opacity:1; fill:none\" points=\"201.019,1486.45 2352.76,1486.45 \"/>\n",
       "<polyline clip-path=\"url(#clip590)\" style=\"stroke:#000000; stroke-linecap:round; stroke-linejoin:round; stroke-width:4; stroke-opacity:1; fill:none\" points=\"261.917,1486.45 261.917,1467.55 \"/>\n",
       "<polyline clip-path=\"url(#clip590)\" style=\"stroke:#000000; stroke-linecap:round; stroke-linejoin:round; stroke-width:4; stroke-opacity:1; fill:none\" points=\"681.905,1486.45 681.905,1467.55 \"/>\n",
       "<polyline clip-path=\"url(#clip590)\" style=\"stroke:#000000; stroke-linecap:round; stroke-linejoin:round; stroke-width:4; stroke-opacity:1; fill:none\" points=\"1101.89,1486.45 1101.89,1467.55 \"/>\n",
       "<polyline clip-path=\"url(#clip590)\" style=\"stroke:#000000; stroke-linecap:round; stroke-linejoin:round; stroke-width:4; stroke-opacity:1; fill:none\" points=\"1521.88,1486.45 1521.88,1467.55 \"/>\n",
       "<polyline clip-path=\"url(#clip590)\" style=\"stroke:#000000; stroke-linecap:round; stroke-linejoin:round; stroke-width:4; stroke-opacity:1; fill:none\" points=\"1941.87,1486.45 1941.87,1467.55 \"/>\n",
       "<path clip-path=\"url(#clip590)\" d=\"M239.302 1517.37 Q235.691 1517.37 233.862 1520.93 Q232.057 1524.47 232.057 1531.6 Q232.057 1538.71 233.862 1542.27 Q235.691 1545.82 239.302 1545.82 Q242.936 1545.82 244.742 1542.27 Q246.57 1538.71 246.57 1531.6 Q246.57 1524.47 244.742 1520.93 Q242.936 1517.37 239.302 1517.37 M239.302 1513.66 Q245.112 1513.66 248.168 1518.27 Q251.246 1522.85 251.246 1531.6 Q251.246 1540.33 248.168 1544.94 Q245.112 1549.52 239.302 1549.52 Q233.492 1549.52 230.413 1544.94 Q227.357 1540.33 227.357 1531.6 Q227.357 1522.85 230.413 1518.27 Q233.492 1513.66 239.302 1513.66 Z\" fill=\"#000000\" fill-rule=\"nonzero\" fill-opacity=\"1\" /><path clip-path=\"url(#clip590)\" d=\"M259.464 1542.97 L264.348 1542.97 L264.348 1548.85 L259.464 1548.85 L259.464 1542.97 Z\" fill=\"#000000\" fill-rule=\"nonzero\" fill-opacity=\"1\" /><path clip-path=\"url(#clip590)\" d=\"M284.533 1517.37 Q280.922 1517.37 279.093 1520.93 Q277.288 1524.47 277.288 1531.6 Q277.288 1538.71 279.093 1542.27 Q280.922 1545.82 284.533 1545.82 Q288.167 1545.82 289.973 1542.27 Q291.802 1538.71 291.802 1531.6 Q291.802 1524.47 289.973 1520.93 Q288.167 1517.37 284.533 1517.37 M284.533 1513.66 Q290.343 1513.66 293.399 1518.27 Q296.477 1522.85 296.477 1531.6 Q296.477 1540.33 293.399 1544.94 Q290.343 1549.52 284.533 1549.52 Q278.723 1549.52 275.644 1544.94 Q272.589 1540.33 272.589 1531.6 Q272.589 1522.85 275.644 1518.27 Q278.723 1513.66 284.533 1513.66 Z\" fill=\"#000000\" fill-rule=\"nonzero\" fill-opacity=\"1\" /><path clip-path=\"url(#clip590)\" d=\"M659.614 1517.37 Q656.002 1517.37 654.174 1520.93 Q652.368 1524.47 652.368 1531.6 Q652.368 1538.71 654.174 1542.27 Q656.002 1545.82 659.614 1545.82 Q663.248 1545.82 665.053 1542.27 Q666.882 1538.71 666.882 1531.6 Q666.882 1524.47 665.053 1520.93 Q663.248 1517.37 659.614 1517.37 M659.614 1513.66 Q665.424 1513.66 668.479 1518.27 Q671.558 1522.85 671.558 1531.6 Q671.558 1540.33 668.479 1544.94 Q665.424 1549.52 659.614 1549.52 Q653.803 1549.52 650.725 1544.94 Q647.669 1540.33 647.669 1531.6 Q647.669 1522.85 650.725 1518.27 Q653.803 1513.66 659.614 1513.66 Z\" fill=\"#000000\" fill-rule=\"nonzero\" fill-opacity=\"1\" /><path clip-path=\"url(#clip590)\" d=\"M679.776 1542.97 L684.66 1542.97 L684.66 1548.85 L679.776 1548.85 L679.776 1542.97 Z\" fill=\"#000000\" fill-rule=\"nonzero\" fill-opacity=\"1\" /><path clip-path=\"url(#clip590)\" d=\"M709.011 1530.21 Q712.368 1530.93 714.243 1533.2 Q716.141 1535.47 716.141 1538.8 Q716.141 1543.92 712.623 1546.72 Q709.104 1549.52 702.623 1549.52 Q700.447 1549.52 698.132 1549.08 Q695.84 1548.66 693.387 1547.81 L693.387 1543.29 Q695.331 1544.43 697.646 1545.01 Q699.961 1545.58 702.484 1545.58 Q706.882 1545.58 709.173 1543.85 Q711.488 1542.11 711.488 1538.8 Q711.488 1535.75 709.336 1534.03 Q707.206 1532.3 703.386 1532.3 L699.359 1532.3 L699.359 1528.45 L703.572 1528.45 Q707.021 1528.45 708.849 1527.09 Q710.678 1525.7 710.678 1523.11 Q710.678 1520.45 708.78 1519.03 Q706.905 1517.6 703.386 1517.6 Q701.465 1517.6 699.266 1518.01 Q697.067 1518.43 694.428 1519.31 L694.428 1515.14 Q697.09 1514.4 699.405 1514.03 Q701.743 1513.66 703.803 1513.66 Q709.127 1513.66 712.229 1516.09 Q715.331 1518.5 715.331 1522.62 Q715.331 1525.49 713.687 1527.48 Q712.044 1529.45 709.011 1530.21 Z\" fill=\"#000000\" fill-rule=\"nonzero\" fill-opacity=\"1\" /><path clip-path=\"url(#clip590)\" d=\"M1079.2 1517.37 Q1075.59 1517.37 1073.76 1520.93 Q1071.95 1524.47 1071.95 1531.6 Q1071.95 1538.71 1073.76 1542.27 Q1075.59 1545.82 1079.2 1545.82 Q1082.83 1545.82 1084.64 1542.27 Q1086.46 1538.71 1086.46 1531.6 Q1086.46 1524.47 1084.64 1520.93 Q1082.83 1517.37 1079.2 1517.37 M1079.2 1513.66 Q1085.01 1513.66 1088.06 1518.27 Q1091.14 1522.85 1091.14 1531.6 Q1091.14 1540.33 1088.06 1544.94 Q1085.01 1549.52 1079.2 1549.52 Q1073.39 1549.52 1070.31 1544.94 Q1067.25 1540.33 1067.25 1531.6 Q1067.25 1522.85 1070.31 1518.27 Q1073.39 1513.66 1079.2 1513.66 Z\" fill=\"#000000\" fill-rule=\"nonzero\" fill-opacity=\"1\" /><path clip-path=\"url(#clip590)\" d=\"M1099.36 1542.97 L1104.24 1542.97 L1104.24 1548.85 L1099.36 1548.85 L1099.36 1542.97 Z\" fill=\"#000000\" fill-rule=\"nonzero\" fill-opacity=\"1\" /><path clip-path=\"url(#clip590)\" d=\"M1125.01 1529.7 Q1121.86 1529.7 1120.01 1531.86 Q1118.18 1534.01 1118.18 1537.76 Q1118.18 1541.49 1120.01 1543.66 Q1121.86 1545.82 1125.01 1545.82 Q1128.15 1545.82 1129.98 1543.66 Q1131.83 1541.49 1131.83 1537.76 Q1131.83 1534.01 1129.98 1531.86 Q1128.15 1529.7 1125.01 1529.7 M1134.29 1515.05 L1134.29 1519.31 Q1132.53 1518.48 1130.72 1518.04 Q1128.94 1517.6 1127.18 1517.6 Q1122.55 1517.6 1120.1 1520.72 Q1117.67 1523.85 1117.32 1530.17 Q1118.69 1528.15 1120.75 1527.09 Q1122.81 1526 1125.28 1526 Q1130.49 1526 1133.5 1529.17 Q1136.53 1532.32 1136.53 1537.76 Q1136.53 1543.08 1133.39 1546.3 Q1130.24 1549.52 1125.01 1549.52 Q1119.01 1549.52 1115.84 1544.94 Q1112.67 1540.33 1112.67 1531.6 Q1112.67 1523.41 1116.56 1518.55 Q1120.45 1513.66 1127 1513.66 Q1128.76 1513.66 1130.54 1514.01 Q1132.34 1514.36 1134.29 1515.05 Z\" fill=\"#000000\" fill-rule=\"nonzero\" fill-opacity=\"1\" /><path clip-path=\"url(#clip590)\" d=\"M1499.36 1517.37 Q1495.75 1517.37 1493.92 1520.93 Q1492.11 1524.47 1492.11 1531.6 Q1492.11 1538.71 1493.92 1542.27 Q1495.75 1545.82 1499.36 1545.82 Q1502.99 1545.82 1504.8 1542.27 Q1506.63 1538.71 1506.63 1531.6 Q1506.63 1524.47 1504.8 1520.93 Q1502.99 1517.37 1499.36 1517.37 M1499.36 1513.66 Q1505.17 1513.66 1508.22 1518.27 Q1511.3 1522.85 1511.3 1531.6 Q1511.3 1540.33 1508.22 1544.94 Q1505.17 1549.52 1499.36 1549.52 Q1493.55 1549.52 1490.47 1544.94 Q1487.41 1540.33 1487.41 1531.6 Q1487.41 1522.85 1490.47 1518.27 Q1493.55 1513.66 1499.36 1513.66 Z\" fill=\"#000000\" fill-rule=\"nonzero\" fill-opacity=\"1\" /><path clip-path=\"url(#clip590)\" d=\"M1519.52 1542.97 L1524.4 1542.97 L1524.4 1548.85 L1519.52 1548.85 L1519.52 1542.97 Z\" fill=\"#000000\" fill-rule=\"nonzero\" fill-opacity=\"1\" /><path clip-path=\"url(#clip590)\" d=\"M1534.73 1548.13 L1534.73 1543.87 Q1536.49 1544.7 1538.29 1545.14 Q1540.1 1545.58 1541.83 1545.58 Q1546.46 1545.58 1548.89 1542.48 Q1551.35 1539.36 1551.7 1533.01 Q1550.35 1535.01 1548.29 1536.07 Q1546.23 1537.13 1543.73 1537.13 Q1538.55 1537.13 1535.51 1534.01 Q1532.51 1530.86 1532.51 1525.42 Q1532.51 1520.1 1535.65 1516.88 Q1538.8 1513.66 1544.03 1513.66 Q1550.03 1513.66 1553.18 1518.27 Q1556.35 1522.85 1556.35 1531.6 Q1556.35 1539.77 1552.46 1544.66 Q1548.59 1549.52 1542.04 1549.52 Q1540.28 1549.52 1538.48 1549.17 Q1536.67 1548.82 1534.73 1548.13 M1544.03 1533.48 Q1547.18 1533.48 1549.01 1531.32 Q1550.86 1529.17 1550.86 1525.42 Q1550.86 1521.7 1549.01 1519.54 Q1547.18 1517.37 1544.03 1517.37 Q1540.88 1517.37 1539.03 1519.54 Q1537.2 1521.7 1537.2 1525.42 Q1537.2 1529.17 1539.03 1531.32 Q1540.88 1533.48 1544.03 1533.48 Z\" fill=\"#000000\" fill-rule=\"nonzero\" fill-opacity=\"1\" /><path clip-path=\"url(#clip590)\" d=\"M1909.82 1544.91 L1917.46 1544.91 L1917.46 1518.55 L1909.15 1520.21 L1909.15 1515.95 L1917.41 1514.29 L1922.09 1514.29 L1922.09 1544.91 L1929.73 1544.91 L1929.73 1548.85 L1909.82 1548.85 L1909.82 1544.91 Z\" fill=\"#000000\" fill-rule=\"nonzero\" fill-opacity=\"1\" /><path clip-path=\"url(#clip590)\" d=\"M1939.17 1542.97 L1944.06 1542.97 L1944.06 1548.85 L1939.17 1548.85 L1939.17 1542.97 Z\" fill=\"#000000\" fill-rule=\"nonzero\" fill-opacity=\"1\" /><path clip-path=\"url(#clip590)\" d=\"M1958.27 1544.91 L1974.59 1544.91 L1974.59 1548.85 L1952.64 1548.85 L1952.64 1544.91 Q1955.31 1542.16 1959.89 1537.53 Q1964.5 1532.88 1965.68 1531.53 Q1967.92 1529.01 1968.8 1527.27 Q1969.7 1525.51 1969.7 1523.82 Q1969.7 1521.07 1967.76 1519.33 Q1965.84 1517.6 1962.74 1517.6 Q1960.54 1517.6 1958.08 1518.36 Q1955.65 1519.13 1952.87 1520.68 L1952.87 1515.95 Q1955.7 1514.82 1958.15 1514.24 Q1960.61 1513.66 1962.64 1513.66 Q1968.01 1513.66 1971.21 1516.35 Q1974.4 1519.03 1974.4 1523.52 Q1974.4 1525.65 1973.59 1527.57 Q1972.81 1529.47 1970.7 1532.07 Q1970.12 1532.74 1967.02 1535.95 Q1963.92 1539.15 1958.27 1544.91 Z\" fill=\"#000000\" fill-rule=\"nonzero\" fill-opacity=\"1\" /><polyline clip-path=\"url(#clip592)\" style=\"stroke:#000000; stroke-linecap:round; stroke-linejoin:round; stroke-width:2; stroke-opacity:0.1; fill:none\" points=\"201.019,1445.72 2352.76,1445.72 \"/>\n",
       "<polyline clip-path=\"url(#clip592)\" style=\"stroke:#000000; stroke-linecap:round; stroke-linejoin:round; stroke-width:2; stroke-opacity:0.1; fill:none\" points=\"201.019,1126.05 2352.76,1126.05 \"/>\n",
       "<polyline clip-path=\"url(#clip592)\" style=\"stroke:#000000; stroke-linecap:round; stroke-linejoin:round; stroke-width:2; stroke-opacity:0.1; fill:none\" points=\"201.019,806.388 2352.76,806.388 \"/>\n",
       "<polyline clip-path=\"url(#clip592)\" style=\"stroke:#000000; stroke-linecap:round; stroke-linejoin:round; stroke-width:2; stroke-opacity:0.1; fill:none\" points=\"201.019,486.725 2352.76,486.725 \"/>\n",
       "<polyline clip-path=\"url(#clip592)\" style=\"stroke:#000000; stroke-linecap:round; stroke-linejoin:round; stroke-width:2; stroke-opacity:0.1; fill:none\" points=\"201.019,167.061 2352.76,167.061 \"/>\n",
       "<polyline clip-path=\"url(#clip590)\" style=\"stroke:#000000; stroke-linecap:round; stroke-linejoin:round; stroke-width:4; stroke-opacity:1; fill:none\" points=\"201.019,1486.45 201.019,47.2441 \"/>\n",
       "<polyline clip-path=\"url(#clip590)\" style=\"stroke:#000000; stroke-linecap:round; stroke-linejoin:round; stroke-width:4; stroke-opacity:1; fill:none\" points=\"201.019,1445.72 219.917,1445.72 \"/>\n",
       "<polyline clip-path=\"url(#clip590)\" style=\"stroke:#000000; stroke-linecap:round; stroke-linejoin:round; stroke-width:4; stroke-opacity:1; fill:none\" points=\"201.019,1126.05 219.917,1126.05 \"/>\n",
       "<polyline clip-path=\"url(#clip590)\" style=\"stroke:#000000; stroke-linecap:round; stroke-linejoin:round; stroke-width:4; stroke-opacity:1; fill:none\" points=\"201.019,806.388 219.917,806.388 \"/>\n",
       "<polyline clip-path=\"url(#clip590)\" style=\"stroke:#000000; stroke-linecap:round; stroke-linejoin:round; stroke-width:4; stroke-opacity:1; fill:none\" points=\"201.019,486.725 219.917,486.725 \"/>\n",
       "<polyline clip-path=\"url(#clip590)\" style=\"stroke:#000000; stroke-linecap:round; stroke-linejoin:round; stroke-width:4; stroke-opacity:1; fill:none\" points=\"201.019,167.061 219.917,167.061 \"/>\n",
       "<path clip-path=\"url(#clip590)\" d=\"M153.075 1431.51 Q149.464 1431.51 147.635 1435.08 Q145.83 1438.62 145.83 1445.75 Q145.83 1452.86 147.635 1456.42 Q149.464 1459.96 153.075 1459.96 Q156.709 1459.96 158.515 1456.42 Q160.343 1452.86 160.343 1445.75 Q160.343 1438.62 158.515 1435.08 Q156.709 1431.51 153.075 1431.51 M153.075 1427.81 Q158.885 1427.81 161.941 1432.42 Q165.019 1437 165.019 1445.75 Q165.019 1454.48 161.941 1459.08 Q158.885 1463.67 153.075 1463.67 Q147.265 1463.67 144.186 1459.08 Q141.131 1454.48 141.131 1445.75 Q141.131 1437 144.186 1432.42 Q147.265 1427.81 153.075 1427.81 Z\" fill=\"#000000\" fill-rule=\"nonzero\" fill-opacity=\"1\" /><path clip-path=\"url(#clip590)\" d=\"M82.7975 1108.77 L101.154 1108.77 L101.154 1112.71 L87.0799 1112.71 L87.0799 1121.18 Q88.0984 1120.83 89.1169 1120.67 Q90.1354 1120.48 91.1539 1120.48 Q96.941 1120.48 100.321 1123.66 Q103.7 1126.83 103.7 1132.24 Q103.7 1137.82 100.228 1140.92 Q96.7558 1144 90.4364 1144 Q88.2604 1144 85.9919 1143.63 Q83.7466 1143.26 81.3392 1142.52 L81.3392 1137.82 Q83.4225 1138.96 85.6447 1139.51 Q87.8669 1140.07 90.3438 1140.07 Q94.3484 1140.07 96.6863 1137.96 Q99.0243 1135.86 99.0243 1132.24 Q99.0243 1128.63 96.6863 1126.53 Q94.3484 1124.42 90.3438 1124.42 Q88.4688 1124.42 86.5938 1124.84 Q84.7419 1125.25 82.7975 1126.13 L82.7975 1108.77 Z\" fill=\"#000000\" fill-rule=\"nonzero\" fill-opacity=\"1\" /><path clip-path=\"url(#clip590)\" d=\"M122.913 1111.85 Q119.302 1111.85 117.473 1115.42 Q115.668 1118.96 115.668 1126.09 Q115.668 1133.19 117.473 1136.76 Q119.302 1140.3 122.913 1140.3 Q126.547 1140.3 128.353 1136.76 Q130.182 1133.19 130.182 1126.09 Q130.182 1118.96 128.353 1115.42 Q126.547 1111.85 122.913 1111.85 M122.913 1108.15 Q128.723 1108.15 131.779 1112.75 Q134.857 1117.34 134.857 1126.09 Q134.857 1134.81 131.779 1139.42 Q128.723 1144 122.913 1144 Q117.103 1144 114.024 1139.42 Q110.969 1134.81 110.969 1126.09 Q110.969 1117.34 114.024 1112.75 Q117.103 1108.15 122.913 1108.15 Z\" fill=\"#000000\" fill-rule=\"nonzero\" fill-opacity=\"1\" /><path clip-path=\"url(#clip590)\" d=\"M153.075 1111.85 Q149.464 1111.85 147.635 1115.42 Q145.83 1118.96 145.83 1126.09 Q145.83 1133.19 147.635 1136.76 Q149.464 1140.3 153.075 1140.3 Q156.709 1140.3 158.515 1136.76 Q160.343 1133.19 160.343 1126.09 Q160.343 1118.96 158.515 1115.42 Q156.709 1111.85 153.075 1111.85 M153.075 1108.15 Q158.885 1108.15 161.941 1112.75 Q165.019 1117.34 165.019 1126.09 Q165.019 1134.81 161.941 1139.42 Q158.885 1144 153.075 1144 Q147.265 1144 144.186 1139.42 Q141.131 1134.81 141.131 1126.09 Q141.131 1117.34 144.186 1112.75 Q147.265 1108.15 153.075 1108.15 Z\" fill=\"#000000\" fill-rule=\"nonzero\" fill-opacity=\"1\" /><path clip-path=\"url(#clip590)\" d=\"M53.3995 819.733 L61.0384 819.733 L61.0384 793.368 L52.7282 795.034 L52.7282 790.775 L60.9921 789.108 L65.668 789.108 L65.668 819.733 L73.3068 819.733 L73.3068 823.668 L53.3995 823.668 L53.3995 819.733 Z\" fill=\"#000000\" fill-rule=\"nonzero\" fill-opacity=\"1\" /><path clip-path=\"url(#clip590)\" d=\"M92.7512 792.187 Q89.1401 792.187 87.3114 795.752 Q85.5058 799.294 85.5058 806.423 Q85.5058 813.53 87.3114 817.094 Q89.1401 820.636 92.7512 820.636 Q96.3854 820.636 98.1909 817.094 Q100.02 813.53 100.02 806.423 Q100.02 799.294 98.1909 795.752 Q96.3854 792.187 92.7512 792.187 M92.7512 788.483 Q98.5613 788.483 101.617 793.09 Q104.696 797.673 104.696 806.423 Q104.696 815.15 101.617 819.756 Q98.5613 824.34 92.7512 824.34 Q86.941 824.34 83.8623 819.756 Q80.8068 815.15 80.8068 806.423 Q80.8068 797.673 83.8623 793.09 Q86.941 788.483 92.7512 788.483 Z\" fill=\"#000000\" fill-rule=\"nonzero\" fill-opacity=\"1\" /><path clip-path=\"url(#clip590)\" d=\"M122.913 792.187 Q119.302 792.187 117.473 795.752 Q115.668 799.294 115.668 806.423 Q115.668 813.53 117.473 817.094 Q119.302 820.636 122.913 820.636 Q126.547 820.636 128.353 817.094 Q130.182 813.53 130.182 806.423 Q130.182 799.294 128.353 795.752 Q126.547 792.187 122.913 792.187 M122.913 788.483 Q128.723 788.483 131.779 793.09 Q134.857 797.673 134.857 806.423 Q134.857 815.15 131.779 819.756 Q128.723 824.34 122.913 824.34 Q117.103 824.34 114.024 819.756 Q110.969 815.15 110.969 806.423 Q110.969 797.673 114.024 793.09 Q117.103 788.483 122.913 788.483 Z\" fill=\"#000000\" fill-rule=\"nonzero\" fill-opacity=\"1\" /><path clip-path=\"url(#clip590)\" d=\"M153.075 792.187 Q149.464 792.187 147.635 795.752 Q145.83 799.294 145.83 806.423 Q145.83 813.53 147.635 817.094 Q149.464 820.636 153.075 820.636 Q156.709 820.636 158.515 817.094 Q160.343 813.53 160.343 806.423 Q160.343 799.294 158.515 795.752 Q156.709 792.187 153.075 792.187 M153.075 788.483 Q158.885 788.483 161.941 793.09 Q165.019 797.673 165.019 806.423 Q165.019 815.15 161.941 819.756 Q158.885 824.34 153.075 824.34 Q147.265 824.34 144.186 819.756 Q141.131 815.15 141.131 806.423 Q141.131 797.673 144.186 793.09 Q147.265 788.483 153.075 788.483 Z\" fill=\"#000000\" fill-rule=\"nonzero\" fill-opacity=\"1\" /><path clip-path=\"url(#clip590)\" d=\"M53.3995 500.07 L61.0384 500.07 L61.0384 473.704 L52.7282 475.371 L52.7282 471.111 L60.9921 469.445 L65.668 469.445 L65.668 500.07 L73.3068 500.07 L73.3068 504.005 L53.3995 504.005 L53.3995 500.07 Z\" fill=\"#000000\" fill-rule=\"nonzero\" fill-opacity=\"1\" /><path clip-path=\"url(#clip590)\" d=\"M82.7975 469.445 L101.154 469.445 L101.154 473.38 L87.0799 473.38 L87.0799 481.852 Q88.0984 481.505 89.1169 481.343 Q90.1354 481.158 91.1539 481.158 Q96.941 481.158 100.321 484.329 Q103.7 487.5 103.7 492.917 Q103.7 498.495 100.228 501.597 Q96.7558 504.676 90.4364 504.676 Q88.2604 504.676 85.9919 504.306 Q83.7466 503.935 81.3392 503.195 L81.3392 498.495 Q83.4225 499.63 85.6447 500.185 Q87.8669 500.741 90.3438 500.741 Q94.3484 500.741 96.6863 498.634 Q99.0243 496.528 99.0243 492.917 Q99.0243 489.306 96.6863 487.199 Q94.3484 485.093 90.3438 485.093 Q88.4688 485.093 86.5938 485.509 Q84.7419 485.926 82.7975 486.806 L82.7975 469.445 Z\" fill=\"#000000\" fill-rule=\"nonzero\" fill-opacity=\"1\" /><path clip-path=\"url(#clip590)\" d=\"M122.913 472.523 Q119.302 472.523 117.473 476.088 Q115.668 479.63 115.668 486.759 Q115.668 493.866 117.473 497.431 Q119.302 500.972 122.913 500.972 Q126.547 500.972 128.353 497.431 Q130.182 493.866 130.182 486.759 Q130.182 479.63 128.353 476.088 Q126.547 472.523 122.913 472.523 M122.913 468.82 Q128.723 468.82 131.779 473.426 Q134.857 478.009 134.857 486.759 Q134.857 495.486 131.779 500.093 Q128.723 504.676 122.913 504.676 Q117.103 504.676 114.024 500.093 Q110.969 495.486 110.969 486.759 Q110.969 478.009 114.024 473.426 Q117.103 468.82 122.913 468.82 Z\" fill=\"#000000\" fill-rule=\"nonzero\" fill-opacity=\"1\" /><path clip-path=\"url(#clip590)\" d=\"M153.075 472.523 Q149.464 472.523 147.635 476.088 Q145.83 479.63 145.83 486.759 Q145.83 493.866 147.635 497.431 Q149.464 500.972 153.075 500.972 Q156.709 500.972 158.515 497.431 Q160.343 493.866 160.343 486.759 Q160.343 479.63 158.515 476.088 Q156.709 472.523 153.075 472.523 M153.075 468.82 Q158.885 468.82 161.941 473.426 Q165.019 478.009 165.019 486.759 Q165.019 495.486 161.941 500.093 Q158.885 504.676 153.075 504.676 Q147.265 504.676 144.186 500.093 Q141.131 495.486 141.131 486.759 Q141.131 478.009 144.186 473.426 Q147.265 468.82 153.075 468.82 Z\" fill=\"#000000\" fill-rule=\"nonzero\" fill-opacity=\"1\" /><path clip-path=\"url(#clip590)\" d=\"M56.6171 180.406 L72.9365 180.406 L72.9365 184.341 L50.9921 184.341 L50.9921 180.406 Q53.6541 177.651 58.2375 173.022 Q62.8439 168.369 64.0245 167.026 Q66.2698 164.503 67.1494 162.767 Q68.0522 161.008 68.0522 159.318 Q68.0522 156.563 66.1078 154.827 Q64.1865 153.091 61.0847 153.091 Q58.8856 153.091 56.4319 153.855 Q54.0014 154.619 51.2236 156.17 L51.2236 151.448 Q54.0477 150.313 56.5014 149.735 Q58.955 149.156 60.9921 149.156 Q66.3624 149.156 69.5568 151.841 Q72.7513 154.526 72.7513 159.017 Q72.7513 161.147 71.9411 163.068 Q71.1541 164.966 69.0476 167.559 Q68.4689 168.23 65.367 171.448 Q62.2652 174.642 56.6171 180.406 Z\" fill=\"#000000\" fill-rule=\"nonzero\" fill-opacity=\"1\" /><path clip-path=\"url(#clip590)\" d=\"M92.7512 152.86 Q89.1401 152.86 87.3114 156.425 Q85.5058 159.966 85.5058 167.096 Q85.5058 174.202 87.3114 177.767 Q89.1401 181.309 92.7512 181.309 Q96.3854 181.309 98.1909 177.767 Q100.02 174.202 100.02 167.096 Q100.02 159.966 98.1909 156.425 Q96.3854 152.86 92.7512 152.86 M92.7512 149.156 Q98.5613 149.156 101.617 153.763 Q104.696 158.346 104.696 167.096 Q104.696 175.823 101.617 180.429 Q98.5613 185.012 92.7512 185.012 Q86.941 185.012 83.8623 180.429 Q80.8068 175.823 80.8068 167.096 Q80.8068 158.346 83.8623 153.763 Q86.941 149.156 92.7512 149.156 Z\" fill=\"#000000\" fill-rule=\"nonzero\" fill-opacity=\"1\" /><path clip-path=\"url(#clip590)\" d=\"M122.913 152.86 Q119.302 152.86 117.473 156.425 Q115.668 159.966 115.668 167.096 Q115.668 174.202 117.473 177.767 Q119.302 181.309 122.913 181.309 Q126.547 181.309 128.353 177.767 Q130.182 174.202 130.182 167.096 Q130.182 159.966 128.353 156.425 Q126.547 152.86 122.913 152.86 M122.913 149.156 Q128.723 149.156 131.779 153.763 Q134.857 158.346 134.857 167.096 Q134.857 175.823 131.779 180.429 Q128.723 185.012 122.913 185.012 Q117.103 185.012 114.024 180.429 Q110.969 175.823 110.969 167.096 Q110.969 158.346 114.024 153.763 Q117.103 149.156 122.913 149.156 Z\" fill=\"#000000\" fill-rule=\"nonzero\" fill-opacity=\"1\" /><path clip-path=\"url(#clip590)\" d=\"M153.075 152.86 Q149.464 152.86 147.635 156.425 Q145.83 159.966 145.83 167.096 Q145.83 174.202 147.635 177.767 Q149.464 181.309 153.075 181.309 Q156.709 181.309 158.515 177.767 Q160.343 174.202 160.343 167.096 Q160.343 159.966 158.515 156.425 Q156.709 152.86 153.075 152.86 M153.075 149.156 Q158.885 149.156 161.941 153.763 Q165.019 158.346 165.019 167.096 Q165.019 175.823 161.941 180.429 Q158.885 185.012 153.075 185.012 Q147.265 185.012 144.186 180.429 Q141.131 175.823 141.131 167.096 Q141.131 158.346 144.186 153.763 Q147.265 149.156 153.075 149.156 Z\" fill=\"#000000\" fill-rule=\"nonzero\" fill-opacity=\"1\" /><polyline clip-path=\"url(#clip592)\" style=\"stroke:#009af9; stroke-linecap:round; stroke-linejoin:round; stroke-width:4; stroke-opacity:1; fill:none\" points=\"261.917,1445.72 331.915,1445.72 401.913,1445.72 471.911,1445.72 541.909,1445.72 611.907,1445.72 681.905,1445.72 751.903,1445.72 821.901,1445.72 891.899,1445.72 961.897,1445.72 1031.89,1445.72 1101.89,1445.72 1171.89,1445.72 1241.89,1445.72 1311.89,733.761 1381.88,87.9763 1451.88,1320.28 1521.88,1320.28 1591.88,1320.28 1661.88,1320.28 1731.87,1320.28 1801.87,1320.28 1871.87,1320.28 1941.87,1320.28 2011.87,1320.28 2081.86,1320.28 2151.86,1320.28 2221.86,1320.28 2291.86,1320.28 \"/>\n",
       "<path clip-path=\"url(#clip590)\" d=\"M2013.43 198.898 L2281.03 198.898 L2281.03 95.2176 L2013.43 95.2176  Z\" fill=\"#ffffff\" fill-rule=\"evenodd\" fill-opacity=\"1\"/>\n",
       "<polyline clip-path=\"url(#clip590)\" style=\"stroke:#000000; stroke-linecap:round; stroke-linejoin:round; stroke-width:4; stroke-opacity:1; fill:none\" points=\"2013.43,198.898 2281.03,198.898 2281.03,95.2176 2013.43,95.2176 2013.43,198.898 \"/>\n",
       "<polyline clip-path=\"url(#clip590)\" style=\"stroke:#009af9; stroke-linecap:round; stroke-linejoin:round; stroke-width:4; stroke-opacity:1; fill:none\" points=\"2037.34,147.058 2180.78,147.058 \"/>\n",
       "<path clip-path=\"url(#clip590)\" d=\"M2218.54 166.745 Q2216.73 171.375 2215.02 172.787 Q2213.3 174.199 2210.43 174.199 L2207.03 174.199 L2207.03 170.634 L2209.53 170.634 Q2211.29 170.634 2212.26 169.8 Q2213.23 168.967 2214.42 165.865 L2215.18 163.921 L2204.69 138.412 L2209.21 138.412 L2217.31 158.689 L2225.41 138.412 L2229.92 138.412 L2218.54 166.745 Z\" fill=\"#000000\" fill-rule=\"nonzero\" fill-opacity=\"1\" /><path clip-path=\"url(#clip590)\" d=\"M2237.22 160.402 L2244.85 160.402 L2244.85 134.037 L2236.54 135.703 L2236.54 131.444 L2244.81 129.778 L2249.48 129.778 L2249.48 160.402 L2257.12 160.402 L2257.12 164.338 L2237.22 164.338 L2237.22 160.402 Z\" fill=\"#000000\" fill-rule=\"nonzero\" fill-opacity=\"1\" /></svg>\n"
      ]
     },
     "execution_count": 39,
     "metadata": {},
     "output_type": "execute_result"
    }
   ],
   "source": [
    "plot(thist[1:end-1],nhist)"
   ]
  },
  {
   "cell_type": "code",
   "execution_count": 40,
   "id": "27aad2a2",
   "metadata": {},
   "outputs": [
    {
     "data": {
      "text/plain": [
       "8.219257315970218e-7"
      ]
     },
     "execution_count": 40,
     "metadata": {},
     "output_type": "execute_result"
    }
   ],
   "source": [
    "maximum(shist)"
   ]
  },
  {
   "cell_type": "code",
   "execution_count": 41,
   "id": "19964753",
   "metadata": {},
   "outputs": [
    {
     "data": {
      "text/plain": [
       "31"
      ]
     },
     "execution_count": 41,
     "metadata": {},
     "output_type": "execute_result"
    }
   ],
   "source": [
    "#Parameters\n",
    "g = 9.81\n",
    "m = 1.0\n",
    "μ = .05\n",
    "h = 0.05 #10 Hz\n",
    "Tf = 1.5 #final time (sec)\n",
    "thist = Array(0:h:Tf)\n",
    "N = length(thist)"
   ]
  },
  {
   "cell_type": "code",
   "execution_count": 42,
   "id": "cfde5c20",
   "metadata": {},
   "outputs": [
    {
     "data": {
      "text/plain": [
       "DEL (generic function with 2 methods)"
      ]
     },
     "execution_count": 42,
     "metadata": {},
     "output_type": "execute_result"
    }
   ],
   "source": [
    "function DEL(q1,q2,q3,n,b)\n",
    "    D2Ld(q1,q2) + D1Ld(q2,q3) + h*[b;n]\n",
    "end"
   ]
  },
  {
   "cell_type": "code",
   "execution_count": 43,
   "id": "57407878",
   "metadata": {},
   "outputs": [
    {
     "data": {
      "text/plain": [
       "smoothsqrt (generic function with 1 method)"
      ]
     },
     "execution_count": 43,
     "metadata": {},
     "output_type": "execute_result"
    }
   ],
   "source": [
    "function smoothsqrt(x)\n",
    "    ϵ = 1e-6\n",
    "    return sqrt(x+ϵ*ϵ) - ϵ\n",
    "end"
   ]
  },
  {
   "cell_type": "code",
   "execution_count": 44,
   "id": "c04c5f1a",
   "metadata": {},
   "outputs": [
    {
     "data": {
      "text/plain": [
       "primal_bounds (generic function with 1 method)"
      ]
     },
     "execution_count": 44,
     "metadata": {},
     "output_type": "execute_result"
    }
   ],
   "source": [
    "#Objective and constraint functions for IPOPT with Friction\n",
    "\n",
    "function objective(z)\n",
    "    qn = z[1:2]\n",
    "    n = z[3]\n",
    "    b = z[4]\n",
    "    λ = z[5]\n",
    "    s = z[6:7]\n",
    "    \n",
    "    return sum(s) #Minimize slacks associated with relaxed complementarity conditions\n",
    "end\n",
    "\n",
    "function constraint!(c,z)\n",
    "    qn = z[1:2]\n",
    "    n = z[3]\n",
    "    b = z[4]\n",
    "    λ = z[5]\n",
    "    s = z[6:7]\n",
    "    \n",
    "    vm = (qn-qhist[:,k])/h\n",
    "    \n",
    "    c .= [DEL(qhist[:,k-1],qhist[:,k],qn,n,b); #DEL\n",
    "          [1; 0]'*vm + λ*b/smoothsqrt(b*b); #maximum dissipation\n",
    "          μ*n - smoothsqrt(b*b); #friction cone\n",
    "          s[1]-n*ϕ(qn); #relaxed complementarity\n",
    "          s[2]-λ*(μ*n - smoothsqrt(b*b))] #relaxed complementarity\n",
    "    \n",
    "    return nothing\n",
    "end\n",
    "\n",
    "#Specify the indecies of c (constraint output) that should be non-negative.\n",
    "#The rest will be treated as equality constraints.\n",
    "nonnegative_constraint_indices = (4:6)\n",
    "\n",
    "function primal_bounds(n)\n",
    "    #Enforce simple bound constraints on the decision variables (e.g. positivity) here\n",
    "    \n",
    "    x_l = [-Inf; 0; 0; -Inf; zeros(3)]\n",
    "    x_u = Inf*ones(7)\n",
    "    \n",
    "    return x_l, x_u\n",
    "end"
   ]
  },
  {
   "cell_type": "code",
   "execution_count": 45,
   "id": "f758a27e",
   "metadata": {},
   "outputs": [],
   "source": [
    "#Solve with IPOPT\n",
    "n_nlp = 7\n",
    "m_nlp = 6\n",
    "nlp_prob = ProblemMOI(n_nlp,m_nlp, idx_ineq=nonnegative_constraint_indices);\n",
    "\n",
    "#Initial conditions\n",
    "qhist = zeros(2,N)\n",
    "qhist[:,1] .= q0\n",
    "qhist[:,2] .= q1\n",
    "\n",
    "nhist = zeros(N-1)\n",
    "bhist = zeros(N-1)\n",
    "λhist = zeros(N-1)\n",
    "shist = zeros(2,N-1)\n",
    "k = 0\n",
    "\n",
    "for kk = 2:(N-1)\n",
    "    k = kk\n",
    "    z_guess = [qhist[:,k]; ones(5)]\n",
    "    z_sol = ipopt_solve(z_guess,nlp_prob);\n",
    "    qhist[:,k+1] .= z_sol[1:2]\n",
    "    nhist[k] = z_sol[3]\n",
    "    bhist[k] = z_sol[4]\n",
    "    λhist[k] = z_sol[5]\n",
    "    shist[:,k] .= z_sol[6:7]\n",
    "end"
   ]
  },
  {
   "cell_type": "code",
   "execution_count": 46,
   "id": "57d88df0",
   "metadata": {},
   "outputs": [
    {
     "data": {
      "image/svg+xml": [
       "<?xml version=\"1.0\" encoding=\"utf-8\"?>\n",
       "<svg xmlns=\"http://www.w3.org/2000/svg\" xmlns:xlink=\"http://www.w3.org/1999/xlink\" width=\"600\" height=\"400\" viewBox=\"0 0 2400 1600\">\n",
       "<defs>\n",
       "  <clipPath id=\"clip630\">\n",
       "    <rect x=\"0\" y=\"0\" width=\"2400\" height=\"1600\"/>\n",
       "  </clipPath>\n",
       "</defs>\n",
       "<path clip-path=\"url(#clip630)\" d=\"M0 1600 L2400 1600 L2400 0 L0 0  Z\" fill=\"#ffffff\" fill-rule=\"evenodd\" fill-opacity=\"1\"/>\n",
       "<defs>\n",
       "  <clipPath id=\"clip631\">\n",
       "    <rect x=\"480\" y=\"0\" width=\"1681\" height=\"1600\"/>\n",
       "  </clipPath>\n",
       "</defs>\n",
       "<path clip-path=\"url(#clip630)\" d=\"M186.274 1486.45 L2352.76 1486.45 L2352.76 47.2441 L186.274 47.2441  Z\" fill=\"#ffffff\" fill-rule=\"evenodd\" fill-opacity=\"1\"/>\n",
       "<defs>\n",
       "  <clipPath id=\"clip632\">\n",
       "    <rect x=\"186\" y=\"47\" width=\"2167\" height=\"1440\"/>\n",
       "  </clipPath>\n",
       "</defs>\n",
       "<polyline clip-path=\"url(#clip632)\" style=\"stroke:#000000; stroke-linecap:round; stroke-linejoin:round; stroke-width:2; stroke-opacity:0.1; fill:none\" points=\"247.59,1486.45 247.59,47.2441 \"/>\n",
       "<polyline clip-path=\"url(#clip632)\" style=\"stroke:#000000; stroke-linecap:round; stroke-linejoin:round; stroke-width:2; stroke-opacity:0.1; fill:none\" points=\"928.873,1486.45 928.873,47.2441 \"/>\n",
       "<polyline clip-path=\"url(#clip632)\" style=\"stroke:#000000; stroke-linecap:round; stroke-linejoin:round; stroke-width:2; stroke-opacity:0.1; fill:none\" points=\"1610.16,1486.45 1610.16,47.2441 \"/>\n",
       "<polyline clip-path=\"url(#clip632)\" style=\"stroke:#000000; stroke-linecap:round; stroke-linejoin:round; stroke-width:2; stroke-opacity:0.1; fill:none\" points=\"2291.44,1486.45 2291.44,47.2441 \"/>\n",
       "<polyline clip-path=\"url(#clip630)\" style=\"stroke:#000000; stroke-linecap:round; stroke-linejoin:round; stroke-width:4; stroke-opacity:1; fill:none\" points=\"186.274,1486.45 2352.76,1486.45 \"/>\n",
       "<polyline clip-path=\"url(#clip630)\" style=\"stroke:#000000; stroke-linecap:round; stroke-linejoin:round; stroke-width:4; stroke-opacity:1; fill:none\" points=\"247.59,1486.45 247.59,1467.55 \"/>\n",
       "<polyline clip-path=\"url(#clip630)\" style=\"stroke:#000000; stroke-linecap:round; stroke-linejoin:round; stroke-width:4; stroke-opacity:1; fill:none\" points=\"928.873,1486.45 928.873,1467.55 \"/>\n",
       "<polyline clip-path=\"url(#clip630)\" style=\"stroke:#000000; stroke-linecap:round; stroke-linejoin:round; stroke-width:4; stroke-opacity:1; fill:none\" points=\"1610.16,1486.45 1610.16,1467.55 \"/>\n",
       "<polyline clip-path=\"url(#clip630)\" style=\"stroke:#000000; stroke-linecap:round; stroke-linejoin:round; stroke-width:4; stroke-opacity:1; fill:none\" points=\"2291.44,1486.45 2291.44,1467.55 \"/>\n",
       "<path clip-path=\"url(#clip630)\" d=\"M224.974 1517.37 Q221.363 1517.37 219.534 1520.93 Q217.729 1524.47 217.729 1531.6 Q217.729 1538.71 219.534 1542.27 Q221.363 1545.82 224.974 1545.82 Q228.608 1545.82 230.414 1542.27 Q232.242 1538.71 232.242 1531.6 Q232.242 1524.47 230.414 1520.93 Q228.608 1517.37 224.974 1517.37 M224.974 1513.66 Q230.784 1513.66 233.84 1518.27 Q236.918 1522.85 236.918 1531.6 Q236.918 1540.33 233.84 1544.94 Q230.784 1549.52 224.974 1549.52 Q219.164 1549.52 216.085 1544.94 Q213.03 1540.33 213.03 1531.6 Q213.03 1522.85 216.085 1518.27 Q219.164 1513.66 224.974 1513.66 Z\" fill=\"#000000\" fill-rule=\"nonzero\" fill-opacity=\"1\" /><path clip-path=\"url(#clip630)\" d=\"M245.136 1542.97 L250.02 1542.97 L250.02 1548.85 L245.136 1548.85 L245.136 1542.97 Z\" fill=\"#000000\" fill-rule=\"nonzero\" fill-opacity=\"1\" /><path clip-path=\"url(#clip630)\" d=\"M270.205 1517.37 Q266.594 1517.37 264.765 1520.93 Q262.96 1524.47 262.96 1531.6 Q262.96 1538.71 264.765 1542.27 Q266.594 1545.82 270.205 1545.82 Q273.839 1545.82 275.645 1542.27 Q277.474 1538.71 277.474 1531.6 Q277.474 1524.47 275.645 1520.93 Q273.839 1517.37 270.205 1517.37 M270.205 1513.66 Q276.015 1513.66 279.071 1518.27 Q282.15 1522.85 282.15 1531.6 Q282.15 1540.33 279.071 1544.94 Q276.015 1549.52 270.205 1549.52 Q264.395 1549.52 261.316 1544.94 Q258.261 1540.33 258.261 1531.6 Q258.261 1522.85 261.316 1518.27 Q264.395 1513.66 270.205 1513.66 Z\" fill=\"#000000\" fill-rule=\"nonzero\" fill-opacity=\"1\" /><path clip-path=\"url(#clip630)\" d=\"M906.755 1517.37 Q903.144 1517.37 901.315 1520.93 Q899.51 1524.47 899.51 1531.6 Q899.51 1538.71 901.315 1542.27 Q903.144 1545.82 906.755 1545.82 Q910.389 1545.82 912.195 1542.27 Q914.024 1538.71 914.024 1531.6 Q914.024 1524.47 912.195 1520.93 Q910.389 1517.37 906.755 1517.37 M906.755 1513.66 Q912.565 1513.66 915.621 1518.27 Q918.7 1522.85 918.7 1531.6 Q918.7 1540.33 915.621 1544.94 Q912.565 1549.52 906.755 1549.52 Q900.945 1549.52 897.866 1544.94 Q894.811 1540.33 894.811 1531.6 Q894.811 1522.85 897.866 1518.27 Q900.945 1513.66 906.755 1513.66 Z\" fill=\"#000000\" fill-rule=\"nonzero\" fill-opacity=\"1\" /><path clip-path=\"url(#clip630)\" d=\"M926.917 1542.97 L931.801 1542.97 L931.801 1548.85 L926.917 1548.85 L926.917 1542.97 Z\" fill=\"#000000\" fill-rule=\"nonzero\" fill-opacity=\"1\" /><path clip-path=\"url(#clip630)\" d=\"M942.033 1514.29 L960.389 1514.29 L960.389 1518.22 L946.315 1518.22 L946.315 1526.7 Q947.334 1526.35 948.352 1526.19 Q949.371 1526 950.389 1526 Q956.176 1526 959.556 1529.17 Q962.935 1532.34 962.935 1537.76 Q962.935 1543.34 959.463 1546.44 Q955.991 1549.52 949.672 1549.52 Q947.496 1549.52 945.227 1549.15 Q942.982 1548.78 940.574 1548.04 L940.574 1543.34 Q942.658 1544.47 944.88 1545.03 Q947.102 1545.58 949.579 1545.58 Q953.584 1545.58 955.922 1543.48 Q958.26 1541.37 958.26 1537.76 Q958.26 1534.15 955.922 1532.04 Q953.584 1529.94 949.579 1529.94 Q947.704 1529.94 945.829 1530.35 Q943.977 1530.77 942.033 1531.65 L942.033 1514.29 Z\" fill=\"#000000\" fill-rule=\"nonzero\" fill-opacity=\"1\" /><path clip-path=\"url(#clip630)\" d=\"M1577.31 1544.91 L1584.95 1544.91 L1584.95 1518.55 L1576.64 1520.21 L1576.64 1515.95 L1584.9 1514.29 L1589.58 1514.29 L1589.58 1544.91 L1597.22 1544.91 L1597.22 1548.85 L1577.31 1548.85 L1577.31 1544.91 Z\" fill=\"#000000\" fill-rule=\"nonzero\" fill-opacity=\"1\" /><path clip-path=\"url(#clip630)\" d=\"M1606.66 1542.97 L1611.55 1542.97 L1611.55 1548.85 L1606.66 1548.85 L1606.66 1542.97 Z\" fill=\"#000000\" fill-rule=\"nonzero\" fill-opacity=\"1\" /><path clip-path=\"url(#clip630)\" d=\"M1631.73 1517.37 Q1628.12 1517.37 1626.29 1520.93 Q1624.49 1524.47 1624.49 1531.6 Q1624.49 1538.71 1626.29 1542.27 Q1628.12 1545.82 1631.73 1545.82 Q1635.36 1545.82 1637.17 1542.27 Q1639 1538.71 1639 1531.6 Q1639 1524.47 1637.17 1520.93 Q1635.36 1517.37 1631.73 1517.37 M1631.73 1513.66 Q1637.54 1513.66 1640.6 1518.27 Q1643.68 1522.85 1643.68 1531.6 Q1643.68 1540.33 1640.6 1544.94 Q1637.54 1549.52 1631.73 1549.52 Q1625.92 1549.52 1622.84 1544.94 Q1619.79 1540.33 1619.79 1531.6 Q1619.79 1522.85 1622.84 1518.27 Q1625.92 1513.66 1631.73 1513.66 Z\" fill=\"#000000\" fill-rule=\"nonzero\" fill-opacity=\"1\" /><path clip-path=\"url(#clip630)\" d=\"M2259.09 1544.91 L2266.73 1544.91 L2266.73 1518.55 L2258.42 1520.21 L2258.42 1515.95 L2266.68 1514.29 L2271.36 1514.29 L2271.36 1544.91 L2279 1544.91 L2279 1548.85 L2259.09 1548.85 L2259.09 1544.91 Z\" fill=\"#000000\" fill-rule=\"nonzero\" fill-opacity=\"1\" /><path clip-path=\"url(#clip630)\" d=\"M2288.44 1542.97 L2293.33 1542.97 L2293.33 1548.85 L2288.44 1548.85 L2288.44 1542.97 Z\" fill=\"#000000\" fill-rule=\"nonzero\" fill-opacity=\"1\" /><path clip-path=\"url(#clip630)\" d=\"M2303.56 1514.29 L2321.91 1514.29 L2321.91 1518.22 L2307.84 1518.22 L2307.84 1526.7 Q2308.86 1526.35 2309.88 1526.19 Q2310.9 1526 2311.91 1526 Q2317.7 1526 2321.08 1529.17 Q2324.46 1532.34 2324.46 1537.76 Q2324.46 1543.34 2320.99 1546.44 Q2317.52 1549.52 2311.2 1549.52 Q2309.02 1549.52 2306.75 1549.15 Q2304.51 1548.78 2302.1 1548.04 L2302.1 1543.34 Q2304.18 1544.47 2306.41 1545.03 Q2308.63 1545.58 2311.1 1545.58 Q2315.11 1545.58 2317.45 1543.48 Q2319.79 1541.37 2319.79 1537.76 Q2319.79 1534.15 2317.45 1532.04 Q2315.11 1529.94 2311.1 1529.94 Q2309.23 1529.94 2307.35 1530.35 Q2305.5 1530.77 2303.56 1531.65 L2303.56 1514.29 Z\" fill=\"#000000\" fill-rule=\"nonzero\" fill-opacity=\"1\" /><polyline clip-path=\"url(#clip632)\" style=\"stroke:#000000; stroke-linecap:round; stroke-linejoin:round; stroke-width:2; stroke-opacity:0.1; fill:none\" points=\"186.274,1445.72 2352.76,1445.72 \"/>\n",
       "<polyline clip-path=\"url(#clip632)\" style=\"stroke:#000000; stroke-linecap:round; stroke-linejoin:round; stroke-width:2; stroke-opacity:0.1; fill:none\" points=\"186.274,1136.63 2352.76,1136.63 \"/>\n",
       "<polyline clip-path=\"url(#clip632)\" style=\"stroke:#000000; stroke-linecap:round; stroke-linejoin:round; stroke-width:2; stroke-opacity:0.1; fill:none\" points=\"186.274,827.543 2352.76,827.543 \"/>\n",
       "<polyline clip-path=\"url(#clip632)\" style=\"stroke:#000000; stroke-linecap:round; stroke-linejoin:round; stroke-width:2; stroke-opacity:0.1; fill:none\" points=\"186.274,518.456 2352.76,518.456 \"/>\n",
       "<polyline clip-path=\"url(#clip632)\" style=\"stroke:#000000; stroke-linecap:round; stroke-linejoin:round; stroke-width:2; stroke-opacity:0.1; fill:none\" points=\"186.274,209.37 2352.76,209.37 \"/>\n",
       "<polyline clip-path=\"url(#clip630)\" style=\"stroke:#000000; stroke-linecap:round; stroke-linejoin:round; stroke-width:4; stroke-opacity:1; fill:none\" points=\"186.274,1486.45 186.274,47.2441 \"/>\n",
       "<polyline clip-path=\"url(#clip630)\" style=\"stroke:#000000; stroke-linecap:round; stroke-linejoin:round; stroke-width:4; stroke-opacity:1; fill:none\" points=\"186.274,1445.72 205.172,1445.72 \"/>\n",
       "<polyline clip-path=\"url(#clip630)\" style=\"stroke:#000000; stroke-linecap:round; stroke-linejoin:round; stroke-width:4; stroke-opacity:1; fill:none\" points=\"186.274,1136.63 205.172,1136.63 \"/>\n",
       "<polyline clip-path=\"url(#clip630)\" style=\"stroke:#000000; stroke-linecap:round; stroke-linejoin:round; stroke-width:4; stroke-opacity:1; fill:none\" points=\"186.274,827.543 205.172,827.543 \"/>\n",
       "<polyline clip-path=\"url(#clip630)\" style=\"stroke:#000000; stroke-linecap:round; stroke-linejoin:round; stroke-width:4; stroke-opacity:1; fill:none\" points=\"186.274,518.456 205.172,518.456 \"/>\n",
       "<polyline clip-path=\"url(#clip630)\" style=\"stroke:#000000; stroke-linecap:round; stroke-linejoin:round; stroke-width:4; stroke-opacity:1; fill:none\" points=\"186.274,209.37 205.172,209.37 \"/>\n",
       "<path clip-path=\"url(#clip630)\" d=\"M62.9365 1431.51 Q59.3254 1431.51 57.4967 1435.08 Q55.6912 1438.62 55.6912 1445.75 Q55.6912 1452.86 57.4967 1456.42 Q59.3254 1459.96 62.9365 1459.96 Q66.5707 1459.96 68.3763 1456.42 Q70.205 1452.86 70.205 1445.75 Q70.205 1438.62 68.3763 1435.08 Q66.5707 1431.51 62.9365 1431.51 M62.9365 1427.81 Q68.7467 1427.81 71.8022 1432.42 Q74.8809 1437 74.8809 1445.75 Q74.8809 1454.48 71.8022 1459.08 Q68.7467 1463.67 62.9365 1463.67 Q57.1264 1463.67 54.0477 1459.08 Q50.9921 1454.48 50.9921 1445.75 Q50.9921 1437 54.0477 1432.42 Q57.1264 1427.81 62.9365 1427.81 Z\" fill=\"#000000\" fill-rule=\"nonzero\" fill-opacity=\"1\" /><path clip-path=\"url(#clip630)\" d=\"M83.0984 1457.12 L87.9827 1457.12 L87.9827 1463 L83.0984 1463 L83.0984 1457.12 Z\" fill=\"#000000\" fill-rule=\"nonzero\" fill-opacity=\"1\" /><path clip-path=\"url(#clip630)\" d=\"M108.168 1431.51 Q104.557 1431.51 102.728 1435.08 Q100.922 1438.62 100.922 1445.75 Q100.922 1452.86 102.728 1456.42 Q104.557 1459.96 108.168 1459.96 Q111.802 1459.96 113.608 1456.42 Q115.436 1452.86 115.436 1445.75 Q115.436 1438.62 113.608 1435.08 Q111.802 1431.51 108.168 1431.51 M108.168 1427.81 Q113.978 1427.81 117.033 1432.42 Q120.112 1437 120.112 1445.75 Q120.112 1454.48 117.033 1459.08 Q113.978 1463.67 108.168 1463.67 Q102.358 1463.67 99.2789 1459.08 Q96.2234 1454.48 96.2234 1445.75 Q96.2234 1437 99.2789 1432.42 Q102.358 1427.81 108.168 1427.81 Z\" fill=\"#000000\" fill-rule=\"nonzero\" fill-opacity=\"1\" /><path clip-path=\"url(#clip630)\" d=\"M138.33 1431.51 Q134.719 1431.51 132.89 1435.08 Q131.084 1438.62 131.084 1445.75 Q131.084 1452.86 132.89 1456.42 Q134.719 1459.96 138.33 1459.96 Q141.964 1459.96 143.769 1456.42 Q145.598 1452.86 145.598 1445.75 Q145.598 1438.62 143.769 1435.08 Q141.964 1431.51 138.33 1431.51 M138.33 1427.81 Q144.14 1427.81 147.195 1432.42 Q150.274 1437 150.274 1445.75 Q150.274 1454.48 147.195 1459.08 Q144.14 1463.67 138.33 1463.67 Q132.519 1463.67 129.441 1459.08 Q126.385 1454.48 126.385 1445.75 Q126.385 1437 129.441 1432.42 Q132.519 1427.81 138.33 1427.81 Z\" fill=\"#000000\" fill-rule=\"nonzero\" fill-opacity=\"1\" /><path clip-path=\"url(#clip630)\" d=\"M63.9319 1122.43 Q60.3208 1122.43 58.4921 1125.99 Q56.6865 1129.53 56.6865 1136.66 Q56.6865 1143.77 58.4921 1147.34 Q60.3208 1150.88 63.9319 1150.88 Q67.5661 1150.88 69.3717 1147.34 Q71.2004 1143.77 71.2004 1136.66 Q71.2004 1129.53 69.3717 1125.99 Q67.5661 1122.43 63.9319 1122.43 M63.9319 1118.72 Q69.742 1118.72 72.7976 1123.33 Q75.8763 1127.91 75.8763 1136.66 Q75.8763 1145.39 72.7976 1150 Q69.742 1154.58 63.9319 1154.58 Q58.1217 1154.58 55.043 1150 Q51.9875 1145.39 51.9875 1136.66 Q51.9875 1127.91 55.043 1123.33 Q58.1217 1118.72 63.9319 1118.72 Z\" fill=\"#000000\" fill-rule=\"nonzero\" fill-opacity=\"1\" /><path clip-path=\"url(#clip630)\" d=\"M84.0938 1148.03 L88.978 1148.03 L88.978 1153.91 L84.0938 1153.91 L84.0938 1148.03 Z\" fill=\"#000000\" fill-rule=\"nonzero\" fill-opacity=\"1\" /><path clip-path=\"url(#clip630)\" d=\"M103.191 1149.97 L119.51 1149.97 L119.51 1153.91 L97.566 1153.91 L97.566 1149.97 Q100.228 1147.22 104.811 1142.59 Q109.418 1137.94 110.598 1136.59 Q112.844 1134.07 113.723 1132.34 Q114.626 1130.58 114.626 1128.89 Q114.626 1126.13 112.682 1124.4 Q110.76 1122.66 107.658 1122.66 Q105.459 1122.66 103.006 1123.42 Q100.575 1124.19 97.7974 1125.74 L97.7974 1121.02 Q100.621 1119.88 103.075 1119.3 Q105.529 1118.72 107.566 1118.72 Q112.936 1118.72 116.131 1121.41 Q119.325 1124.09 119.325 1128.59 Q119.325 1130.71 118.515 1132.64 Q117.728 1134.53 115.621 1137.13 Q115.043 1137.8 111.941 1141.02 Q108.839 1144.21 103.191 1149.97 Z\" fill=\"#000000\" fill-rule=\"nonzero\" fill-opacity=\"1\" /><path clip-path=\"url(#clip630)\" d=\"M129.371 1119.35 L147.728 1119.35 L147.728 1123.28 L133.654 1123.28 L133.654 1131.76 Q134.672 1131.41 135.691 1131.25 Q136.709 1131.06 137.728 1131.06 Q143.515 1131.06 146.894 1134.23 Q150.274 1137.4 150.274 1142.82 Q150.274 1148.4 146.802 1151.5 Q143.33 1154.58 137.01 1154.58 Q134.834 1154.58 132.566 1154.21 Q130.32 1153.84 127.913 1153.1 L127.913 1148.4 Q129.996 1149.53 132.219 1150.09 Q134.441 1150.65 136.918 1150.65 Q140.922 1150.65 143.26 1148.54 Q145.598 1146.43 145.598 1142.82 Q145.598 1139.21 143.26 1137.1 Q140.922 1135 136.918 1135 Q135.043 1135 133.168 1135.41 Q131.316 1135.83 129.371 1136.71 L129.371 1119.35 Z\" fill=\"#000000\" fill-rule=\"nonzero\" fill-opacity=\"1\" /><path clip-path=\"url(#clip630)\" d=\"M62.9365 813.342 Q59.3254 813.342 57.4967 816.906 Q55.6912 820.448 55.6912 827.578 Q55.6912 834.684 57.4967 838.249 Q59.3254 841.79 62.9365 841.79 Q66.5707 841.79 68.3763 838.249 Q70.205 834.684 70.205 827.578 Q70.205 820.448 68.3763 816.906 Q66.5707 813.342 62.9365 813.342 M62.9365 809.638 Q68.7467 809.638 71.8022 814.244 Q74.8809 818.828 74.8809 827.578 Q74.8809 836.304 71.8022 840.911 Q68.7467 845.494 62.9365 845.494 Q57.1264 845.494 54.0477 840.911 Q50.9921 836.304 50.9921 827.578 Q50.9921 818.828 54.0477 814.244 Q57.1264 809.638 62.9365 809.638 Z\" fill=\"#000000\" fill-rule=\"nonzero\" fill-opacity=\"1\" /><path clip-path=\"url(#clip630)\" d=\"M83.0984 838.943 L87.9827 838.943 L87.9827 844.823 L83.0984 844.823 L83.0984 838.943 Z\" fill=\"#000000\" fill-rule=\"nonzero\" fill-opacity=\"1\" /><path clip-path=\"url(#clip630)\" d=\"M98.2141 810.263 L116.57 810.263 L116.57 814.198 L102.496 814.198 L102.496 822.67 Q103.515 822.323 104.534 822.161 Q105.552 821.976 106.571 821.976 Q112.358 821.976 115.737 825.147 Q119.117 828.318 119.117 833.735 Q119.117 839.314 115.645 842.415 Q112.172 845.494 105.853 845.494 Q103.677 845.494 101.409 845.124 Q99.1632 844.753 96.7558 844.013 L96.7558 839.314 Q98.8391 840.448 101.061 841.003 Q103.284 841.559 105.76 841.559 Q109.765 841.559 112.103 839.452 Q114.441 837.346 114.441 833.735 Q114.441 830.124 112.103 828.017 Q109.765 825.911 105.76 825.911 Q103.885 825.911 102.01 826.328 Q100.159 826.744 98.2141 827.624 L98.2141 810.263 Z\" fill=\"#000000\" fill-rule=\"nonzero\" fill-opacity=\"1\" /><path clip-path=\"url(#clip630)\" d=\"M138.33 813.342 Q134.719 813.342 132.89 816.906 Q131.084 820.448 131.084 827.578 Q131.084 834.684 132.89 838.249 Q134.719 841.79 138.33 841.79 Q141.964 841.79 143.769 838.249 Q145.598 834.684 145.598 827.578 Q145.598 820.448 143.769 816.906 Q141.964 813.342 138.33 813.342 M138.33 809.638 Q144.14 809.638 147.195 814.244 Q150.274 818.828 150.274 827.578 Q150.274 836.304 147.195 840.911 Q144.14 845.494 138.33 845.494 Q132.519 845.494 129.441 840.911 Q126.385 836.304 126.385 827.578 Q126.385 818.828 129.441 814.244 Q132.519 809.638 138.33 809.638 Z\" fill=\"#000000\" fill-rule=\"nonzero\" fill-opacity=\"1\" /><path clip-path=\"url(#clip630)\" d=\"M63.9319 504.255 Q60.3208 504.255 58.4921 507.82 Q56.6865 511.362 56.6865 518.491 Q56.6865 525.598 58.4921 529.162 Q60.3208 532.704 63.9319 532.704 Q67.5661 532.704 69.3717 529.162 Q71.2004 525.598 71.2004 518.491 Q71.2004 511.362 69.3717 507.82 Q67.5661 504.255 63.9319 504.255 M63.9319 500.551 Q69.742 500.551 72.7976 505.158 Q75.8763 509.741 75.8763 518.491 Q75.8763 527.218 72.7976 531.824 Q69.742 536.408 63.9319 536.408 Q58.1217 536.408 55.043 531.824 Q51.9875 527.218 51.9875 518.491 Q51.9875 509.741 55.043 505.158 Q58.1217 500.551 63.9319 500.551 Z\" fill=\"#000000\" fill-rule=\"nonzero\" fill-opacity=\"1\" /><path clip-path=\"url(#clip630)\" d=\"M84.0938 529.857 L88.978 529.857 L88.978 535.736 L84.0938 535.736 L84.0938 529.857 Z\" fill=\"#000000\" fill-rule=\"nonzero\" fill-opacity=\"1\" /><path clip-path=\"url(#clip630)\" d=\"M97.9826 501.176 L120.205 501.176 L120.205 503.167 L107.658 535.736 L102.774 535.736 L114.58 505.112 L97.9826 505.112 L97.9826 501.176 Z\" fill=\"#000000\" fill-rule=\"nonzero\" fill-opacity=\"1\" /><path clip-path=\"url(#clip630)\" d=\"M129.371 501.176 L147.728 501.176 L147.728 505.112 L133.654 505.112 L133.654 513.584 Q134.672 513.237 135.691 513.074 Q136.709 512.889 137.728 512.889 Q143.515 512.889 146.894 516.061 Q150.274 519.232 150.274 524.648 Q150.274 530.227 146.802 533.329 Q143.33 536.408 137.01 536.408 Q134.834 536.408 132.566 536.037 Q130.32 535.667 127.913 534.926 L127.913 530.227 Q129.996 531.361 132.219 531.917 Q134.441 532.473 136.918 532.473 Q140.922 532.473 143.26 530.366 Q145.598 528.26 145.598 524.648 Q145.598 521.037 143.26 518.931 Q140.922 516.824 136.918 516.824 Q135.043 516.824 133.168 517.241 Q131.316 517.658 129.371 518.537 L129.371 501.176 Z\" fill=\"#000000\" fill-rule=\"nonzero\" fill-opacity=\"1\" /><path clip-path=\"url(#clip630)\" d=\"M53.7467 222.715 L61.3856 222.715 L61.3856 196.349 L53.0754 198.016 L53.0754 193.757 L61.3393 192.09 L66.0152 192.09 L66.0152 222.715 L73.654 222.715 L73.654 226.65 L53.7467 226.65 L53.7467 222.715 Z\" fill=\"#000000\" fill-rule=\"nonzero\" fill-opacity=\"1\" /><path clip-path=\"url(#clip630)\" d=\"M83.0984 220.77 L87.9827 220.77 L87.9827 226.65 L83.0984 226.65 L83.0984 220.77 Z\" fill=\"#000000\" fill-rule=\"nonzero\" fill-opacity=\"1\" /><path clip-path=\"url(#clip630)\" d=\"M108.168 195.169 Q104.557 195.169 102.728 198.733 Q100.922 202.275 100.922 209.405 Q100.922 216.511 102.728 220.076 Q104.557 223.618 108.168 223.618 Q111.802 223.618 113.608 220.076 Q115.436 216.511 115.436 209.405 Q115.436 202.275 113.608 198.733 Q111.802 195.169 108.168 195.169 M108.168 191.465 Q113.978 191.465 117.033 196.071 Q120.112 200.655 120.112 209.405 Q120.112 218.131 117.033 222.738 Q113.978 227.321 108.168 227.321 Q102.358 227.321 99.2789 222.738 Q96.2234 218.131 96.2234 209.405 Q96.2234 200.655 99.2789 196.071 Q102.358 191.465 108.168 191.465 Z\" fill=\"#000000\" fill-rule=\"nonzero\" fill-opacity=\"1\" /><path clip-path=\"url(#clip630)\" d=\"M138.33 195.169 Q134.719 195.169 132.89 198.733 Q131.084 202.275 131.084 209.405 Q131.084 216.511 132.89 220.076 Q134.719 223.618 138.33 223.618 Q141.964 223.618 143.769 220.076 Q145.598 216.511 145.598 209.405 Q145.598 202.275 143.769 198.733 Q141.964 195.169 138.33 195.169 M138.33 191.465 Q144.14 191.465 147.195 196.071 Q150.274 200.655 150.274 209.405 Q150.274 218.131 147.195 222.738 Q144.14 227.321 138.33 227.321 Q132.519 227.321 129.441 222.738 Q126.385 218.131 126.385 209.405 Q126.385 200.655 129.441 196.071 Q132.519 191.465 138.33 191.465 Z\" fill=\"#000000\" fill-rule=\"nonzero\" fill-opacity=\"1\" /><polyline clip-path=\"url(#clip632)\" style=\"stroke:#009af9; stroke-linecap:round; stroke-linejoin:round; stroke-width:4; stroke-opacity:1; fill:none\" points=\"247.59,1445.72 315.718,1383.9 383.846,1322.08 451.975,1260.26 520.103,1198.45 588.231,1136.63 656.36,1074.81 724.488,1012.99 792.616,951.177 860.745,889.36 928.873,827.543 997.002,765.726 1065.13,703.908 1133.26,642.091 1201.39,580.274 1269.51,518.456 1337.64,465.244 1405.77,428.442 1473.9,393.156 1542.03,359.386 1610.16,327.132 1678.29,296.394 1746.41,267.172 1814.54,239.466 1882.67,213.277 1950.8,188.603 2018.93,165.446 2087.06,143.804 2155.18,123.679 2223.31,105.07 2291.44,87.9763 \"/>\n",
       "<path clip-path=\"url(#clip630)\" d=\"M258.49 198.898 L527.569 198.898 L527.569 95.2176 L258.49 95.2176  Z\" fill=\"#ffffff\" fill-rule=\"evenodd\" fill-opacity=\"1\"/>\n",
       "<polyline clip-path=\"url(#clip630)\" style=\"stroke:#000000; stroke-linecap:round; stroke-linejoin:round; stroke-width:4; stroke-opacity:1; fill:none\" points=\"258.49,198.898 527.569,198.898 527.569,95.2176 258.49,95.2176 258.49,198.898 \"/>\n",
       "<polyline clip-path=\"url(#clip630)\" style=\"stroke:#009af9; stroke-linecap:round; stroke-linejoin:round; stroke-width:4; stroke-opacity:1; fill:none\" points=\"282.562,147.058 426.994,147.058 \"/>\n",
       "<path clip-path=\"url(#clip630)\" d=\"M464.909 166.745 Q463.103 171.375 461.39 172.787 Q459.677 174.199 456.807 174.199 L453.404 174.199 L453.404 170.634 L455.904 170.634 Q457.663 170.634 458.636 169.8 Q459.608 168.967 460.788 165.865 L461.552 163.921 L451.066 138.412 L455.58 138.412 L463.682 158.689 L471.784 138.412 L476.298 138.412 L464.909 166.745 Z\" fill=\"#000000\" fill-rule=\"nonzero\" fill-opacity=\"1\" /><path clip-path=\"url(#clip630)\" d=\"M483.589 160.402 L491.228 160.402 L491.228 134.037 L482.918 135.703 L482.918 131.444 L491.182 129.778 L495.858 129.778 L495.858 160.402 L503.497 160.402 L503.497 164.338 L483.589 164.338 L483.589 160.402 Z\" fill=\"#000000\" fill-rule=\"nonzero\" fill-opacity=\"1\" /></svg>\n"
      ]
     },
     "execution_count": 46,
     "metadata": {},
     "output_type": "execute_result"
    }
   ],
   "source": [
    "plot(thist, qhist[1,:])"
   ]
  },
  {
   "cell_type": "code",
   "execution_count": 47,
   "id": "47ddfdf8",
   "metadata": {},
   "outputs": [
    {
     "data": {
      "image/svg+xml": [
       "<?xml version=\"1.0\" encoding=\"utf-8\"?>\n",
       "<svg xmlns=\"http://www.w3.org/2000/svg\" xmlns:xlink=\"http://www.w3.org/1999/xlink\" width=\"600\" height=\"400\" viewBox=\"0 0 2400 1600\">\n",
       "<defs>\n",
       "  <clipPath id=\"clip670\">\n",
       "    <rect x=\"0\" y=\"0\" width=\"2400\" height=\"1600\"/>\n",
       "  </clipPath>\n",
       "</defs>\n",
       "<path clip-path=\"url(#clip670)\" d=\"M0 1600 L2400 1600 L2400 0 L0 0  Z\" fill=\"#ffffff\" fill-rule=\"evenodd\" fill-opacity=\"1\"/>\n",
       "<defs>\n",
       "  <clipPath id=\"clip671\">\n",
       "    <rect x=\"480\" y=\"0\" width=\"1681\" height=\"1600\"/>\n",
       "  </clipPath>\n",
       "</defs>\n",
       "<path clip-path=\"url(#clip670)\" d=\"M110.881 1486.45 L2352.76 1486.45 L2352.76 47.2441 L110.881 47.2441  Z\" fill=\"#ffffff\" fill-rule=\"evenodd\" fill-opacity=\"1\"/>\n",
       "<defs>\n",
       "  <clipPath id=\"clip672\">\n",
       "    <rect x=\"110\" y=\"47\" width=\"2243\" height=\"1440\"/>\n",
       "  </clipPath>\n",
       "</defs>\n",
       "<polyline clip-path=\"url(#clip672)\" style=\"stroke:#000000; stroke-linecap:round; stroke-linejoin:round; stroke-width:2; stroke-opacity:0.1; fill:none\" points=\"174.33,1486.45 174.33,47.2441 \"/>\n",
       "<polyline clip-path=\"url(#clip672)\" style=\"stroke:#000000; stroke-linecap:round; stroke-linejoin:round; stroke-width:2; stroke-opacity:0.1; fill:none\" points=\"879.322,1486.45 879.322,47.2441 \"/>\n",
       "<polyline clip-path=\"url(#clip672)\" style=\"stroke:#000000; stroke-linecap:round; stroke-linejoin:round; stroke-width:2; stroke-opacity:0.1; fill:none\" points=\"1584.31,1486.45 1584.31,47.2441 \"/>\n",
       "<polyline clip-path=\"url(#clip672)\" style=\"stroke:#000000; stroke-linecap:round; stroke-linejoin:round; stroke-width:2; stroke-opacity:0.1; fill:none\" points=\"2289.31,1486.45 2289.31,47.2441 \"/>\n",
       "<polyline clip-path=\"url(#clip670)\" style=\"stroke:#000000; stroke-linecap:round; stroke-linejoin:round; stroke-width:4; stroke-opacity:1; fill:none\" points=\"110.881,1486.45 2352.76,1486.45 \"/>\n",
       "<polyline clip-path=\"url(#clip670)\" style=\"stroke:#000000; stroke-linecap:round; stroke-linejoin:round; stroke-width:4; stroke-opacity:1; fill:none\" points=\"174.33,1486.45 174.33,1467.55 \"/>\n",
       "<polyline clip-path=\"url(#clip670)\" style=\"stroke:#000000; stroke-linecap:round; stroke-linejoin:round; stroke-width:4; stroke-opacity:1; fill:none\" points=\"879.322,1486.45 879.322,1467.55 \"/>\n",
       "<polyline clip-path=\"url(#clip670)\" style=\"stroke:#000000; stroke-linecap:round; stroke-linejoin:round; stroke-width:4; stroke-opacity:1; fill:none\" points=\"1584.31,1486.45 1584.31,1467.55 \"/>\n",
       "<polyline clip-path=\"url(#clip670)\" style=\"stroke:#000000; stroke-linecap:round; stroke-linejoin:round; stroke-width:4; stroke-opacity:1; fill:none\" points=\"2289.31,1486.45 2289.31,1467.55 \"/>\n",
       "<path clip-path=\"url(#clip670)\" d=\"M151.715 1517.37 Q148.103 1517.37 146.275 1520.93 Q144.469 1524.47 144.469 1531.6 Q144.469 1538.71 146.275 1542.27 Q148.103 1545.82 151.715 1545.82 Q155.349 1545.82 157.154 1542.27 Q158.983 1538.71 158.983 1531.6 Q158.983 1524.47 157.154 1520.93 Q155.349 1517.37 151.715 1517.37 M151.715 1513.66 Q157.525 1513.66 160.58 1518.27 Q163.659 1522.85 163.659 1531.6 Q163.659 1540.33 160.58 1544.94 Q157.525 1549.52 151.715 1549.52 Q145.904 1549.52 142.826 1544.94 Q139.77 1540.33 139.77 1531.6 Q139.77 1522.85 142.826 1518.27 Q145.904 1513.66 151.715 1513.66 Z\" fill=\"#000000\" fill-rule=\"nonzero\" fill-opacity=\"1\" /><path clip-path=\"url(#clip670)\" d=\"M171.876 1542.97 L176.761 1542.97 L176.761 1548.85 L171.876 1548.85 L171.876 1542.97 Z\" fill=\"#000000\" fill-rule=\"nonzero\" fill-opacity=\"1\" /><path clip-path=\"url(#clip670)\" d=\"M196.946 1517.37 Q193.335 1517.37 191.506 1520.93 Q189.7 1524.47 189.7 1531.6 Q189.7 1538.71 191.506 1542.27 Q193.335 1545.82 196.946 1545.82 Q200.58 1545.82 202.386 1542.27 Q204.214 1538.71 204.214 1531.6 Q204.214 1524.47 202.386 1520.93 Q200.58 1517.37 196.946 1517.37 M196.946 1513.66 Q202.756 1513.66 205.811 1518.27 Q208.89 1522.85 208.89 1531.6 Q208.89 1540.33 205.811 1544.94 Q202.756 1549.52 196.946 1549.52 Q191.136 1549.52 188.057 1544.94 Q185.001 1540.33 185.001 1531.6 Q185.001 1522.85 188.057 1518.27 Q191.136 1513.66 196.946 1513.66 Z\" fill=\"#000000\" fill-rule=\"nonzero\" fill-opacity=\"1\" /><path clip-path=\"url(#clip670)\" d=\"M857.204 1517.37 Q853.593 1517.37 851.765 1520.93 Q849.959 1524.47 849.959 1531.6 Q849.959 1538.71 851.765 1542.27 Q853.593 1545.82 857.204 1545.82 Q860.839 1545.82 862.644 1542.27 Q864.473 1538.71 864.473 1531.6 Q864.473 1524.47 862.644 1520.93 Q860.839 1517.37 857.204 1517.37 M857.204 1513.66 Q863.015 1513.66 866.07 1518.27 Q869.149 1522.85 869.149 1531.6 Q869.149 1540.33 866.07 1544.94 Q863.015 1549.52 857.204 1549.52 Q851.394 1549.52 848.316 1544.94 Q845.26 1540.33 845.26 1531.6 Q845.26 1522.85 848.316 1518.27 Q851.394 1513.66 857.204 1513.66 Z\" fill=\"#000000\" fill-rule=\"nonzero\" fill-opacity=\"1\" /><path clip-path=\"url(#clip670)\" d=\"M877.366 1542.97 L882.251 1542.97 L882.251 1548.85 L877.366 1548.85 L877.366 1542.97 Z\" fill=\"#000000\" fill-rule=\"nonzero\" fill-opacity=\"1\" /><path clip-path=\"url(#clip670)\" d=\"M892.482 1514.29 L910.838 1514.29 L910.838 1518.22 L896.764 1518.22 L896.764 1526.7 Q897.783 1526.35 898.801 1526.19 Q899.82 1526 900.838 1526 Q906.625 1526 910.005 1529.17 Q913.385 1532.34 913.385 1537.76 Q913.385 1543.34 909.912 1546.44 Q906.44 1549.52 900.121 1549.52 Q897.945 1549.52 895.676 1549.15 Q893.431 1548.78 891.024 1548.04 L891.024 1543.34 Q893.107 1544.47 895.329 1545.03 Q897.551 1545.58 900.028 1545.58 Q904.033 1545.58 906.371 1543.48 Q908.709 1541.37 908.709 1537.76 Q908.709 1534.15 906.371 1532.04 Q904.033 1529.94 900.028 1529.94 Q898.153 1529.94 896.278 1530.35 Q894.426 1530.77 892.482 1531.65 L892.482 1514.29 Z\" fill=\"#000000\" fill-rule=\"nonzero\" fill-opacity=\"1\" /><path clip-path=\"url(#clip670)\" d=\"M1551.47 1544.91 L1559.11 1544.91 L1559.11 1518.55 L1550.8 1520.21 L1550.8 1515.95 L1559.06 1514.29 L1563.74 1514.29 L1563.74 1544.91 L1571.37 1544.91 L1571.37 1548.85 L1551.47 1548.85 L1551.47 1544.91 Z\" fill=\"#000000\" fill-rule=\"nonzero\" fill-opacity=\"1\" /><path clip-path=\"url(#clip670)\" d=\"M1580.82 1542.97 L1585.7 1542.97 L1585.7 1548.85 L1580.82 1548.85 L1580.82 1542.97 Z\" fill=\"#000000\" fill-rule=\"nonzero\" fill-opacity=\"1\" /><path clip-path=\"url(#clip670)\" d=\"M1605.89 1517.37 Q1602.28 1517.37 1600.45 1520.93 Q1598.64 1524.47 1598.64 1531.6 Q1598.64 1538.71 1600.45 1542.27 Q1602.28 1545.82 1605.89 1545.82 Q1609.52 1545.82 1611.33 1542.27 Q1613.16 1538.71 1613.16 1531.6 Q1613.16 1524.47 1611.33 1520.93 Q1609.52 1517.37 1605.89 1517.37 M1605.89 1513.66 Q1611.7 1513.66 1614.75 1518.27 Q1617.83 1522.85 1617.83 1531.6 Q1617.83 1540.33 1614.75 1544.94 Q1611.7 1549.52 1605.89 1549.52 Q1600.08 1549.52 1597 1544.94 Q1593.94 1540.33 1593.94 1531.6 Q1593.94 1522.85 1597 1518.27 Q1600.08 1513.66 1605.89 1513.66 Z\" fill=\"#000000\" fill-rule=\"nonzero\" fill-opacity=\"1\" /><path clip-path=\"url(#clip670)\" d=\"M2256.96 1544.91 L2264.6 1544.91 L2264.6 1518.55 L2256.29 1520.21 L2256.29 1515.95 L2264.55 1514.29 L2269.23 1514.29 L2269.23 1544.91 L2276.86 1544.91 L2276.86 1548.85 L2256.96 1548.85 L2256.96 1544.91 Z\" fill=\"#000000\" fill-rule=\"nonzero\" fill-opacity=\"1\" /><path clip-path=\"url(#clip670)\" d=\"M2286.31 1542.97 L2291.19 1542.97 L2291.19 1548.85 L2286.31 1548.85 L2286.31 1542.97 Z\" fill=\"#000000\" fill-rule=\"nonzero\" fill-opacity=\"1\" /><path clip-path=\"url(#clip670)\" d=\"M2301.42 1514.29 L2319.78 1514.29 L2319.78 1518.22 L2305.71 1518.22 L2305.71 1526.7 Q2306.73 1526.35 2307.74 1526.19 Q2308.76 1526 2309.78 1526 Q2315.57 1526 2318.95 1529.17 Q2322.33 1532.34 2322.33 1537.76 Q2322.33 1543.34 2318.86 1546.44 Q2315.38 1549.52 2309.06 1549.52 Q2306.89 1549.52 2304.62 1549.15 Q2302.37 1548.78 2299.97 1548.04 L2299.97 1543.34 Q2302.05 1544.47 2304.27 1545.03 Q2306.49 1545.58 2308.97 1545.58 Q2312.98 1545.58 2315.31 1543.48 Q2317.65 1541.37 2317.65 1537.76 Q2317.65 1534.15 2315.31 1532.04 Q2312.98 1529.94 2308.97 1529.94 Q2307.1 1529.94 2305.22 1530.35 Q2303.37 1530.77 2301.42 1531.65 L2301.42 1514.29 Z\" fill=\"#000000\" fill-rule=\"nonzero\" fill-opacity=\"1\" /><polyline clip-path=\"url(#clip672)\" style=\"stroke:#000000; stroke-linecap:round; stroke-linejoin:round; stroke-width:2; stroke-opacity:0.1; fill:none\" points=\"110.881,1445.72 2352.76,1445.72 \"/>\n",
       "<polyline clip-path=\"url(#clip672)\" style=\"stroke:#000000; stroke-linecap:round; stroke-linejoin:round; stroke-width:2; stroke-opacity:0.1; fill:none\" points=\"110.881,993.136 2352.76,993.136 \"/>\n",
       "<polyline clip-path=\"url(#clip672)\" style=\"stroke:#000000; stroke-linecap:round; stroke-linejoin:round; stroke-width:2; stroke-opacity:0.1; fill:none\" points=\"110.881,540.556 2352.76,540.556 \"/>\n",
       "<polyline clip-path=\"url(#clip672)\" style=\"stroke:#000000; stroke-linecap:round; stroke-linejoin:round; stroke-width:2; stroke-opacity:0.1; fill:none\" points=\"110.881,87.9763 2352.76,87.9763 \"/>\n",
       "<polyline clip-path=\"url(#clip670)\" style=\"stroke:#000000; stroke-linecap:round; stroke-linejoin:round; stroke-width:4; stroke-opacity:1; fill:none\" points=\"110.881,1486.45 110.881,47.2441 \"/>\n",
       "<polyline clip-path=\"url(#clip670)\" style=\"stroke:#000000; stroke-linecap:round; stroke-linejoin:round; stroke-width:4; stroke-opacity:1; fill:none\" points=\"110.881,1445.72 129.779,1445.72 \"/>\n",
       "<polyline clip-path=\"url(#clip670)\" style=\"stroke:#000000; stroke-linecap:round; stroke-linejoin:round; stroke-width:4; stroke-opacity:1; fill:none\" points=\"110.881,993.136 129.779,993.136 \"/>\n",
       "<polyline clip-path=\"url(#clip670)\" style=\"stroke:#000000; stroke-linecap:round; stroke-linejoin:round; stroke-width:4; stroke-opacity:1; fill:none\" points=\"110.881,540.556 129.779,540.556 \"/>\n",
       "<polyline clip-path=\"url(#clip670)\" style=\"stroke:#000000; stroke-linecap:round; stroke-linejoin:round; stroke-width:4; stroke-opacity:1; fill:none\" points=\"110.881,87.9763 129.779,87.9763 \"/>\n",
       "<path clip-path=\"url(#clip670)\" d=\"M62.9365 1431.51 Q59.3254 1431.51 57.4967 1435.08 Q55.6912 1438.62 55.6912 1445.75 Q55.6912 1452.86 57.4967 1456.42 Q59.3254 1459.96 62.9365 1459.96 Q66.5707 1459.96 68.3763 1456.42 Q70.205 1452.86 70.205 1445.75 Q70.205 1438.62 68.3763 1435.08 Q66.5707 1431.51 62.9365 1431.51 M62.9365 1427.81 Q68.7467 1427.81 71.8022 1432.42 Q74.8809 1437 74.8809 1445.75 Q74.8809 1454.48 71.8022 1459.08 Q68.7467 1463.67 62.9365 1463.67 Q57.1264 1463.67 54.0477 1459.08 Q50.9921 1454.48 50.9921 1445.75 Q50.9921 1437 54.0477 1432.42 Q57.1264 1427.81 62.9365 1427.81 Z\" fill=\"#000000\" fill-rule=\"nonzero\" fill-opacity=\"1\" /><path clip-path=\"url(#clip670)\" d=\"M54.9736 1006.48 L62.6124 1006.48 L62.6124 980.115 L54.3023 981.782 L54.3023 977.523 L62.5661 975.856 L67.242 975.856 L67.242 1006.48 L74.8809 1006.48 L74.8809 1010.42 L54.9736 1010.42 L54.9736 1006.48 Z\" fill=\"#000000\" fill-rule=\"nonzero\" fill-opacity=\"1\" /><path clip-path=\"url(#clip670)\" d=\"M58.5615 553.901 L74.8809 553.901 L74.8809 557.836 L52.9366 557.836 L52.9366 553.901 Q55.5986 551.146 60.1819 546.517 Q64.7883 541.864 65.9689 540.521 Q68.2143 537.998 69.0939 536.262 Q69.9967 534.503 69.9967 532.813 Q69.9967 530.058 68.0522 528.322 Q66.1309 526.586 63.0291 526.586 Q60.83 526.586 58.3763 527.35 Q55.9458 528.114 53.168 529.665 L53.168 524.943 Q55.9921 523.808 58.4458 523.23 Q60.8995 522.651 62.9365 522.651 Q68.3068 522.651 71.5013 525.336 Q74.6957 528.021 74.6957 532.512 Q74.6957 534.642 73.8855 536.563 Q73.0985 538.461 70.992 541.054 Q70.4133 541.725 67.3115 544.943 Q64.2096 548.137 58.5615 553.901 Z\" fill=\"#000000\" fill-rule=\"nonzero\" fill-opacity=\"1\" /><path clip-path=\"url(#clip670)\" d=\"M67.7513 86.6221 Q71.1078 87.3397 72.9827 89.6082 Q74.8809 91.8767 74.8809 95.21 Q74.8809 100.326 71.3624 103.127 Q67.8439 105.928 61.3624 105.928 Q59.1865 105.928 56.8717 105.488 Q54.5801 105.071 52.1264 104.215 L52.1264 99.7008 Q54.0708 100.835 56.3856 101.414 Q58.7004 101.992 61.2236 101.992 Q65.6217 101.992 67.9133 100.256 Q70.2281 98.5202 70.2281 95.21 Q70.2281 92.1545 68.0754 90.4415 Q65.9457 88.7054 62.1263 88.7054 L58.0986 88.7054 L58.0986 84.8629 L62.3115 84.8629 Q65.7606 84.8629 67.5893 83.4971 Q69.418 82.1083 69.418 79.5157 Q69.418 76.8537 67.5198 75.4416 Q65.6448 74.0064 62.1263 74.0064 Q60.205 74.0064 58.006 74.4231 Q55.8069 74.8398 53.168 75.7194 L53.168 71.5528 Q55.8301 70.812 58.1449 70.4416 Q60.4828 70.0713 62.543 70.0713 Q67.867 70.0713 70.9689 72.5018 Q74.0707 74.9092 74.0707 79.0296 Q74.0707 81.8999 72.4272 83.8907 Q70.7837 85.8582 67.7513 86.6221 Z\" fill=\"#000000\" fill-rule=\"nonzero\" fill-opacity=\"1\" /><polyline clip-path=\"url(#clip672)\" style=\"stroke:#009af9; stroke-linecap:round; stroke-linejoin:round; stroke-width:4; stroke-opacity:1; fill:none\" points=\"174.33,87.9763 244.829,93.526 315.329,110.175 385.828,137.924 456.327,176.772 526.826,226.72 597.325,287.768 667.825,359.915 738.324,443.161 808.823,537.507 879.322,642.952 949.822,759.497 1020.32,887.142 1090.82,1025.89 1161.32,1175.73 1231.82,1336.67 1302.32,1445.72 1372.82,1445.72 1443.32,1445.72 1513.82,1445.72 1584.31,1445.72 1654.81,1445.72 1725.31,1445.72 1795.81,1445.72 1866.31,1445.72 1936.81,1445.72 2007.31,1445.72 2077.81,1445.72 2148.31,1445.72 2218.81,1445.72 2289.31,1445.72 \"/>\n",
       "<path clip-path=\"url(#clip670)\" d=\"M2001.41 198.898 L2278.03 198.898 L2278.03 95.2176 L2001.41 95.2176  Z\" fill=\"#ffffff\" fill-rule=\"evenodd\" fill-opacity=\"1\"/>\n",
       "<polyline clip-path=\"url(#clip670)\" style=\"stroke:#000000; stroke-linecap:round; stroke-linejoin:round; stroke-width:4; stroke-opacity:1; fill:none\" points=\"2001.41,198.898 2278.03,198.898 2278.03,95.2176 2001.41,95.2176 2001.41,198.898 \"/>\n",
       "<polyline clip-path=\"url(#clip670)\" style=\"stroke:#009af9; stroke-linecap:round; stroke-linejoin:round; stroke-width:4; stroke-opacity:1; fill:none\" points=\"2026.32,147.058 2175.78,147.058 \"/>\n",
       "<path clip-path=\"url(#clip670)\" d=\"M2214.53 166.745 Q2212.72 171.375 2211.01 172.787 Q2209.3 174.199 2206.43 174.199 L2203.02 174.199 L2203.02 170.634 L2205.52 170.634 Q2207.28 170.634 2208.26 169.8 Q2209.23 168.967 2210.41 165.865 L2211.17 163.921 L2200.69 138.412 L2205.2 138.412 L2213.3 158.689 L2221.4 138.412 L2225.92 138.412 L2214.53 166.745 Z\" fill=\"#000000\" fill-rule=\"nonzero\" fill-opacity=\"1\" /><path clip-path=\"url(#clip670)\" d=\"M2233.21 160.402 L2240.85 160.402 L2240.85 134.037 L2232.54 135.703 L2232.54 131.444 L2240.8 129.778 L2245.48 129.778 L2245.48 160.402 L2253.12 160.402 L2253.12 164.338 L2233.21 164.338 L2233.21 160.402 Z\" fill=\"#000000\" fill-rule=\"nonzero\" fill-opacity=\"1\" /></svg>\n"
      ]
     },
     "execution_count": 47,
     "metadata": {},
     "output_type": "execute_result"
    }
   ],
   "source": [
    "plot(thist, qhist[2,:])"
   ]
  },
  {
   "cell_type": "code",
   "execution_count": 48,
   "id": "6a4ca995",
   "metadata": {},
   "outputs": [
    {
     "data": {
      "image/svg+xml": [
       "<?xml version=\"1.0\" encoding=\"utf-8\"?>\n",
       "<svg xmlns=\"http://www.w3.org/2000/svg\" xmlns:xlink=\"http://www.w3.org/1999/xlink\" width=\"600\" height=\"400\" viewBox=\"0 0 2400 1600\">\n",
       "<defs>\n",
       "  <clipPath id=\"clip710\">\n",
       "    <rect x=\"0\" y=\"0\" width=\"2400\" height=\"1600\"/>\n",
       "  </clipPath>\n",
       "</defs>\n",
       "<path clip-path=\"url(#clip710)\" d=\"M0 1600 L2400 1600 L2400 0 L0 0  Z\" fill=\"#ffffff\" fill-rule=\"evenodd\" fill-opacity=\"1\"/>\n",
       "<defs>\n",
       "  <clipPath id=\"clip711\">\n",
       "    <rect x=\"480\" y=\"0\" width=\"1681\" height=\"1600\"/>\n",
       "  </clipPath>\n",
       "</defs>\n",
       "<path clip-path=\"url(#clip710)\" d=\"M201.019 1486.45 L2352.76 1486.45 L2352.76 47.2441 L201.019 47.2441  Z\" fill=\"#ffffff\" fill-rule=\"evenodd\" fill-opacity=\"1\"/>\n",
       "<defs>\n",
       "  <clipPath id=\"clip712\">\n",
       "    <rect x=\"201\" y=\"47\" width=\"2153\" height=\"1440\"/>\n",
       "  </clipPath>\n",
       "</defs>\n",
       "<polyline clip-path=\"url(#clip712)\" style=\"stroke:#000000; stroke-linecap:round; stroke-linejoin:round; stroke-width:2; stroke-opacity:0.1; fill:none\" points=\"261.917,1486.45 261.917,47.2441 \"/>\n",
       "<polyline clip-path=\"url(#clip712)\" style=\"stroke:#000000; stroke-linecap:round; stroke-linejoin:round; stroke-width:2; stroke-opacity:0.1; fill:none\" points=\"681.905,1486.45 681.905,47.2441 \"/>\n",
       "<polyline clip-path=\"url(#clip712)\" style=\"stroke:#000000; stroke-linecap:round; stroke-linejoin:round; stroke-width:2; stroke-opacity:0.1; fill:none\" points=\"1101.89,1486.45 1101.89,47.2441 \"/>\n",
       "<polyline clip-path=\"url(#clip712)\" style=\"stroke:#000000; stroke-linecap:round; stroke-linejoin:round; stroke-width:2; stroke-opacity:0.1; fill:none\" points=\"1521.88,1486.45 1521.88,47.2441 \"/>\n",
       "<polyline clip-path=\"url(#clip712)\" style=\"stroke:#000000; stroke-linecap:round; stroke-linejoin:round; stroke-width:2; stroke-opacity:0.1; fill:none\" points=\"1941.87,1486.45 1941.87,47.2441 \"/>\n",
       "<polyline clip-path=\"url(#clip710)\" style=\"stroke:#000000; stroke-linecap:round; stroke-linejoin:round; stroke-width:4; stroke-opacity:1; fill:none\" points=\"201.019,1486.45 2352.76,1486.45 \"/>\n",
       "<polyline clip-path=\"url(#clip710)\" style=\"stroke:#000000; stroke-linecap:round; stroke-linejoin:round; stroke-width:4; stroke-opacity:1; fill:none\" points=\"261.917,1486.45 261.917,1467.55 \"/>\n",
       "<polyline clip-path=\"url(#clip710)\" style=\"stroke:#000000; stroke-linecap:round; stroke-linejoin:round; stroke-width:4; stroke-opacity:1; fill:none\" points=\"681.905,1486.45 681.905,1467.55 \"/>\n",
       "<polyline clip-path=\"url(#clip710)\" style=\"stroke:#000000; stroke-linecap:round; stroke-linejoin:round; stroke-width:4; stroke-opacity:1; fill:none\" points=\"1101.89,1486.45 1101.89,1467.55 \"/>\n",
       "<polyline clip-path=\"url(#clip710)\" style=\"stroke:#000000; stroke-linecap:round; stroke-linejoin:round; stroke-width:4; stroke-opacity:1; fill:none\" points=\"1521.88,1486.45 1521.88,1467.55 \"/>\n",
       "<polyline clip-path=\"url(#clip710)\" style=\"stroke:#000000; stroke-linecap:round; stroke-linejoin:round; stroke-width:4; stroke-opacity:1; fill:none\" points=\"1941.87,1486.45 1941.87,1467.55 \"/>\n",
       "<path clip-path=\"url(#clip710)\" d=\"M239.302 1517.37 Q235.691 1517.37 233.862 1520.93 Q232.057 1524.47 232.057 1531.6 Q232.057 1538.71 233.862 1542.27 Q235.691 1545.82 239.302 1545.82 Q242.936 1545.82 244.742 1542.27 Q246.57 1538.71 246.57 1531.6 Q246.57 1524.47 244.742 1520.93 Q242.936 1517.37 239.302 1517.37 M239.302 1513.66 Q245.112 1513.66 248.168 1518.27 Q251.246 1522.85 251.246 1531.6 Q251.246 1540.33 248.168 1544.94 Q245.112 1549.52 239.302 1549.52 Q233.492 1549.52 230.413 1544.94 Q227.357 1540.33 227.357 1531.6 Q227.357 1522.85 230.413 1518.27 Q233.492 1513.66 239.302 1513.66 Z\" fill=\"#000000\" fill-rule=\"nonzero\" fill-opacity=\"1\" /><path clip-path=\"url(#clip710)\" d=\"M259.464 1542.97 L264.348 1542.97 L264.348 1548.85 L259.464 1548.85 L259.464 1542.97 Z\" fill=\"#000000\" fill-rule=\"nonzero\" fill-opacity=\"1\" /><path clip-path=\"url(#clip710)\" d=\"M284.533 1517.37 Q280.922 1517.37 279.093 1520.93 Q277.288 1524.47 277.288 1531.6 Q277.288 1538.71 279.093 1542.27 Q280.922 1545.82 284.533 1545.82 Q288.167 1545.82 289.973 1542.27 Q291.802 1538.71 291.802 1531.6 Q291.802 1524.47 289.973 1520.93 Q288.167 1517.37 284.533 1517.37 M284.533 1513.66 Q290.343 1513.66 293.399 1518.27 Q296.477 1522.85 296.477 1531.6 Q296.477 1540.33 293.399 1544.94 Q290.343 1549.52 284.533 1549.52 Q278.723 1549.52 275.644 1544.94 Q272.589 1540.33 272.589 1531.6 Q272.589 1522.85 275.644 1518.27 Q278.723 1513.66 284.533 1513.66 Z\" fill=\"#000000\" fill-rule=\"nonzero\" fill-opacity=\"1\" /><path clip-path=\"url(#clip710)\" d=\"M659.614 1517.37 Q656.002 1517.37 654.174 1520.93 Q652.368 1524.47 652.368 1531.6 Q652.368 1538.71 654.174 1542.27 Q656.002 1545.82 659.614 1545.82 Q663.248 1545.82 665.053 1542.27 Q666.882 1538.71 666.882 1531.6 Q666.882 1524.47 665.053 1520.93 Q663.248 1517.37 659.614 1517.37 M659.614 1513.66 Q665.424 1513.66 668.479 1518.27 Q671.558 1522.85 671.558 1531.6 Q671.558 1540.33 668.479 1544.94 Q665.424 1549.52 659.614 1549.52 Q653.803 1549.52 650.725 1544.94 Q647.669 1540.33 647.669 1531.6 Q647.669 1522.85 650.725 1518.27 Q653.803 1513.66 659.614 1513.66 Z\" fill=\"#000000\" fill-rule=\"nonzero\" fill-opacity=\"1\" /><path clip-path=\"url(#clip710)\" d=\"M679.776 1542.97 L684.66 1542.97 L684.66 1548.85 L679.776 1548.85 L679.776 1542.97 Z\" fill=\"#000000\" fill-rule=\"nonzero\" fill-opacity=\"1\" /><path clip-path=\"url(#clip710)\" d=\"M709.011 1530.21 Q712.368 1530.93 714.243 1533.2 Q716.141 1535.47 716.141 1538.8 Q716.141 1543.92 712.623 1546.72 Q709.104 1549.52 702.623 1549.52 Q700.447 1549.52 698.132 1549.08 Q695.84 1548.66 693.387 1547.81 L693.387 1543.29 Q695.331 1544.43 697.646 1545.01 Q699.961 1545.58 702.484 1545.58 Q706.882 1545.58 709.173 1543.85 Q711.488 1542.11 711.488 1538.8 Q711.488 1535.75 709.336 1534.03 Q707.206 1532.3 703.386 1532.3 L699.359 1532.3 L699.359 1528.45 L703.572 1528.45 Q707.021 1528.45 708.849 1527.09 Q710.678 1525.7 710.678 1523.11 Q710.678 1520.45 708.78 1519.03 Q706.905 1517.6 703.386 1517.6 Q701.465 1517.6 699.266 1518.01 Q697.067 1518.43 694.428 1519.31 L694.428 1515.14 Q697.09 1514.4 699.405 1514.03 Q701.743 1513.66 703.803 1513.66 Q709.127 1513.66 712.229 1516.09 Q715.331 1518.5 715.331 1522.62 Q715.331 1525.49 713.687 1527.48 Q712.044 1529.45 709.011 1530.21 Z\" fill=\"#000000\" fill-rule=\"nonzero\" fill-opacity=\"1\" /><path clip-path=\"url(#clip710)\" d=\"M1079.2 1517.37 Q1075.59 1517.37 1073.76 1520.93 Q1071.95 1524.47 1071.95 1531.6 Q1071.95 1538.71 1073.76 1542.27 Q1075.59 1545.82 1079.2 1545.82 Q1082.83 1545.82 1084.64 1542.27 Q1086.46 1538.71 1086.46 1531.6 Q1086.46 1524.47 1084.64 1520.93 Q1082.83 1517.37 1079.2 1517.37 M1079.2 1513.66 Q1085.01 1513.66 1088.06 1518.27 Q1091.14 1522.85 1091.14 1531.6 Q1091.14 1540.33 1088.06 1544.94 Q1085.01 1549.52 1079.2 1549.52 Q1073.39 1549.52 1070.31 1544.94 Q1067.25 1540.33 1067.25 1531.6 Q1067.25 1522.85 1070.31 1518.27 Q1073.39 1513.66 1079.2 1513.66 Z\" fill=\"#000000\" fill-rule=\"nonzero\" fill-opacity=\"1\" /><path clip-path=\"url(#clip710)\" d=\"M1099.36 1542.97 L1104.24 1542.97 L1104.24 1548.85 L1099.36 1548.85 L1099.36 1542.97 Z\" fill=\"#000000\" fill-rule=\"nonzero\" fill-opacity=\"1\" /><path clip-path=\"url(#clip710)\" d=\"M1125.01 1529.7 Q1121.86 1529.7 1120.01 1531.86 Q1118.18 1534.01 1118.18 1537.76 Q1118.18 1541.49 1120.01 1543.66 Q1121.86 1545.82 1125.01 1545.82 Q1128.15 1545.82 1129.98 1543.66 Q1131.83 1541.49 1131.83 1537.76 Q1131.83 1534.01 1129.98 1531.86 Q1128.15 1529.7 1125.01 1529.7 M1134.29 1515.05 L1134.29 1519.31 Q1132.53 1518.48 1130.72 1518.04 Q1128.94 1517.6 1127.18 1517.6 Q1122.55 1517.6 1120.1 1520.72 Q1117.67 1523.85 1117.32 1530.17 Q1118.69 1528.15 1120.75 1527.09 Q1122.81 1526 1125.28 1526 Q1130.49 1526 1133.5 1529.17 Q1136.53 1532.32 1136.53 1537.76 Q1136.53 1543.08 1133.39 1546.3 Q1130.24 1549.52 1125.01 1549.52 Q1119.01 1549.52 1115.84 1544.94 Q1112.67 1540.33 1112.67 1531.6 Q1112.67 1523.41 1116.56 1518.55 Q1120.45 1513.66 1127 1513.66 Q1128.76 1513.66 1130.54 1514.01 Q1132.34 1514.36 1134.29 1515.05 Z\" fill=\"#000000\" fill-rule=\"nonzero\" fill-opacity=\"1\" /><path clip-path=\"url(#clip710)\" d=\"M1499.36 1517.37 Q1495.75 1517.37 1493.92 1520.93 Q1492.11 1524.47 1492.11 1531.6 Q1492.11 1538.71 1493.92 1542.27 Q1495.75 1545.82 1499.36 1545.82 Q1502.99 1545.82 1504.8 1542.27 Q1506.63 1538.71 1506.63 1531.6 Q1506.63 1524.47 1504.8 1520.93 Q1502.99 1517.37 1499.36 1517.37 M1499.36 1513.66 Q1505.17 1513.66 1508.22 1518.27 Q1511.3 1522.85 1511.3 1531.6 Q1511.3 1540.33 1508.22 1544.94 Q1505.17 1549.52 1499.36 1549.52 Q1493.55 1549.52 1490.47 1544.94 Q1487.41 1540.33 1487.41 1531.6 Q1487.41 1522.85 1490.47 1518.27 Q1493.55 1513.66 1499.36 1513.66 Z\" fill=\"#000000\" fill-rule=\"nonzero\" fill-opacity=\"1\" /><path clip-path=\"url(#clip710)\" d=\"M1519.52 1542.97 L1524.4 1542.97 L1524.4 1548.85 L1519.52 1548.85 L1519.52 1542.97 Z\" fill=\"#000000\" fill-rule=\"nonzero\" fill-opacity=\"1\" /><path clip-path=\"url(#clip710)\" d=\"M1534.73 1548.13 L1534.73 1543.87 Q1536.49 1544.7 1538.29 1545.14 Q1540.1 1545.58 1541.83 1545.58 Q1546.46 1545.58 1548.89 1542.48 Q1551.35 1539.36 1551.7 1533.01 Q1550.35 1535.01 1548.29 1536.07 Q1546.23 1537.13 1543.73 1537.13 Q1538.55 1537.13 1535.51 1534.01 Q1532.51 1530.86 1532.51 1525.42 Q1532.51 1520.1 1535.65 1516.88 Q1538.8 1513.66 1544.03 1513.66 Q1550.03 1513.66 1553.18 1518.27 Q1556.35 1522.85 1556.35 1531.6 Q1556.35 1539.77 1552.46 1544.66 Q1548.59 1549.52 1542.04 1549.52 Q1540.28 1549.52 1538.48 1549.17 Q1536.67 1548.82 1534.73 1548.13 M1544.03 1533.48 Q1547.18 1533.48 1549.01 1531.32 Q1550.86 1529.17 1550.86 1525.42 Q1550.86 1521.7 1549.01 1519.54 Q1547.18 1517.37 1544.03 1517.37 Q1540.88 1517.37 1539.03 1519.54 Q1537.2 1521.7 1537.2 1525.42 Q1537.2 1529.17 1539.03 1531.32 Q1540.88 1533.48 1544.03 1533.48 Z\" fill=\"#000000\" fill-rule=\"nonzero\" fill-opacity=\"1\" /><path clip-path=\"url(#clip710)\" d=\"M1909.82 1544.91 L1917.46 1544.91 L1917.46 1518.55 L1909.15 1520.21 L1909.15 1515.95 L1917.41 1514.29 L1922.09 1514.29 L1922.09 1544.91 L1929.73 1544.91 L1929.73 1548.85 L1909.82 1548.85 L1909.82 1544.91 Z\" fill=\"#000000\" fill-rule=\"nonzero\" fill-opacity=\"1\" /><path clip-path=\"url(#clip710)\" d=\"M1939.17 1542.97 L1944.06 1542.97 L1944.06 1548.85 L1939.17 1548.85 L1939.17 1542.97 Z\" fill=\"#000000\" fill-rule=\"nonzero\" fill-opacity=\"1\" /><path clip-path=\"url(#clip710)\" d=\"M1958.27 1544.91 L1974.59 1544.91 L1974.59 1548.85 L1952.64 1548.85 L1952.64 1544.91 Q1955.31 1542.16 1959.89 1537.53 Q1964.5 1532.88 1965.68 1531.53 Q1967.92 1529.01 1968.8 1527.27 Q1969.7 1525.51 1969.7 1523.82 Q1969.7 1521.07 1967.76 1519.33 Q1965.84 1517.6 1962.74 1517.6 Q1960.54 1517.6 1958.08 1518.36 Q1955.65 1519.13 1952.87 1520.68 L1952.87 1515.95 Q1955.7 1514.82 1958.15 1514.24 Q1960.61 1513.66 1962.64 1513.66 Q1968.01 1513.66 1971.21 1516.35 Q1974.4 1519.03 1974.4 1523.52 Q1974.4 1525.65 1973.59 1527.57 Q1972.81 1529.47 1970.7 1532.07 Q1970.12 1532.74 1967.02 1535.95 Q1963.92 1539.15 1958.27 1544.91 Z\" fill=\"#000000\" fill-rule=\"nonzero\" fill-opacity=\"1\" /><polyline clip-path=\"url(#clip712)\" style=\"stroke:#000000; stroke-linecap:round; stroke-linejoin:round; stroke-width:2; stroke-opacity:0.1; fill:none\" points=\"201.019,1445.72 2352.76,1445.72 \"/>\n",
       "<polyline clip-path=\"url(#clip712)\" style=\"stroke:#000000; stroke-linecap:round; stroke-linejoin:round; stroke-width:2; stroke-opacity:0.1; fill:none\" points=\"201.019,1126.05 2352.76,1126.05 \"/>\n",
       "<polyline clip-path=\"url(#clip712)\" style=\"stroke:#000000; stroke-linecap:round; stroke-linejoin:round; stroke-width:2; stroke-opacity:0.1; fill:none\" points=\"201.019,806.388 2352.76,806.388 \"/>\n",
       "<polyline clip-path=\"url(#clip712)\" style=\"stroke:#000000; stroke-linecap:round; stroke-linejoin:round; stroke-width:2; stroke-opacity:0.1; fill:none\" points=\"201.019,486.725 2352.76,486.725 \"/>\n",
       "<polyline clip-path=\"url(#clip712)\" style=\"stroke:#000000; stroke-linecap:round; stroke-linejoin:round; stroke-width:2; stroke-opacity:0.1; fill:none\" points=\"201.019,167.061 2352.76,167.061 \"/>\n",
       "<polyline clip-path=\"url(#clip710)\" style=\"stroke:#000000; stroke-linecap:round; stroke-linejoin:round; stroke-width:4; stroke-opacity:1; fill:none\" points=\"201.019,1486.45 201.019,47.2441 \"/>\n",
       "<polyline clip-path=\"url(#clip710)\" style=\"stroke:#000000; stroke-linecap:round; stroke-linejoin:round; stroke-width:4; stroke-opacity:1; fill:none\" points=\"201.019,1445.72 219.917,1445.72 \"/>\n",
       "<polyline clip-path=\"url(#clip710)\" style=\"stroke:#000000; stroke-linecap:round; stroke-linejoin:round; stroke-width:4; stroke-opacity:1; fill:none\" points=\"201.019,1126.05 219.917,1126.05 \"/>\n",
       "<polyline clip-path=\"url(#clip710)\" style=\"stroke:#000000; stroke-linecap:round; stroke-linejoin:round; stroke-width:4; stroke-opacity:1; fill:none\" points=\"201.019,806.388 219.917,806.388 \"/>\n",
       "<polyline clip-path=\"url(#clip710)\" style=\"stroke:#000000; stroke-linecap:round; stroke-linejoin:round; stroke-width:4; stroke-opacity:1; fill:none\" points=\"201.019,486.725 219.917,486.725 \"/>\n",
       "<polyline clip-path=\"url(#clip710)\" style=\"stroke:#000000; stroke-linecap:round; stroke-linejoin:round; stroke-width:4; stroke-opacity:1; fill:none\" points=\"201.019,167.061 219.917,167.061 \"/>\n",
       "<path clip-path=\"url(#clip710)\" d=\"M153.075 1431.51 Q149.464 1431.51 147.635 1435.08 Q145.83 1438.62 145.83 1445.75 Q145.83 1452.86 147.635 1456.42 Q149.464 1459.96 153.075 1459.96 Q156.709 1459.96 158.515 1456.42 Q160.343 1452.86 160.343 1445.75 Q160.343 1438.62 158.515 1435.08 Q156.709 1431.51 153.075 1431.51 M153.075 1427.81 Q158.885 1427.81 161.941 1432.42 Q165.019 1437 165.019 1445.75 Q165.019 1454.48 161.941 1459.08 Q158.885 1463.67 153.075 1463.67 Q147.265 1463.67 144.186 1459.08 Q141.131 1454.48 141.131 1445.75 Q141.131 1437 144.186 1432.42 Q147.265 1427.81 153.075 1427.81 Z\" fill=\"#000000\" fill-rule=\"nonzero\" fill-opacity=\"1\" /><path clip-path=\"url(#clip710)\" d=\"M82.7975 1108.77 L101.154 1108.77 L101.154 1112.71 L87.0799 1112.71 L87.0799 1121.18 Q88.0984 1120.83 89.1169 1120.67 Q90.1354 1120.48 91.1539 1120.48 Q96.941 1120.48 100.321 1123.66 Q103.7 1126.83 103.7 1132.24 Q103.7 1137.82 100.228 1140.92 Q96.7558 1144 90.4364 1144 Q88.2604 1144 85.9919 1143.63 Q83.7466 1143.26 81.3392 1142.52 L81.3392 1137.82 Q83.4225 1138.96 85.6447 1139.51 Q87.8669 1140.07 90.3438 1140.07 Q94.3484 1140.07 96.6863 1137.96 Q99.0243 1135.86 99.0243 1132.24 Q99.0243 1128.63 96.6863 1126.53 Q94.3484 1124.42 90.3438 1124.42 Q88.4688 1124.42 86.5938 1124.84 Q84.7419 1125.25 82.7975 1126.13 L82.7975 1108.77 Z\" fill=\"#000000\" fill-rule=\"nonzero\" fill-opacity=\"1\" /><path clip-path=\"url(#clip710)\" d=\"M122.913 1111.85 Q119.302 1111.85 117.473 1115.42 Q115.668 1118.96 115.668 1126.09 Q115.668 1133.19 117.473 1136.76 Q119.302 1140.3 122.913 1140.3 Q126.547 1140.3 128.353 1136.76 Q130.182 1133.19 130.182 1126.09 Q130.182 1118.96 128.353 1115.42 Q126.547 1111.85 122.913 1111.85 M122.913 1108.15 Q128.723 1108.15 131.779 1112.75 Q134.857 1117.34 134.857 1126.09 Q134.857 1134.81 131.779 1139.42 Q128.723 1144 122.913 1144 Q117.103 1144 114.024 1139.42 Q110.969 1134.81 110.969 1126.09 Q110.969 1117.34 114.024 1112.75 Q117.103 1108.15 122.913 1108.15 Z\" fill=\"#000000\" fill-rule=\"nonzero\" fill-opacity=\"1\" /><path clip-path=\"url(#clip710)\" d=\"M153.075 1111.85 Q149.464 1111.85 147.635 1115.42 Q145.83 1118.96 145.83 1126.09 Q145.83 1133.19 147.635 1136.76 Q149.464 1140.3 153.075 1140.3 Q156.709 1140.3 158.515 1136.76 Q160.343 1133.19 160.343 1126.09 Q160.343 1118.96 158.515 1115.42 Q156.709 1111.85 153.075 1111.85 M153.075 1108.15 Q158.885 1108.15 161.941 1112.75 Q165.019 1117.34 165.019 1126.09 Q165.019 1134.81 161.941 1139.42 Q158.885 1144 153.075 1144 Q147.265 1144 144.186 1139.42 Q141.131 1134.81 141.131 1126.09 Q141.131 1117.34 144.186 1112.75 Q147.265 1108.15 153.075 1108.15 Z\" fill=\"#000000\" fill-rule=\"nonzero\" fill-opacity=\"1\" /><path clip-path=\"url(#clip710)\" d=\"M53.3995 819.733 L61.0384 819.733 L61.0384 793.368 L52.7282 795.034 L52.7282 790.775 L60.9921 789.108 L65.668 789.108 L65.668 819.733 L73.3068 819.733 L73.3068 823.668 L53.3995 823.668 L53.3995 819.733 Z\" fill=\"#000000\" fill-rule=\"nonzero\" fill-opacity=\"1\" /><path clip-path=\"url(#clip710)\" d=\"M92.7512 792.187 Q89.1401 792.187 87.3114 795.752 Q85.5058 799.294 85.5058 806.423 Q85.5058 813.53 87.3114 817.094 Q89.1401 820.636 92.7512 820.636 Q96.3854 820.636 98.1909 817.094 Q100.02 813.53 100.02 806.423 Q100.02 799.294 98.1909 795.752 Q96.3854 792.187 92.7512 792.187 M92.7512 788.483 Q98.5613 788.483 101.617 793.09 Q104.696 797.673 104.696 806.423 Q104.696 815.15 101.617 819.756 Q98.5613 824.34 92.7512 824.34 Q86.941 824.34 83.8623 819.756 Q80.8068 815.15 80.8068 806.423 Q80.8068 797.673 83.8623 793.09 Q86.941 788.483 92.7512 788.483 Z\" fill=\"#000000\" fill-rule=\"nonzero\" fill-opacity=\"1\" /><path clip-path=\"url(#clip710)\" d=\"M122.913 792.187 Q119.302 792.187 117.473 795.752 Q115.668 799.294 115.668 806.423 Q115.668 813.53 117.473 817.094 Q119.302 820.636 122.913 820.636 Q126.547 820.636 128.353 817.094 Q130.182 813.53 130.182 806.423 Q130.182 799.294 128.353 795.752 Q126.547 792.187 122.913 792.187 M122.913 788.483 Q128.723 788.483 131.779 793.09 Q134.857 797.673 134.857 806.423 Q134.857 815.15 131.779 819.756 Q128.723 824.34 122.913 824.34 Q117.103 824.34 114.024 819.756 Q110.969 815.15 110.969 806.423 Q110.969 797.673 114.024 793.09 Q117.103 788.483 122.913 788.483 Z\" fill=\"#000000\" fill-rule=\"nonzero\" fill-opacity=\"1\" /><path clip-path=\"url(#clip710)\" d=\"M153.075 792.187 Q149.464 792.187 147.635 795.752 Q145.83 799.294 145.83 806.423 Q145.83 813.53 147.635 817.094 Q149.464 820.636 153.075 820.636 Q156.709 820.636 158.515 817.094 Q160.343 813.53 160.343 806.423 Q160.343 799.294 158.515 795.752 Q156.709 792.187 153.075 792.187 M153.075 788.483 Q158.885 788.483 161.941 793.09 Q165.019 797.673 165.019 806.423 Q165.019 815.15 161.941 819.756 Q158.885 824.34 153.075 824.34 Q147.265 824.34 144.186 819.756 Q141.131 815.15 141.131 806.423 Q141.131 797.673 144.186 793.09 Q147.265 788.483 153.075 788.483 Z\" fill=\"#000000\" fill-rule=\"nonzero\" fill-opacity=\"1\" /><path clip-path=\"url(#clip710)\" d=\"M53.3995 500.07 L61.0384 500.07 L61.0384 473.704 L52.7282 475.371 L52.7282 471.111 L60.9921 469.445 L65.668 469.445 L65.668 500.07 L73.3068 500.07 L73.3068 504.005 L53.3995 504.005 L53.3995 500.07 Z\" fill=\"#000000\" fill-rule=\"nonzero\" fill-opacity=\"1\" /><path clip-path=\"url(#clip710)\" d=\"M82.7975 469.445 L101.154 469.445 L101.154 473.38 L87.0799 473.38 L87.0799 481.852 Q88.0984 481.505 89.1169 481.343 Q90.1354 481.158 91.1539 481.158 Q96.941 481.158 100.321 484.329 Q103.7 487.5 103.7 492.917 Q103.7 498.496 100.228 501.597 Q96.7558 504.676 90.4364 504.676 Q88.2604 504.676 85.9919 504.306 Q83.7466 503.935 81.3392 503.195 L81.3392 498.496 Q83.4225 499.63 85.6447 500.185 Q87.8669 500.741 90.3438 500.741 Q94.3484 500.741 96.6863 498.634 Q99.0243 496.528 99.0243 492.917 Q99.0243 489.306 96.6863 487.199 Q94.3484 485.093 90.3438 485.093 Q88.4688 485.093 86.5938 485.509 Q84.7419 485.926 82.7975 486.806 L82.7975 469.445 Z\" fill=\"#000000\" fill-rule=\"nonzero\" fill-opacity=\"1\" /><path clip-path=\"url(#clip710)\" d=\"M122.913 472.523 Q119.302 472.523 117.473 476.088 Q115.668 479.63 115.668 486.759 Q115.668 493.866 117.473 497.431 Q119.302 500.972 122.913 500.972 Q126.547 500.972 128.353 497.431 Q130.182 493.866 130.182 486.759 Q130.182 479.63 128.353 476.088 Q126.547 472.523 122.913 472.523 M122.913 468.82 Q128.723 468.82 131.779 473.426 Q134.857 478.01 134.857 486.759 Q134.857 495.486 131.779 500.093 Q128.723 504.676 122.913 504.676 Q117.103 504.676 114.024 500.093 Q110.969 495.486 110.969 486.759 Q110.969 478.01 114.024 473.426 Q117.103 468.82 122.913 468.82 Z\" fill=\"#000000\" fill-rule=\"nonzero\" fill-opacity=\"1\" /><path clip-path=\"url(#clip710)\" d=\"M153.075 472.523 Q149.464 472.523 147.635 476.088 Q145.83 479.63 145.83 486.759 Q145.83 493.866 147.635 497.431 Q149.464 500.972 153.075 500.972 Q156.709 500.972 158.515 497.431 Q160.343 493.866 160.343 486.759 Q160.343 479.63 158.515 476.088 Q156.709 472.523 153.075 472.523 M153.075 468.82 Q158.885 468.82 161.941 473.426 Q165.019 478.01 165.019 486.759 Q165.019 495.486 161.941 500.093 Q158.885 504.676 153.075 504.676 Q147.265 504.676 144.186 500.093 Q141.131 495.486 141.131 486.759 Q141.131 478.01 144.186 473.426 Q147.265 468.82 153.075 468.82 Z\" fill=\"#000000\" fill-rule=\"nonzero\" fill-opacity=\"1\" /><path clip-path=\"url(#clip710)\" d=\"M56.6171 180.406 L72.9365 180.406 L72.9365 184.341 L50.9921 184.341 L50.9921 180.406 Q53.6541 177.651 58.2375 173.022 Q62.8439 168.369 64.0245 167.026 Q66.2698 164.503 67.1494 162.767 Q68.0522 161.008 68.0522 159.318 Q68.0522 156.563 66.1078 154.827 Q64.1865 153.091 61.0847 153.091 Q58.8856 153.091 56.4319 153.855 Q54.0014 154.619 51.2236 156.17 L51.2236 151.448 Q54.0477 150.313 56.5014 149.735 Q58.955 149.156 60.9921 149.156 Q66.3624 149.156 69.5568 151.841 Q72.7513 154.526 72.7513 159.017 Q72.7513 161.147 71.9411 163.068 Q71.1541 164.966 69.0476 167.559 Q68.4689 168.23 65.367 171.448 Q62.2652 174.642 56.6171 180.406 Z\" fill=\"#000000\" fill-rule=\"nonzero\" fill-opacity=\"1\" /><path clip-path=\"url(#clip710)\" d=\"M92.7512 152.86 Q89.1401 152.86 87.3114 156.425 Q85.5058 159.966 85.5058 167.096 Q85.5058 174.202 87.3114 177.767 Q89.1401 181.309 92.7512 181.309 Q96.3854 181.309 98.1909 177.767 Q100.02 174.202 100.02 167.096 Q100.02 159.966 98.1909 156.425 Q96.3854 152.86 92.7512 152.86 M92.7512 149.156 Q98.5613 149.156 101.617 153.763 Q104.696 158.346 104.696 167.096 Q104.696 175.823 101.617 180.429 Q98.5613 185.012 92.7512 185.012 Q86.941 185.012 83.8623 180.429 Q80.8068 175.823 80.8068 167.096 Q80.8068 158.346 83.8623 153.763 Q86.941 149.156 92.7512 149.156 Z\" fill=\"#000000\" fill-rule=\"nonzero\" fill-opacity=\"1\" /><path clip-path=\"url(#clip710)\" d=\"M122.913 152.86 Q119.302 152.86 117.473 156.425 Q115.668 159.966 115.668 167.096 Q115.668 174.202 117.473 177.767 Q119.302 181.309 122.913 181.309 Q126.547 181.309 128.353 177.767 Q130.182 174.202 130.182 167.096 Q130.182 159.966 128.353 156.425 Q126.547 152.86 122.913 152.86 M122.913 149.156 Q128.723 149.156 131.779 153.763 Q134.857 158.346 134.857 167.096 Q134.857 175.823 131.779 180.429 Q128.723 185.012 122.913 185.012 Q117.103 185.012 114.024 180.429 Q110.969 175.823 110.969 167.096 Q110.969 158.346 114.024 153.763 Q117.103 149.156 122.913 149.156 Z\" fill=\"#000000\" fill-rule=\"nonzero\" fill-opacity=\"1\" /><path clip-path=\"url(#clip710)\" d=\"M153.075 152.86 Q149.464 152.86 147.635 156.425 Q145.83 159.966 145.83 167.096 Q145.83 174.202 147.635 177.767 Q149.464 181.309 153.075 181.309 Q156.709 181.309 158.515 177.767 Q160.343 174.202 160.343 167.096 Q160.343 159.966 158.515 156.425 Q156.709 152.86 153.075 152.86 M153.075 149.156 Q158.885 149.156 161.941 153.763 Q165.019 158.346 165.019 167.096 Q165.019 175.823 161.941 180.429 Q158.885 185.012 153.075 185.012 Q147.265 185.012 144.186 180.429 Q141.131 175.823 141.131 167.096 Q141.131 158.346 144.186 153.763 Q147.265 149.156 153.075 149.156 Z\" fill=\"#000000\" fill-rule=\"nonzero\" fill-opacity=\"1\" /><polyline clip-path=\"url(#clip712)\" style=\"stroke:#009af9; stroke-linecap:round; stroke-linejoin:round; stroke-width:4; stroke-opacity:1; fill:none\" points=\"261.917,1445.72 331.915,1445.72 401.913,1445.72 471.911,1445.72 541.909,1445.72 611.907,1445.72 681.905,1445.72 751.903,1445.72 821.901,1445.72 891.899,1445.72 961.897,1445.72 1031.89,1445.72 1101.89,1445.72 1171.89,1445.72 1241.89,1445.72 1311.89,733.761 1381.88,87.9763 1451.88,1320.28 1521.88,1320.28 1591.88,1320.28 1661.88,1320.28 1731.87,1320.28 1801.87,1320.28 1871.87,1320.28 1941.87,1320.28 2011.87,1320.28 2081.86,1320.28 2151.86,1320.28 2221.86,1320.28 2291.86,1320.28 \"/>\n",
       "<path clip-path=\"url(#clip710)\" d=\"M2013.43 198.898 L2281.03 198.898 L2281.03 95.2176 L2013.43 95.2176  Z\" fill=\"#ffffff\" fill-rule=\"evenodd\" fill-opacity=\"1\"/>\n",
       "<polyline clip-path=\"url(#clip710)\" style=\"stroke:#000000; stroke-linecap:round; stroke-linejoin:round; stroke-width:4; stroke-opacity:1; fill:none\" points=\"2013.43,198.898 2281.03,198.898 2281.03,95.2176 2013.43,95.2176 2013.43,198.898 \"/>\n",
       "<polyline clip-path=\"url(#clip710)\" style=\"stroke:#009af9; stroke-linecap:round; stroke-linejoin:round; stroke-width:4; stroke-opacity:1; fill:none\" points=\"2037.34,147.058 2180.78,147.058 \"/>\n",
       "<path clip-path=\"url(#clip710)\" d=\"M2218.54 166.745 Q2216.73 171.375 2215.02 172.787 Q2213.3 174.199 2210.43 174.199 L2207.03 174.199 L2207.03 170.634 L2209.53 170.634 Q2211.29 170.634 2212.26 169.8 Q2213.23 168.967 2214.42 165.865 L2215.18 163.921 L2204.69 138.412 L2209.21 138.412 L2217.31 158.689 L2225.41 138.412 L2229.92 138.412 L2218.54 166.745 Z\" fill=\"#000000\" fill-rule=\"nonzero\" fill-opacity=\"1\" /><path clip-path=\"url(#clip710)\" d=\"M2237.22 160.402 L2244.85 160.402 L2244.85 134.037 L2236.54 135.703 L2236.54 131.444 L2244.81 129.778 L2249.48 129.778 L2249.48 160.402 L2257.12 160.402 L2257.12 164.338 L2237.22 164.338 L2237.22 160.402 Z\" fill=\"#000000\" fill-rule=\"nonzero\" fill-opacity=\"1\" /></svg>\n"
      ]
     },
     "execution_count": 48,
     "metadata": {},
     "output_type": "execute_result"
    }
   ],
   "source": [
    "plot(thist[1:end-1], nhist)"
   ]
  },
  {
   "cell_type": "code",
   "execution_count": 49,
   "id": "05fec2b1",
   "metadata": {},
   "outputs": [
    {
     "data": {
      "image/svg+xml": [
       "<?xml version=\"1.0\" encoding=\"utf-8\"?>\n",
       "<svg xmlns=\"http://www.w3.org/2000/svg\" xmlns:xlink=\"http://www.w3.org/1999/xlink\" width=\"600\" height=\"400\" viewBox=\"0 0 2400 1600\">\n",
       "<defs>\n",
       "  <clipPath id=\"clip750\">\n",
       "    <rect x=\"0\" y=\"0\" width=\"2400\" height=\"1600\"/>\n",
       "  </clipPath>\n",
       "</defs>\n",
       "<path clip-path=\"url(#clip750)\" d=\"M0 1600 L2400 1600 L2400 0 L0 0  Z\" fill=\"#ffffff\" fill-rule=\"evenodd\" fill-opacity=\"1\"/>\n",
       "<defs>\n",
       "  <clipPath id=\"clip751\">\n",
       "    <rect x=\"480\" y=\"0\" width=\"1681\" height=\"1600\"/>\n",
       "  </clipPath>\n",
       "</defs>\n",
       "<path clip-path=\"url(#clip750)\" d=\"M209.029 1486.45 L2352.76 1486.45 L2352.76 47.2441 L209.029 47.2441  Z\" fill=\"#ffffff\" fill-rule=\"evenodd\" fill-opacity=\"1\"/>\n",
       "<defs>\n",
       "  <clipPath id=\"clip752\">\n",
       "    <rect x=\"209\" y=\"47\" width=\"2145\" height=\"1440\"/>\n",
       "  </clipPath>\n",
       "</defs>\n",
       "<polyline clip-path=\"url(#clip752)\" style=\"stroke:#000000; stroke-linecap:round; stroke-linejoin:round; stroke-width:2; stroke-opacity:0.1; fill:none\" points=\"269.7,1486.45 269.7,47.2441 \"/>\n",
       "<polyline clip-path=\"url(#clip752)\" style=\"stroke:#000000; stroke-linecap:round; stroke-linejoin:round; stroke-width:2; stroke-opacity:0.1; fill:none\" points=\"688.124,1486.45 688.124,47.2441 \"/>\n",
       "<polyline clip-path=\"url(#clip752)\" style=\"stroke:#000000; stroke-linecap:round; stroke-linejoin:round; stroke-width:2; stroke-opacity:0.1; fill:none\" points=\"1106.55,1486.45 1106.55,47.2441 \"/>\n",
       "<polyline clip-path=\"url(#clip752)\" style=\"stroke:#000000; stroke-linecap:round; stroke-linejoin:round; stroke-width:2; stroke-opacity:0.1; fill:none\" points=\"1524.97,1486.45 1524.97,47.2441 \"/>\n",
       "<polyline clip-path=\"url(#clip752)\" style=\"stroke:#000000; stroke-linecap:round; stroke-linejoin:round; stroke-width:2; stroke-opacity:0.1; fill:none\" points=\"1943.4,1486.45 1943.4,47.2441 \"/>\n",
       "<polyline clip-path=\"url(#clip750)\" style=\"stroke:#000000; stroke-linecap:round; stroke-linejoin:round; stroke-width:4; stroke-opacity:1; fill:none\" points=\"209.029,1486.45 2352.76,1486.45 \"/>\n",
       "<polyline clip-path=\"url(#clip750)\" style=\"stroke:#000000; stroke-linecap:round; stroke-linejoin:round; stroke-width:4; stroke-opacity:1; fill:none\" points=\"269.7,1486.45 269.7,1467.55 \"/>\n",
       "<polyline clip-path=\"url(#clip750)\" style=\"stroke:#000000; stroke-linecap:round; stroke-linejoin:round; stroke-width:4; stroke-opacity:1; fill:none\" points=\"688.124,1486.45 688.124,1467.55 \"/>\n",
       "<polyline clip-path=\"url(#clip750)\" style=\"stroke:#000000; stroke-linecap:round; stroke-linejoin:round; stroke-width:4; stroke-opacity:1; fill:none\" points=\"1106.55,1486.45 1106.55,1467.55 \"/>\n",
       "<polyline clip-path=\"url(#clip750)\" style=\"stroke:#000000; stroke-linecap:round; stroke-linejoin:round; stroke-width:4; stroke-opacity:1; fill:none\" points=\"1524.97,1486.45 1524.97,1467.55 \"/>\n",
       "<polyline clip-path=\"url(#clip750)\" style=\"stroke:#000000; stroke-linecap:round; stroke-linejoin:round; stroke-width:4; stroke-opacity:1; fill:none\" points=\"1943.4,1486.45 1943.4,1467.55 \"/>\n",
       "<path clip-path=\"url(#clip750)\" d=\"M247.084 1517.37 Q243.473 1517.37 241.645 1520.93 Q239.839 1524.47 239.839 1531.6 Q239.839 1538.71 241.645 1542.27 Q243.473 1545.82 247.084 1545.82 Q250.719 1545.82 252.524 1542.27 Q254.353 1538.71 254.353 1531.6 Q254.353 1524.47 252.524 1520.93 Q250.719 1517.37 247.084 1517.37 M247.084 1513.66 Q252.895 1513.66 255.95 1518.27 Q259.029 1522.85 259.029 1531.6 Q259.029 1540.33 255.95 1544.94 Q252.895 1549.52 247.084 1549.52 Q241.274 1549.52 238.196 1544.94 Q235.14 1540.33 235.14 1531.6 Q235.14 1522.85 238.196 1518.27 Q241.274 1513.66 247.084 1513.66 Z\" fill=\"#000000\" fill-rule=\"nonzero\" fill-opacity=\"1\" /><path clip-path=\"url(#clip750)\" d=\"M267.246 1542.97 L272.131 1542.97 L272.131 1548.85 L267.246 1548.85 L267.246 1542.97 Z\" fill=\"#000000\" fill-rule=\"nonzero\" fill-opacity=\"1\" /><path clip-path=\"url(#clip750)\" d=\"M292.316 1517.37 Q288.705 1517.37 286.876 1520.93 Q285.07 1524.47 285.07 1531.6 Q285.07 1538.71 286.876 1542.27 Q288.705 1545.82 292.316 1545.82 Q295.95 1545.82 297.755 1542.27 Q299.584 1538.71 299.584 1531.6 Q299.584 1524.47 297.755 1520.93 Q295.95 1517.37 292.316 1517.37 M292.316 1513.66 Q298.126 1513.66 301.181 1518.27 Q304.26 1522.85 304.26 1531.6 Q304.26 1540.33 301.181 1544.94 Q298.126 1549.52 292.316 1549.52 Q286.506 1549.52 283.427 1544.94 Q280.371 1540.33 280.371 1531.6 Q280.371 1522.85 283.427 1518.27 Q286.506 1513.66 292.316 1513.66 Z\" fill=\"#000000\" fill-rule=\"nonzero\" fill-opacity=\"1\" /><path clip-path=\"url(#clip750)\" d=\"M665.833 1517.37 Q662.222 1517.37 660.393 1520.93 Q658.588 1524.47 658.588 1531.6 Q658.588 1538.71 660.393 1542.27 Q662.222 1545.82 665.833 1545.82 Q669.467 1545.82 671.273 1542.27 Q673.101 1538.71 673.101 1531.6 Q673.101 1524.47 671.273 1520.93 Q669.467 1517.37 665.833 1517.37 M665.833 1513.66 Q671.643 1513.66 674.699 1518.27 Q677.777 1522.85 677.777 1531.6 Q677.777 1540.33 674.699 1544.94 Q671.643 1549.52 665.833 1549.52 Q660.023 1549.52 656.944 1544.94 Q653.888 1540.33 653.888 1531.6 Q653.888 1522.85 656.944 1518.27 Q660.023 1513.66 665.833 1513.66 Z\" fill=\"#000000\" fill-rule=\"nonzero\" fill-opacity=\"1\" /><path clip-path=\"url(#clip750)\" d=\"M685.995 1542.97 L690.879 1542.97 L690.879 1548.85 L685.995 1548.85 L685.995 1542.97 Z\" fill=\"#000000\" fill-rule=\"nonzero\" fill-opacity=\"1\" /><path clip-path=\"url(#clip750)\" d=\"M715.231 1530.21 Q718.587 1530.93 720.462 1533.2 Q722.36 1535.47 722.36 1538.8 Q722.36 1543.92 718.842 1546.72 Q715.323 1549.52 708.842 1549.52 Q706.666 1549.52 704.351 1549.08 Q702.059 1548.66 699.606 1547.81 L699.606 1543.29 Q701.55 1544.43 703.865 1545.01 Q706.18 1545.58 708.703 1545.58 Q713.101 1545.58 715.393 1543.85 Q717.708 1542.11 717.708 1538.8 Q717.708 1535.75 715.555 1534.03 Q713.425 1532.3 709.606 1532.3 L705.578 1532.3 L705.578 1528.45 L709.791 1528.45 Q713.24 1528.45 715.069 1527.09 Q716.897 1525.7 716.897 1523.11 Q716.897 1520.45 714.999 1519.03 Q713.124 1517.6 709.606 1517.6 Q707.684 1517.6 705.485 1518.01 Q703.286 1518.43 700.647 1519.31 L700.647 1515.14 Q703.309 1514.4 705.624 1514.03 Q707.962 1513.66 710.022 1513.66 Q715.346 1513.66 718.448 1516.09 Q721.55 1518.5 721.55 1522.62 Q721.55 1525.49 719.907 1527.48 Q718.263 1529.45 715.231 1530.21 Z\" fill=\"#000000\" fill-rule=\"nonzero\" fill-opacity=\"1\" /><path clip-path=\"url(#clip750)\" d=\"M1083.85 1517.37 Q1080.24 1517.37 1078.41 1520.93 Q1076.61 1524.47 1076.61 1531.6 Q1076.61 1538.71 1078.41 1542.27 Q1080.24 1545.82 1083.85 1545.82 Q1087.49 1545.82 1089.29 1542.27 Q1091.12 1538.71 1091.12 1531.6 Q1091.12 1524.47 1089.29 1520.93 Q1087.49 1517.37 1083.85 1517.37 M1083.85 1513.66 Q1089.66 1513.66 1092.72 1518.27 Q1095.8 1522.85 1095.8 1531.6 Q1095.8 1540.33 1092.72 1544.94 Q1089.66 1549.52 1083.85 1549.52 Q1078.04 1549.52 1074.96 1544.94 Q1071.91 1540.33 1071.91 1531.6 Q1071.91 1522.85 1074.96 1518.27 Q1078.04 1513.66 1083.85 1513.66 Z\" fill=\"#000000\" fill-rule=\"nonzero\" fill-opacity=\"1\" /><path clip-path=\"url(#clip750)\" d=\"M1104.01 1542.97 L1108.9 1542.97 L1108.9 1548.85 L1104.01 1548.85 L1104.01 1542.97 Z\" fill=\"#000000\" fill-rule=\"nonzero\" fill-opacity=\"1\" /><path clip-path=\"url(#clip750)\" d=\"M1129.66 1529.7 Q1126.51 1529.7 1124.66 1531.86 Q1122.83 1534.01 1122.83 1537.76 Q1122.83 1541.49 1124.66 1543.66 Q1126.51 1545.82 1129.66 1545.82 Q1132.81 1545.82 1134.64 1543.66 Q1136.49 1541.49 1136.49 1537.76 Q1136.49 1534.01 1134.64 1531.86 Q1132.81 1529.7 1129.66 1529.7 M1138.94 1515.05 L1138.94 1519.31 Q1137.19 1518.48 1135.38 1518.04 Q1133.6 1517.6 1131.84 1517.6 Q1127.21 1517.6 1124.75 1520.72 Q1122.32 1523.85 1121.98 1530.17 Q1123.34 1528.15 1125.4 1527.09 Q1127.46 1526 1129.94 1526 Q1135.15 1526 1138.16 1529.17 Q1141.19 1532.32 1141.19 1537.76 Q1141.19 1543.08 1138.04 1546.3 Q1134.89 1549.52 1129.66 1549.52 Q1123.67 1549.52 1120.5 1544.94 Q1117.32 1540.33 1117.32 1531.6 Q1117.32 1523.41 1121.21 1518.55 Q1125.1 1513.66 1131.65 1513.66 Q1133.41 1513.66 1135.19 1514.01 Q1137 1514.36 1138.94 1515.05 Z\" fill=\"#000000\" fill-rule=\"nonzero\" fill-opacity=\"1\" /><path clip-path=\"url(#clip750)\" d=\"M1502.45 1517.37 Q1498.84 1517.37 1497.01 1520.93 Q1495.2 1524.47 1495.2 1531.6 Q1495.2 1538.71 1497.01 1542.27 Q1498.84 1545.82 1502.45 1545.82 Q1506.08 1545.82 1507.89 1542.27 Q1509.72 1538.71 1509.72 1531.6 Q1509.72 1524.47 1507.89 1520.93 Q1506.08 1517.37 1502.45 1517.37 M1502.45 1513.66 Q1508.26 1513.66 1511.32 1518.27 Q1514.39 1522.85 1514.39 1531.6 Q1514.39 1540.33 1511.32 1544.94 Q1508.26 1549.52 1502.45 1549.52 Q1496.64 1549.52 1493.56 1544.94 Q1490.51 1540.33 1490.51 1531.6 Q1490.51 1522.85 1493.56 1518.27 Q1496.64 1513.66 1502.45 1513.66 Z\" fill=\"#000000\" fill-rule=\"nonzero\" fill-opacity=\"1\" /><path clip-path=\"url(#clip750)\" d=\"M1522.61 1542.97 L1527.5 1542.97 L1527.5 1548.85 L1522.61 1548.85 L1522.61 1542.97 Z\" fill=\"#000000\" fill-rule=\"nonzero\" fill-opacity=\"1\" /><path clip-path=\"url(#clip750)\" d=\"M1537.82 1548.13 L1537.82 1543.87 Q1539.58 1544.7 1541.39 1545.14 Q1543.19 1545.58 1544.93 1545.58 Q1549.56 1545.58 1551.99 1542.48 Q1554.44 1539.36 1554.79 1533.01 Q1553.45 1535.01 1551.38 1536.07 Q1549.32 1537.13 1546.82 1537.13 Q1541.64 1537.13 1538.61 1534.01 Q1535.6 1530.86 1535.6 1525.42 Q1535.6 1520.1 1538.75 1516.88 Q1541.89 1513.66 1547.13 1513.66 Q1553.12 1513.66 1556.27 1518.27 Q1559.44 1522.85 1559.44 1531.6 Q1559.44 1539.77 1555.55 1544.66 Q1551.69 1549.52 1545.14 1549.52 Q1543.38 1549.52 1541.57 1549.17 Q1539.76 1548.82 1537.82 1548.13 M1547.13 1533.48 Q1550.27 1533.48 1552.1 1531.32 Q1553.95 1529.17 1553.95 1525.42 Q1553.95 1521.7 1552.1 1519.54 Q1550.27 1517.37 1547.13 1517.37 Q1543.98 1517.37 1542.13 1519.54 Q1540.3 1521.7 1540.3 1525.42 Q1540.3 1529.17 1542.13 1531.32 Q1543.98 1533.48 1547.13 1533.48 Z\" fill=\"#000000\" fill-rule=\"nonzero\" fill-opacity=\"1\" /><path clip-path=\"url(#clip750)\" d=\"M1911.35 1544.91 L1918.99 1544.91 L1918.99 1518.55 L1910.68 1520.21 L1910.68 1515.95 L1918.94 1514.29 L1923.62 1514.29 L1923.62 1544.91 L1931.26 1544.91 L1931.26 1548.85 L1911.35 1548.85 L1911.35 1544.91 Z\" fill=\"#000000\" fill-rule=\"nonzero\" fill-opacity=\"1\" /><path clip-path=\"url(#clip750)\" d=\"M1940.7 1542.97 L1945.58 1542.97 L1945.58 1548.85 L1940.7 1548.85 L1940.7 1542.97 Z\" fill=\"#000000\" fill-rule=\"nonzero\" fill-opacity=\"1\" /><path clip-path=\"url(#clip750)\" d=\"M1959.8 1544.91 L1976.12 1544.91 L1976.12 1548.85 L1954.17 1548.85 L1954.17 1544.91 Q1956.83 1542.16 1961.42 1537.53 Q1966.02 1532.88 1967.21 1531.53 Q1969.45 1529.01 1970.33 1527.27 Q1971.23 1525.51 1971.23 1523.82 Q1971.23 1521.07 1969.29 1519.33 Q1967.37 1517.6 1964.27 1517.6 Q1962.07 1517.6 1959.61 1518.36 Q1957.18 1519.13 1954.4 1520.68 L1954.4 1515.95 Q1957.23 1514.82 1959.68 1514.24 Q1962.14 1513.66 1964.17 1513.66 Q1969.54 1513.66 1972.74 1516.35 Q1975.93 1519.03 1975.93 1523.52 Q1975.93 1525.65 1975.12 1527.57 Q1974.33 1529.47 1972.23 1532.07 Q1971.65 1532.74 1968.55 1535.95 Q1965.45 1539.15 1959.8 1544.91 Z\" fill=\"#000000\" fill-rule=\"nonzero\" fill-opacity=\"1\" /><polyline clip-path=\"url(#clip752)\" style=\"stroke:#000000; stroke-linecap:round; stroke-linejoin:round; stroke-width:2; stroke-opacity:0.1; fill:none\" points=\"209.029,1366.63 2352.76,1366.63 \"/>\n",
       "<polyline clip-path=\"url(#clip752)\" style=\"stroke:#000000; stroke-linecap:round; stroke-linejoin:round; stroke-width:2; stroke-opacity:0.1; fill:none\" points=\"209.029,1046.97 2352.76,1046.97 \"/>\n",
       "<polyline clip-path=\"url(#clip752)\" style=\"stroke:#000000; stroke-linecap:round; stroke-linejoin:round; stroke-width:2; stroke-opacity:0.1; fill:none\" points=\"209.029,727.304 2352.76,727.304 \"/>\n",
       "<polyline clip-path=\"url(#clip752)\" style=\"stroke:#000000; stroke-linecap:round; stroke-linejoin:round; stroke-width:2; stroke-opacity:0.1; fill:none\" points=\"209.029,407.64 2352.76,407.64 \"/>\n",
       "<polyline clip-path=\"url(#clip752)\" style=\"stroke:#000000; stroke-linecap:round; stroke-linejoin:round; stroke-width:2; stroke-opacity:0.1; fill:none\" points=\"209.029,87.9763 2352.76,87.9763 \"/>\n",
       "<polyline clip-path=\"url(#clip750)\" style=\"stroke:#000000; stroke-linecap:round; stroke-linejoin:round; stroke-width:4; stroke-opacity:1; fill:none\" points=\"209.029,1486.45 209.029,47.2441 \"/>\n",
       "<polyline clip-path=\"url(#clip750)\" style=\"stroke:#000000; stroke-linecap:round; stroke-linejoin:round; stroke-width:4; stroke-opacity:1; fill:none\" points=\"209.029,1366.63 227.926,1366.63 \"/>\n",
       "<polyline clip-path=\"url(#clip750)\" style=\"stroke:#000000; stroke-linecap:round; stroke-linejoin:round; stroke-width:4; stroke-opacity:1; fill:none\" points=\"209.029,1046.97 227.926,1046.97 \"/>\n",
       "<polyline clip-path=\"url(#clip750)\" style=\"stroke:#000000; stroke-linecap:round; stroke-linejoin:round; stroke-width:4; stroke-opacity:1; fill:none\" points=\"209.029,727.304 227.926,727.304 \"/>\n",
       "<polyline clip-path=\"url(#clip750)\" style=\"stroke:#000000; stroke-linecap:round; stroke-linejoin:round; stroke-width:4; stroke-opacity:1; fill:none\" points=\"209.029,407.64 227.926,407.64 \"/>\n",
       "<polyline clip-path=\"url(#clip750)\" style=\"stroke:#000000; stroke-linecap:round; stroke-linejoin:round; stroke-width:4; stroke-opacity:1; fill:none\" points=\"209.029,87.9763 227.926,87.9763 \"/>\n",
       "<path clip-path=\"url(#clip750)\" d=\"M50.9921 1367.08 L80.6679 1367.08 L80.6679 1371.02 L50.9921 1371.02 L50.9921 1367.08 Z\" fill=\"#000000\" fill-rule=\"nonzero\" fill-opacity=\"1\" /><path clip-path=\"url(#clip750)\" d=\"M91.5706 1379.98 L99.2095 1379.98 L99.2095 1353.61 L90.8993 1355.28 L90.8993 1351.02 L99.1632 1349.35 L103.839 1349.35 L103.839 1379.98 L111.478 1379.98 L111.478 1383.91 L91.5706 1383.91 L91.5706 1379.98 Z\" fill=\"#000000\" fill-rule=\"nonzero\" fill-opacity=\"1\" /><path clip-path=\"url(#clip750)\" d=\"M130.922 1352.43 Q127.311 1352.43 125.482 1355.99 Q123.677 1359.54 123.677 1366.67 Q123.677 1373.77 125.482 1377.34 Q127.311 1380.88 130.922 1380.88 Q134.556 1380.88 136.362 1377.34 Q138.191 1373.77 138.191 1366.67 Q138.191 1359.54 136.362 1355.99 Q134.556 1352.43 130.922 1352.43 M130.922 1348.73 Q136.732 1348.73 139.788 1353.33 Q142.867 1357.92 142.867 1366.67 Q142.867 1375.39 139.788 1380 Q136.732 1384.58 130.922 1384.58 Q125.112 1384.58 122.033 1380 Q118.978 1375.39 118.978 1366.67 Q118.978 1357.92 122.033 1353.33 Q125.112 1348.73 130.922 1348.73 Z\" fill=\"#000000\" fill-rule=\"nonzero\" fill-opacity=\"1\" /><path clip-path=\"url(#clip750)\" d=\"M161.084 1352.43 Q157.473 1352.43 155.644 1355.99 Q153.839 1359.54 153.839 1366.67 Q153.839 1373.77 155.644 1377.34 Q157.473 1380.88 161.084 1380.88 Q164.718 1380.88 166.524 1377.34 Q168.353 1373.77 168.353 1366.67 Q168.353 1359.54 166.524 1355.99 Q164.718 1352.43 161.084 1352.43 M161.084 1348.73 Q166.894 1348.73 169.95 1353.33 Q173.029 1357.92 173.029 1366.67 Q173.029 1375.39 169.95 1380 Q166.894 1384.58 161.084 1384.58 Q155.274 1384.58 152.195 1380 Q149.14 1375.39 149.14 1366.67 Q149.14 1357.92 152.195 1353.33 Q155.274 1348.73 161.084 1348.73 Z\" fill=\"#000000\" fill-rule=\"nonzero\" fill-opacity=\"1\" /><path clip-path=\"url(#clip750)\" d=\"M82.1494 1047.42 L111.825 1047.42 L111.825 1051.35 L82.1494 1051.35 L82.1494 1047.42 Z\" fill=\"#000000\" fill-rule=\"nonzero\" fill-opacity=\"1\" /><path clip-path=\"url(#clip750)\" d=\"M120.737 1029.69 L142.959 1029.69 L142.959 1031.68 L130.413 1064.25 L125.529 1064.25 L137.334 1033.62 L120.737 1033.62 L120.737 1029.69 Z\" fill=\"#000000\" fill-rule=\"nonzero\" fill-opacity=\"1\" /><path clip-path=\"url(#clip750)\" d=\"M152.126 1029.69 L170.482 1029.69 L170.482 1033.62 L156.408 1033.62 L156.408 1042.09 Q157.427 1041.75 158.445 1041.59 Q159.464 1041.4 160.482 1041.4 Q166.269 1041.4 169.649 1044.57 Q173.029 1047.74 173.029 1053.16 Q173.029 1058.74 169.556 1061.84 Q166.084 1064.92 159.765 1064.92 Q157.589 1064.92 155.32 1064.55 Q153.075 1064.18 150.668 1063.44 L150.668 1058.74 Q152.751 1059.87 154.973 1060.43 Q157.195 1060.98 159.672 1060.98 Q163.677 1060.98 166.015 1058.88 Q168.353 1056.77 168.353 1053.16 Q168.353 1049.55 166.015 1047.44 Q163.677 1045.34 159.672 1045.34 Q157.797 1045.34 155.922 1045.75 Q154.07 1046.17 152.126 1047.05 L152.126 1029.69 Z\" fill=\"#000000\" fill-rule=\"nonzero\" fill-opacity=\"1\" /><path clip-path=\"url(#clip750)\" d=\"M81.154 727.755 L110.83 727.755 L110.83 731.69 L81.154 731.69 L81.154 727.755 Z\" fill=\"#000000\" fill-rule=\"nonzero\" fill-opacity=\"1\" /><path clip-path=\"url(#clip750)\" d=\"M120.969 710.024 L139.325 710.024 L139.325 713.959 L125.251 713.959 L125.251 722.431 Q126.27 722.084 127.288 721.922 Q128.307 721.736 129.325 721.736 Q135.112 721.736 138.492 724.908 Q141.871 728.079 141.871 733.496 Q141.871 739.074 138.399 742.176 Q134.927 745.255 128.607 745.255 Q126.432 745.255 124.163 744.884 Q121.918 744.514 119.51 743.773 L119.51 739.074 Q121.594 740.209 123.816 740.764 Q126.038 741.32 128.515 741.32 Q132.519 741.32 134.857 739.213 Q137.195 737.107 137.195 733.496 Q137.195 729.885 134.857 727.778 Q132.519 725.672 128.515 725.672 Q126.64 725.672 124.765 726.088 Q122.913 726.505 120.969 727.385 L120.969 710.024 Z\" fill=\"#000000\" fill-rule=\"nonzero\" fill-opacity=\"1\" /><path clip-path=\"url(#clip750)\" d=\"M161.084 713.102 Q157.473 713.102 155.644 716.667 Q153.839 720.209 153.839 727.338 Q153.839 734.445 155.644 738.01 Q157.473 741.551 161.084 741.551 Q164.718 741.551 166.524 738.01 Q168.353 734.445 168.353 727.338 Q168.353 720.209 166.524 716.667 Q164.718 713.102 161.084 713.102 M161.084 709.399 Q166.894 709.399 169.95 714.005 Q173.029 718.588 173.029 727.338 Q173.029 736.065 169.95 740.672 Q166.894 745.255 161.084 745.255 Q155.274 745.255 152.195 740.672 Q149.14 736.065 149.14 727.338 Q149.14 718.588 152.195 714.005 Q155.274 709.399 161.084 709.399 Z\" fill=\"#000000\" fill-rule=\"nonzero\" fill-opacity=\"1\" /><path clip-path=\"url(#clip750)\" d=\"M82.1494 408.091 L111.825 408.091 L111.825 412.026 L82.1494 412.026 L82.1494 408.091 Z\" fill=\"#000000\" fill-rule=\"nonzero\" fill-opacity=\"1\" /><path clip-path=\"url(#clip750)\" d=\"M125.945 420.985 L142.265 420.985 L142.265 424.92 L120.32 424.92 L120.32 420.985 Q122.982 418.23 127.566 413.601 Q132.172 408.948 133.353 407.605 Q135.598 405.082 136.478 403.346 Q137.381 401.587 137.381 399.897 Q137.381 397.142 135.436 395.406 Q133.515 393.67 130.413 393.67 Q128.214 393.67 125.76 394.434 Q123.33 395.198 120.552 396.749 L120.552 392.027 Q123.376 390.892 125.83 390.314 Q128.283 389.735 130.32 389.735 Q135.691 389.735 138.885 392.42 Q142.08 395.105 142.08 399.596 Q142.08 401.726 141.269 403.647 Q140.482 405.545 138.376 408.138 Q137.797 408.809 134.695 412.026 Q131.594 415.221 125.945 420.985 Z\" fill=\"#000000\" fill-rule=\"nonzero\" fill-opacity=\"1\" /><path clip-path=\"url(#clip750)\" d=\"M152.126 390.36 L170.482 390.36 L170.482 394.295 L156.408 394.295 L156.408 402.767 Q157.427 402.42 158.445 402.258 Q159.464 402.073 160.482 402.073 Q166.269 402.073 169.649 405.244 Q173.029 408.415 173.029 413.832 Q173.029 419.411 169.556 422.513 Q166.084 425.591 159.765 425.591 Q157.589 425.591 155.32 425.221 Q153.075 424.85 150.668 424.11 L150.668 419.411 Q152.751 420.545 154.973 421.1 Q157.195 421.656 159.672 421.656 Q163.677 421.656 166.015 419.55 Q168.353 417.443 168.353 413.832 Q168.353 410.221 166.015 408.114 Q163.677 406.008 159.672 406.008 Q157.797 406.008 155.922 406.425 Q154.07 406.841 152.126 407.721 L152.126 390.36 Z\" fill=\"#000000\" fill-rule=\"nonzero\" fill-opacity=\"1\" /><path clip-path=\"url(#clip750)\" d=\"M161.084 73.775 Q157.473 73.775 155.644 77.3398 Q153.839 80.8814 153.839 88.011 Q153.839 95.1174 155.644 98.6822 Q157.473 102.224 161.084 102.224 Q164.718 102.224 166.524 98.6822 Q168.353 95.1174 168.353 88.011 Q168.353 80.8814 166.524 77.3398 Q164.718 73.775 161.084 73.775 M161.084 70.0713 Q166.894 70.0713 169.95 74.6777 Q173.029 79.261 173.029 88.011 Q173.029 96.7378 169.95 101.344 Q166.894 105.928 161.084 105.928 Q155.274 105.928 152.195 101.344 Q149.14 96.7378 149.14 88.011 Q149.14 79.261 152.195 74.6777 Q155.274 70.0713 161.084 70.0713 Z\" fill=\"#000000\" fill-rule=\"nonzero\" fill-opacity=\"1\" /><polyline clip-path=\"url(#clip752)\" style=\"stroke:#009af9; stroke-linecap:round; stroke-linejoin:round; stroke-width:4; stroke-opacity:1; fill:none\" points=\"269.7,87.9763 339.437,87.9763 409.175,87.9763 478.912,87.9763 548.65,87.9763 618.387,87.9763 688.124,87.9763 757.862,87.9763 827.599,87.9763 897.337,87.9763 967.074,87.9763 1036.81,87.9763 1106.55,87.9763 1176.29,87.9763 1246.02,87.9763 1315.76,799.931 1385.5,1445.72 1455.24,213.412 1524.97,213.412 1594.71,213.412 1664.45,213.412 1734.19,213.412 1803.92,213.412 1873.66,213.412 1943.4,213.412 2013.13,213.412 2082.87,213.412 2152.61,213.412 2222.35,213.412 2292.08,213.412 \"/>\n",
       "<path clip-path=\"url(#clip750)\" d=\"M2014.5 1438.47 L2281.3 1438.47 L2281.3 1334.79 L2014.5 1334.79  Z\" fill=\"#ffffff\" fill-rule=\"evenodd\" fill-opacity=\"1\"/>\n",
       "<polyline clip-path=\"url(#clip750)\" style=\"stroke:#000000; stroke-linecap:round; stroke-linejoin:round; stroke-width:4; stroke-opacity:1; fill:none\" points=\"2014.5,1438.47 2281.3,1438.47 2281.3,1334.79 2014.5,1334.79 2014.5,1438.47 \"/>\n",
       "<polyline clip-path=\"url(#clip750)\" style=\"stroke:#009af9; stroke-linecap:round; stroke-linejoin:round; stroke-width:4; stroke-opacity:1; fill:none\" points=\"2038.31,1386.63 2181.23,1386.63 \"/>\n",
       "<path clip-path=\"url(#clip750)\" d=\"M2218.89 1406.32 Q2217.09 1410.95 2215.37 1412.36 Q2213.66 1413.78 2210.79 1413.78 L2207.39 1413.78 L2207.39 1410.21 L2209.89 1410.21 Q2211.65 1410.21 2212.62 1409.38 Q2213.59 1408.54 2214.77 1405.44 L2215.53 1403.5 L2205.05 1377.99 L2209.56 1377.99 L2217.66 1398.27 L2225.77 1377.99 L2230.28 1377.99 L2218.89 1406.32 Z\" fill=\"#000000\" fill-rule=\"nonzero\" fill-opacity=\"1\" /><path clip-path=\"url(#clip750)\" d=\"M2237.57 1399.98 L2245.21 1399.98 L2245.21 1373.61 L2236.9 1375.28 L2236.9 1371.02 L2245.16 1369.35 L2249.84 1369.35 L2249.84 1399.98 L2257.48 1399.98 L2257.48 1403.91 L2237.57 1403.91 L2237.57 1399.98 Z\" fill=\"#000000\" fill-rule=\"nonzero\" fill-opacity=\"1\" /></svg>\n"
      ]
     },
     "execution_count": 49,
     "metadata": {},
     "output_type": "execute_result"
    }
   ],
   "source": [
    "plot(thist[1:end-1], bhist)"
   ]
  },
  {
   "cell_type": "code",
   "execution_count": 50,
   "id": "355b4bf9",
   "metadata": {},
   "outputs": [
    {
     "data": {
      "image/svg+xml": [
       "<?xml version=\"1.0\" encoding=\"utf-8\"?>\n",
       "<svg xmlns=\"http://www.w3.org/2000/svg\" xmlns:xlink=\"http://www.w3.org/1999/xlink\" width=\"600\" height=\"400\" viewBox=\"0 0 2400 1600\">\n",
       "<defs>\n",
       "  <clipPath id=\"clip790\">\n",
       "    <rect x=\"0\" y=\"0\" width=\"2400\" height=\"1600\"/>\n",
       "  </clipPath>\n",
       "</defs>\n",
       "<path clip-path=\"url(#clip790)\" d=\"M0 1600 L2400 1600 L2400 0 L0 0  Z\" fill=\"#ffffff\" fill-rule=\"evenodd\" fill-opacity=\"1\"/>\n",
       "<defs>\n",
       "  <clipPath id=\"clip791\">\n",
       "    <rect x=\"480\" y=\"0\" width=\"1681\" height=\"1600\"/>\n",
       "  </clipPath>\n",
       "</defs>\n",
       "<path clip-path=\"url(#clip790)\" d=\"M156.598 1486.45 L2352.76 1486.45 L2352.76 47.2441 L156.598 47.2441  Z\" fill=\"#ffffff\" fill-rule=\"evenodd\" fill-opacity=\"1\"/>\n",
       "<defs>\n",
       "  <clipPath id=\"clip792\">\n",
       "    <rect x=\"156\" y=\"47\" width=\"2197\" height=\"1440\"/>\n",
       "  </clipPath>\n",
       "</defs>\n",
       "<polyline clip-path=\"url(#clip792)\" style=\"stroke:#000000; stroke-linecap:round; stroke-linejoin:round; stroke-width:2; stroke-opacity:0.1; fill:none\" points=\"218.754,1486.45 218.754,47.2441 \"/>\n",
       "<polyline clip-path=\"url(#clip792)\" style=\"stroke:#000000; stroke-linecap:round; stroke-linejoin:round; stroke-width:2; stroke-opacity:0.1; fill:none\" points=\"647.412,1486.45 647.412,47.2441 \"/>\n",
       "<polyline clip-path=\"url(#clip792)\" style=\"stroke:#000000; stroke-linecap:round; stroke-linejoin:round; stroke-width:2; stroke-opacity:0.1; fill:none\" points=\"1076.07,1486.45 1076.07,47.2441 \"/>\n",
       "<polyline clip-path=\"url(#clip792)\" style=\"stroke:#000000; stroke-linecap:round; stroke-linejoin:round; stroke-width:2; stroke-opacity:0.1; fill:none\" points=\"1504.73,1486.45 1504.73,47.2441 \"/>\n",
       "<polyline clip-path=\"url(#clip792)\" style=\"stroke:#000000; stroke-linecap:round; stroke-linejoin:round; stroke-width:2; stroke-opacity:0.1; fill:none\" points=\"1933.39,1486.45 1933.39,47.2441 \"/>\n",
       "<polyline clip-path=\"url(#clip790)\" style=\"stroke:#000000; stroke-linecap:round; stroke-linejoin:round; stroke-width:4; stroke-opacity:1; fill:none\" points=\"156.598,1486.45 2352.76,1486.45 \"/>\n",
       "<polyline clip-path=\"url(#clip790)\" style=\"stroke:#000000; stroke-linecap:round; stroke-linejoin:round; stroke-width:4; stroke-opacity:1; fill:none\" points=\"218.754,1486.45 218.754,1467.55 \"/>\n",
       "<polyline clip-path=\"url(#clip790)\" style=\"stroke:#000000; stroke-linecap:round; stroke-linejoin:round; stroke-width:4; stroke-opacity:1; fill:none\" points=\"647.412,1486.45 647.412,1467.55 \"/>\n",
       "<polyline clip-path=\"url(#clip790)\" style=\"stroke:#000000; stroke-linecap:round; stroke-linejoin:round; stroke-width:4; stroke-opacity:1; fill:none\" points=\"1076.07,1486.45 1076.07,1467.55 \"/>\n",
       "<polyline clip-path=\"url(#clip790)\" style=\"stroke:#000000; stroke-linecap:round; stroke-linejoin:round; stroke-width:4; stroke-opacity:1; fill:none\" points=\"1504.73,1486.45 1504.73,1467.55 \"/>\n",
       "<polyline clip-path=\"url(#clip790)\" style=\"stroke:#000000; stroke-linecap:round; stroke-linejoin:round; stroke-width:4; stroke-opacity:1; fill:none\" points=\"1933.39,1486.45 1933.39,1467.55 \"/>\n",
       "<path clip-path=\"url(#clip790)\" d=\"M196.138 1517.37 Q192.527 1517.37 190.698 1520.93 Q188.893 1524.47 188.893 1531.6 Q188.893 1538.71 190.698 1542.27 Q192.527 1545.82 196.138 1545.82 Q199.772 1545.82 201.578 1542.27 Q203.407 1538.71 203.407 1531.6 Q203.407 1524.47 201.578 1520.93 Q199.772 1517.37 196.138 1517.37 M196.138 1513.66 Q201.948 1513.66 205.004 1518.27 Q208.082 1522.85 208.082 1531.6 Q208.082 1540.33 205.004 1544.94 Q201.948 1549.52 196.138 1549.52 Q190.328 1549.52 187.249 1544.94 Q184.194 1540.33 184.194 1531.6 Q184.194 1522.85 187.249 1518.27 Q190.328 1513.66 196.138 1513.66 Z\" fill=\"#000000\" fill-rule=\"nonzero\" fill-opacity=\"1\" /><path clip-path=\"url(#clip790)\" d=\"M216.3 1542.97 L221.184 1542.97 L221.184 1548.85 L216.3 1548.85 L216.3 1542.97 Z\" fill=\"#000000\" fill-rule=\"nonzero\" fill-opacity=\"1\" /><path clip-path=\"url(#clip790)\" d=\"M241.369 1517.37 Q237.758 1517.37 235.929 1520.93 Q234.124 1524.47 234.124 1531.6 Q234.124 1538.71 235.929 1542.27 Q237.758 1545.82 241.369 1545.82 Q245.003 1545.82 246.809 1542.27 Q248.638 1538.71 248.638 1531.6 Q248.638 1524.47 246.809 1520.93 Q245.003 1517.37 241.369 1517.37 M241.369 1513.66 Q247.179 1513.66 250.235 1518.27 Q253.314 1522.85 253.314 1531.6 Q253.314 1540.33 250.235 1544.94 Q247.179 1549.52 241.369 1549.52 Q235.559 1549.52 232.48 1544.94 Q229.425 1540.33 229.425 1531.6 Q229.425 1522.85 232.48 1518.27 Q235.559 1513.66 241.369 1513.66 Z\" fill=\"#000000\" fill-rule=\"nonzero\" fill-opacity=\"1\" /><path clip-path=\"url(#clip790)\" d=\"M625.12 1517.37 Q621.509 1517.37 619.68 1520.93 Q617.875 1524.47 617.875 1531.6 Q617.875 1538.71 619.68 1542.27 Q621.509 1545.82 625.12 1545.82 Q628.754 1545.82 630.56 1542.27 Q632.389 1538.71 632.389 1531.6 Q632.389 1524.47 630.56 1520.93 Q628.754 1517.37 625.12 1517.37 M625.12 1513.66 Q630.93 1513.66 633.986 1518.27 Q637.064 1522.85 637.064 1531.6 Q637.064 1540.33 633.986 1544.94 Q630.93 1549.52 625.12 1549.52 Q619.31 1549.52 616.231 1544.94 Q613.176 1540.33 613.176 1531.6 Q613.176 1522.85 616.231 1518.27 Q619.31 1513.66 625.12 1513.66 Z\" fill=\"#000000\" fill-rule=\"nonzero\" fill-opacity=\"1\" /><path clip-path=\"url(#clip790)\" d=\"M645.282 1542.97 L650.166 1542.97 L650.166 1548.85 L645.282 1548.85 L645.282 1542.97 Z\" fill=\"#000000\" fill-rule=\"nonzero\" fill-opacity=\"1\" /><path clip-path=\"url(#clip790)\" d=\"M674.518 1530.21 Q677.874 1530.93 679.749 1533.2 Q681.648 1535.47 681.648 1538.8 Q681.648 1543.92 678.129 1546.72 Q674.611 1549.52 668.129 1549.52 Q665.953 1549.52 663.638 1549.08 Q661.347 1548.66 658.893 1547.81 L658.893 1543.29 Q660.837 1544.43 663.152 1545.01 Q665.467 1545.58 667.99 1545.58 Q672.388 1545.58 674.68 1543.85 Q676.995 1542.11 676.995 1538.8 Q676.995 1535.75 674.842 1534.03 Q672.712 1532.3 668.893 1532.3 L664.865 1532.3 L664.865 1528.45 L669.078 1528.45 Q672.527 1528.45 674.356 1527.09 Q676.185 1525.7 676.185 1523.11 Q676.185 1520.45 674.286 1519.03 Q672.411 1517.6 668.893 1517.6 Q666.972 1517.6 664.773 1518.01 Q662.574 1518.43 659.935 1519.31 L659.935 1515.14 Q662.597 1514.4 664.912 1514.03 Q667.249 1513.66 669.31 1513.66 Q674.634 1513.66 677.736 1516.09 Q680.837 1518.5 680.837 1522.62 Q680.837 1525.49 679.194 1527.48 Q677.55 1529.45 674.518 1530.21 Z\" fill=\"#000000\" fill-rule=\"nonzero\" fill-opacity=\"1\" /><path clip-path=\"url(#clip790)\" d=\"M1053.37 1517.37 Q1049.76 1517.37 1047.93 1520.93 Q1046.13 1524.47 1046.13 1531.6 Q1046.13 1538.71 1047.93 1542.27 Q1049.76 1545.82 1053.37 1545.82 Q1057.01 1545.82 1058.81 1542.27 Q1060.64 1538.71 1060.64 1531.6 Q1060.64 1524.47 1058.81 1520.93 Q1057.01 1517.37 1053.37 1517.37 M1053.37 1513.66 Q1059.18 1513.66 1062.24 1518.27 Q1065.32 1522.85 1065.32 1531.6 Q1065.32 1540.33 1062.24 1544.94 Q1059.18 1549.52 1053.37 1549.52 Q1047.56 1549.52 1044.48 1544.94 Q1041.43 1540.33 1041.43 1531.6 Q1041.43 1522.85 1044.48 1518.27 Q1047.56 1513.66 1053.37 1513.66 Z\" fill=\"#000000\" fill-rule=\"nonzero\" fill-opacity=\"1\" /><path clip-path=\"url(#clip790)\" d=\"M1073.53 1542.97 L1078.42 1542.97 L1078.42 1548.85 L1073.53 1548.85 L1073.53 1542.97 Z\" fill=\"#000000\" fill-rule=\"nonzero\" fill-opacity=\"1\" /><path clip-path=\"url(#clip790)\" d=\"M1099.18 1529.7 Q1096.03 1529.7 1094.18 1531.86 Q1092.35 1534.01 1092.35 1537.76 Q1092.35 1541.49 1094.18 1543.66 Q1096.03 1545.82 1099.18 1545.82 Q1102.33 1545.82 1104.16 1543.66 Q1106.01 1541.49 1106.01 1537.76 Q1106.01 1534.01 1104.16 1531.86 Q1102.33 1529.7 1099.18 1529.7 M1108.47 1515.05 L1108.47 1519.31 Q1106.71 1518.48 1104.9 1518.04 Q1103.12 1517.6 1101.36 1517.6 Q1096.73 1517.6 1094.28 1520.72 Q1091.84 1523.85 1091.5 1530.17 Q1092.86 1528.15 1094.92 1527.09 Q1096.98 1526 1099.46 1526 Q1104.67 1526 1107.68 1529.17 Q1110.71 1532.32 1110.71 1537.76 Q1110.71 1543.08 1107.56 1546.3 Q1104.41 1549.52 1099.18 1549.52 Q1093.19 1549.52 1090.02 1544.94 Q1086.84 1540.33 1086.84 1531.6 Q1086.84 1523.41 1090.73 1518.55 Q1094.62 1513.66 1101.17 1513.66 Q1102.93 1513.66 1104.72 1514.01 Q1106.52 1514.36 1108.47 1515.05 Z\" fill=\"#000000\" fill-rule=\"nonzero\" fill-opacity=\"1\" /><path clip-path=\"url(#clip790)\" d=\"M1482.2 1517.37 Q1478.59 1517.37 1476.76 1520.93 Q1474.96 1524.47 1474.96 1531.6 Q1474.96 1538.71 1476.76 1542.27 Q1478.59 1545.82 1482.2 1545.82 Q1485.84 1545.82 1487.64 1542.27 Q1489.47 1538.71 1489.47 1531.6 Q1489.47 1524.47 1487.64 1520.93 Q1485.84 1517.37 1482.2 1517.37 M1482.2 1513.66 Q1488.01 1513.66 1491.07 1518.27 Q1494.15 1522.85 1494.15 1531.6 Q1494.15 1540.33 1491.07 1544.94 Q1488.01 1549.52 1482.2 1549.52 Q1476.39 1549.52 1473.32 1544.94 Q1470.26 1540.33 1470.26 1531.6 Q1470.26 1522.85 1473.32 1518.27 Q1476.39 1513.66 1482.2 1513.66 Z\" fill=\"#000000\" fill-rule=\"nonzero\" fill-opacity=\"1\" /><path clip-path=\"url(#clip790)\" d=\"M1502.37 1542.97 L1507.25 1542.97 L1507.25 1548.85 L1502.37 1548.85 L1502.37 1542.97 Z\" fill=\"#000000\" fill-rule=\"nonzero\" fill-opacity=\"1\" /><path clip-path=\"url(#clip790)\" d=\"M1517.57 1548.13 L1517.57 1543.87 Q1519.33 1544.7 1521.14 1545.14 Q1522.95 1545.58 1524.68 1545.58 Q1529.31 1545.58 1531.74 1542.48 Q1534.19 1539.36 1534.54 1533.01 Q1533.2 1535.01 1531.14 1536.07 Q1529.08 1537.13 1526.58 1537.13 Q1521.39 1537.13 1518.36 1534.01 Q1515.35 1530.86 1515.35 1525.42 Q1515.35 1520.1 1518.5 1516.88 Q1521.65 1513.66 1526.88 1513.66 Q1532.88 1513.66 1536.02 1518.27 Q1539.19 1522.85 1539.19 1531.6 Q1539.19 1539.77 1535.31 1544.66 Q1531.44 1549.52 1524.89 1549.52 Q1523.13 1549.52 1521.32 1549.17 Q1519.52 1548.82 1517.57 1548.13 M1526.88 1533.48 Q1530.03 1533.48 1531.86 1531.32 Q1533.71 1529.17 1533.71 1525.42 Q1533.71 1521.7 1531.86 1519.54 Q1530.03 1517.37 1526.88 1517.37 Q1523.73 1517.37 1521.88 1519.54 Q1520.05 1521.7 1520.05 1525.42 Q1520.05 1529.17 1521.88 1531.32 Q1523.73 1533.48 1526.88 1533.48 Z\" fill=\"#000000\" fill-rule=\"nonzero\" fill-opacity=\"1\" /><path clip-path=\"url(#clip790)\" d=\"M1901.34 1544.91 L1908.98 1544.91 L1908.98 1518.55 L1900.67 1520.21 L1900.67 1515.95 L1908.93 1514.29 L1913.61 1514.29 L1913.61 1544.91 L1921.24 1544.91 L1921.24 1548.85 L1901.34 1548.85 L1901.34 1544.91 Z\" fill=\"#000000\" fill-rule=\"nonzero\" fill-opacity=\"1\" /><path clip-path=\"url(#clip790)\" d=\"M1930.69 1542.97 L1935.57 1542.97 L1935.57 1548.85 L1930.69 1548.85 L1930.69 1542.97 Z\" fill=\"#000000\" fill-rule=\"nonzero\" fill-opacity=\"1\" /><path clip-path=\"url(#clip790)\" d=\"M1949.79 1544.91 L1966.11 1544.91 L1966.11 1548.85 L1944.16 1548.85 L1944.16 1544.91 Q1946.82 1542.16 1951.41 1537.53 Q1956.01 1532.88 1957.19 1531.53 Q1959.44 1529.01 1960.32 1527.27 Q1961.22 1525.51 1961.22 1523.82 Q1961.22 1521.07 1959.28 1519.33 Q1957.36 1517.6 1954.25 1517.6 Q1952.05 1517.6 1949.6 1518.36 Q1947.17 1519.13 1944.39 1520.68 L1944.39 1515.95 Q1947.22 1514.82 1949.67 1514.24 Q1952.12 1513.66 1954.16 1513.66 Q1959.53 1513.66 1962.73 1516.35 Q1965.92 1519.03 1965.92 1523.52 Q1965.92 1525.65 1965.11 1527.57 Q1964.32 1529.47 1962.22 1532.07 Q1961.64 1532.74 1958.54 1535.95 Q1955.43 1539.15 1949.79 1544.91 Z\" fill=\"#000000\" fill-rule=\"nonzero\" fill-opacity=\"1\" /><polyline clip-path=\"url(#clip792)\" style=\"stroke:#000000; stroke-linecap:round; stroke-linejoin:round; stroke-width:2; stroke-opacity:0.1; fill:none\" points=\"156.598,1445.72 2352.76,1445.72 \"/>\n",
       "<polyline clip-path=\"url(#clip792)\" style=\"stroke:#000000; stroke-linecap:round; stroke-linejoin:round; stroke-width:2; stroke-opacity:0.1; fill:none\" points=\"156.598,1130.26 2352.76,1130.26 \"/>\n",
       "<polyline clip-path=\"url(#clip792)\" style=\"stroke:#000000; stroke-linecap:round; stroke-linejoin:round; stroke-width:2; stroke-opacity:0.1; fill:none\" points=\"156.598,814.796 2352.76,814.796 \"/>\n",
       "<polyline clip-path=\"url(#clip792)\" style=\"stroke:#000000; stroke-linecap:round; stroke-linejoin:round; stroke-width:2; stroke-opacity:0.1; fill:none\" points=\"156.598,499.336 2352.76,499.336 \"/>\n",
       "<polyline clip-path=\"url(#clip792)\" style=\"stroke:#000000; stroke-linecap:round; stroke-linejoin:round; stroke-width:2; stroke-opacity:0.1; fill:none\" points=\"156.598,183.876 2352.76,183.876 \"/>\n",
       "<polyline clip-path=\"url(#clip790)\" style=\"stroke:#000000; stroke-linecap:round; stroke-linejoin:round; stroke-width:4; stroke-opacity:1; fill:none\" points=\"156.598,1486.45 156.598,47.2441 \"/>\n",
       "<polyline clip-path=\"url(#clip790)\" style=\"stroke:#000000; stroke-linecap:round; stroke-linejoin:round; stroke-width:4; stroke-opacity:1; fill:none\" points=\"156.598,1445.72 175.496,1445.72 \"/>\n",
       "<polyline clip-path=\"url(#clip790)\" style=\"stroke:#000000; stroke-linecap:round; stroke-linejoin:round; stroke-width:4; stroke-opacity:1; fill:none\" points=\"156.598,1130.26 175.496,1130.26 \"/>\n",
       "<polyline clip-path=\"url(#clip790)\" style=\"stroke:#000000; stroke-linecap:round; stroke-linejoin:round; stroke-width:4; stroke-opacity:1; fill:none\" points=\"156.598,814.796 175.496,814.796 \"/>\n",
       "<polyline clip-path=\"url(#clip790)\" style=\"stroke:#000000; stroke-linecap:round; stroke-linejoin:round; stroke-width:4; stroke-opacity:1; fill:none\" points=\"156.598,499.336 175.496,499.336 \"/>\n",
       "<polyline clip-path=\"url(#clip790)\" style=\"stroke:#000000; stroke-linecap:round; stroke-linejoin:round; stroke-width:4; stroke-opacity:1; fill:none\" points=\"156.598,183.876 175.496,183.876 \"/>\n",
       "<path clip-path=\"url(#clip790)\" d=\"M63.4226 1431.51 Q59.8115 1431.51 57.9828 1435.08 Q56.1773 1438.62 56.1773 1445.75 Q56.1773 1452.86 57.9828 1456.42 Q59.8115 1459.96 63.4226 1459.96 Q67.0569 1459.96 68.8624 1456.42 Q70.6911 1452.86 70.6911 1445.75 Q70.6911 1438.62 68.8624 1435.08 Q67.0569 1431.51 63.4226 1431.51 M63.4226 1427.81 Q69.2328 1427.81 72.2883 1432.42 Q75.367 1437 75.367 1445.75 Q75.367 1454.48 72.2883 1459.08 Q69.2328 1463.67 63.4226 1463.67 Q57.6125 1463.67 54.5338 1459.08 Q51.4782 1454.48 51.4782 1445.75 Q51.4782 1437 54.5338 1432.42 Q57.6125 1427.81 63.4226 1427.81 Z\" fill=\"#000000\" fill-rule=\"nonzero\" fill-opacity=\"1\" /><path clip-path=\"url(#clip790)\" d=\"M83.5845 1457.12 L88.4688 1457.12 L88.4688 1463 L83.5845 1463 L83.5845 1457.12 Z\" fill=\"#000000\" fill-rule=\"nonzero\" fill-opacity=\"1\" /><path clip-path=\"url(#clip790)\" d=\"M108.654 1431.51 Q105.043 1431.51 103.214 1435.08 Q101.409 1438.62 101.409 1445.75 Q101.409 1452.86 103.214 1456.42 Q105.043 1459.96 108.654 1459.96 Q112.288 1459.96 114.094 1456.42 Q115.922 1452.86 115.922 1445.75 Q115.922 1438.62 114.094 1435.08 Q112.288 1431.51 108.654 1431.51 M108.654 1427.81 Q114.464 1427.81 117.52 1432.42 Q120.598 1437 120.598 1445.75 Q120.598 1454.48 117.52 1459.08 Q114.464 1463.67 108.654 1463.67 Q102.844 1463.67 99.765 1459.08 Q96.7095 1454.48 96.7095 1445.75 Q96.7095 1437 99.765 1432.42 Q102.844 1427.81 108.654 1427.81 Z\" fill=\"#000000\" fill-rule=\"nonzero\" fill-opacity=\"1\" /><path clip-path=\"url(#clip790)\" d=\"M65.0198 1116.05 Q61.4087 1116.05 59.58 1119.62 Q57.7745 1123.16 57.7745 1130.29 Q57.7745 1137.4 59.58 1140.96 Q61.4087 1144.5 65.0198 1144.5 Q68.6541 1144.5 70.4596 1140.96 Q72.2883 1137.4 72.2883 1130.29 Q72.2883 1123.16 70.4596 1119.62 Q68.6541 1116.05 65.0198 1116.05 M65.0198 1112.35 Q70.83 1112.35 73.8855 1116.96 Q76.9642 1121.54 76.9642 1130.29 Q76.9642 1139.02 73.8855 1143.62 Q70.83 1148.21 65.0198 1148.21 Q59.2097 1148.21 56.131 1143.62 Q53.0754 1139.02 53.0754 1130.29 Q53.0754 1121.54 56.131 1116.96 Q59.2097 1112.35 65.0198 1112.35 Z\" fill=\"#000000\" fill-rule=\"nonzero\" fill-opacity=\"1\" /><path clip-path=\"url(#clip790)\" d=\"M85.1818 1141.66 L90.066 1141.66 L90.066 1147.54 L85.1818 1147.54 L85.1818 1141.66 Z\" fill=\"#000000\" fill-rule=\"nonzero\" fill-opacity=\"1\" /><path clip-path=\"url(#clip790)\" d=\"M104.279 1143.6 L120.598 1143.6 L120.598 1147.54 L98.6539 1147.54 L98.6539 1143.6 Q101.316 1140.85 105.899 1136.22 Q110.506 1131.56 111.686 1130.22 Q113.932 1127.7 114.811 1125.96 Q115.714 1124.2 115.714 1122.51 Q115.714 1119.76 113.77 1118.02 Q111.848 1116.29 108.746 1116.29 Q106.547 1116.29 104.094 1117.05 Q101.663 1117.81 98.8854 1119.36 L98.8854 1114.64 Q101.709 1113.51 104.163 1112.93 Q106.617 1112.35 108.654 1112.35 Q114.024 1112.35 117.219 1115.04 Q120.413 1117.72 120.413 1122.21 Q120.413 1124.34 119.603 1126.26 Q118.816 1128.16 116.709 1130.75 Q116.131 1131.42 113.029 1134.64 Q109.927 1137.84 104.279 1143.6 Z\" fill=\"#000000\" fill-rule=\"nonzero\" fill-opacity=\"1\" /><path clip-path=\"url(#clip790)\" d=\"M62.9365 800.595 Q59.3254 800.595 57.4967 804.159 Q55.6912 807.701 55.6912 814.831 Q55.6912 821.937 57.4967 825.502 Q59.3254 829.043 62.9365 829.043 Q66.5707 829.043 68.3763 825.502 Q70.205 821.937 70.205 814.831 Q70.205 807.701 68.3763 804.159 Q66.5707 800.595 62.9365 800.595 M62.9365 796.891 Q68.7467 796.891 71.8022 801.497 Q74.8809 806.081 74.8809 814.831 Q74.8809 823.557 71.8022 828.164 Q68.7467 832.747 62.9365 832.747 Q57.1264 832.747 54.0477 828.164 Q50.9921 823.557 50.9921 814.831 Q50.9921 806.081 54.0477 801.497 Q57.1264 796.891 62.9365 796.891 Z\" fill=\"#000000\" fill-rule=\"nonzero\" fill-opacity=\"1\" /><path clip-path=\"url(#clip790)\" d=\"M83.0984 826.196 L87.9827 826.196 L87.9827 832.076 L83.0984 832.076 L83.0984 826.196 Z\" fill=\"#000000\" fill-rule=\"nonzero\" fill-opacity=\"1\" /><path clip-path=\"url(#clip790)\" d=\"M111.015 801.59 L99.2095 820.039 L111.015 820.039 L111.015 801.59 M109.788 797.516 L115.668 797.516 L115.668 820.039 L120.598 820.039 L120.598 823.928 L115.668 823.928 L115.668 832.076 L111.015 832.076 L111.015 823.928 L95.4132 823.928 L95.4132 819.414 L109.788 797.516 Z\" fill=\"#000000\" fill-rule=\"nonzero\" fill-opacity=\"1\" /><path clip-path=\"url(#clip790)\" d=\"M63.2606 485.135 Q59.6495 485.135 57.8208 488.699 Q56.0152 492.241 56.0152 499.371 Q56.0152 506.477 57.8208 510.042 Q59.6495 513.584 63.2606 513.584 Q66.8948 513.584 68.7004 510.042 Q70.5291 506.477 70.5291 499.371 Q70.5291 492.241 68.7004 488.699 Q66.8948 485.135 63.2606 485.135 M63.2606 481.431 Q69.0707 481.431 72.1263 486.037 Q75.205 490.621 75.205 499.371 Q75.205 508.097 72.1263 512.704 Q69.0707 517.287 63.2606 517.287 Q57.4504 517.287 54.3717 512.704 Q51.3162 508.097 51.3162 499.371 Q51.3162 490.621 54.3717 486.037 Q57.4504 481.431 63.2606 481.431 Z\" fill=\"#000000\" fill-rule=\"nonzero\" fill-opacity=\"1\" /><path clip-path=\"url(#clip790)\" d=\"M83.4225 510.736 L88.3067 510.736 L88.3067 516.616 L83.4225 516.616 L83.4225 510.736 Z\" fill=\"#000000\" fill-rule=\"nonzero\" fill-opacity=\"1\" /><path clip-path=\"url(#clip790)\" d=\"M109.071 497.473 Q105.922 497.473 104.071 499.625 Q102.242 501.778 102.242 505.528 Q102.242 509.255 104.071 511.431 Q105.922 513.584 109.071 513.584 Q112.219 513.584 114.047 511.431 Q115.899 509.255 115.899 505.528 Q115.899 501.778 114.047 499.625 Q112.219 497.473 109.071 497.473 M118.353 482.82 L118.353 487.079 Q116.594 486.246 114.788 485.806 Q113.006 485.366 111.246 485.366 Q106.617 485.366 104.163 488.491 Q101.733 491.616 101.385 497.936 Q102.751 495.922 104.811 494.857 Q106.871 493.769 109.348 493.769 Q114.557 493.769 117.566 496.94 Q120.598 500.088 120.598 505.528 Q120.598 510.852 117.45 514.07 Q114.302 517.287 109.071 517.287 Q103.075 517.287 99.9039 512.704 Q96.7326 508.097 96.7326 499.371 Q96.7326 491.176 100.621 486.315 Q104.51 481.431 111.061 481.431 Q112.82 481.431 114.603 481.778 Q116.408 482.125 118.353 482.82 Z\" fill=\"#000000\" fill-rule=\"nonzero\" fill-opacity=\"1\" /><path clip-path=\"url(#clip790)\" d=\"M63.5152 169.675 Q59.9041 169.675 58.0754 173.24 Q56.2699 176.781 56.2699 183.911 Q56.2699 191.017 58.0754 194.582 Q59.9041 198.124 63.5152 198.124 Q67.1494 198.124 68.955 194.582 Q70.7837 191.017 70.7837 183.911 Q70.7837 176.781 68.955 173.24 Q67.1494 169.675 63.5152 169.675 M63.5152 165.971 Q69.3254 165.971 72.3809 170.578 Q75.4596 175.161 75.4596 183.911 Q75.4596 192.638 72.3809 197.244 Q69.3254 201.827 63.5152 201.827 Q57.7051 201.827 54.6264 197.244 Q51.5708 192.638 51.5708 183.911 Q51.5708 175.161 54.6264 170.578 Q57.7051 165.971 63.5152 165.971 Z\" fill=\"#000000\" fill-rule=\"nonzero\" fill-opacity=\"1\" /><path clip-path=\"url(#clip790)\" d=\"M83.6771 195.276 L88.5614 195.276 L88.5614 201.156 L83.6771 201.156 L83.6771 195.276 Z\" fill=\"#000000\" fill-rule=\"nonzero\" fill-opacity=\"1\" /><path clip-path=\"url(#clip790)\" d=\"M108.746 184.744 Q105.413 184.744 103.492 186.527 Q101.594 188.309 101.594 191.434 Q101.594 194.559 103.492 196.341 Q105.413 198.124 108.746 198.124 Q112.08 198.124 114.001 196.341 Q115.922 194.536 115.922 191.434 Q115.922 188.309 114.001 186.527 Q112.103 184.744 108.746 184.744 M104.071 182.753 Q101.061 182.013 99.3715 179.952 Q97.7048 177.892 97.7048 174.929 Q97.7048 170.786 100.645 168.378 Q103.608 165.971 108.746 165.971 Q113.908 165.971 116.848 168.378 Q119.788 170.786 119.788 174.929 Q119.788 177.892 118.098 179.952 Q116.432 182.013 113.445 182.753 Q116.825 183.54 118.7 185.832 Q120.598 188.124 120.598 191.434 Q120.598 196.457 117.52 199.142 Q114.464 201.827 108.746 201.827 Q103.029 201.827 99.9502 199.142 Q96.8947 196.457 96.8947 191.434 Q96.8947 188.124 98.7928 185.832 Q100.691 183.54 104.071 182.753 M102.358 175.369 Q102.358 178.054 104.024 179.559 Q105.714 181.064 108.746 181.064 Q111.756 181.064 113.445 179.559 Q115.158 178.054 115.158 175.369 Q115.158 172.684 113.445 171.179 Q111.756 169.675 108.746 169.675 Q105.714 169.675 104.024 171.179 Q102.358 172.684 102.358 175.369 Z\" fill=\"#000000\" fill-rule=\"nonzero\" fill-opacity=\"1\" /><polyline clip-path=\"url(#clip792)\" style=\"stroke:#009af9; stroke-linecap:round; stroke-linejoin:round; stroke-width:4; stroke-opacity:1; fill:none\" points=\"218.754,1445.72 290.197,1356.45 361.64,1356.45 433.083,1350.44 504.526,1358.06 575.969,1334.78 647.412,1358.38 718.855,1348.71 790.298,1351.31 861.741,1379.02 933.184,1345.65 1004.63,1356.49 1076.07,1358.95 1147.51,1356.36 1218.96,1354.72 1290.4,87.9763 1361.84,506.69 1433.28,545.374 1504.73,584.057 1576.17,622.74 1647.61,661.423 1719.06,700.107 1790.5,738.79 1861.94,777.473 1933.39,816.156 2004.83,854.84 2076.27,893.523 2147.71,932.206 2219.16,970.889 2290.6,1009.57 \"/>\n",
       "<path clip-path=\"url(#clip790)\" d=\"M2007.5 198.898 L2279.55 198.898 L2279.55 95.2176 L2007.5 95.2176  Z\" fill=\"#ffffff\" fill-rule=\"evenodd\" fill-opacity=\"1\"/>\n",
       "<polyline clip-path=\"url(#clip790)\" style=\"stroke:#000000; stroke-linecap:round; stroke-linejoin:round; stroke-width:4; stroke-opacity:1; fill:none\" points=\"2007.5,198.898 2279.55,198.898 2279.55,95.2176 2007.5,95.2176 2007.5,198.898 \"/>\n",
       "<polyline clip-path=\"url(#clip790)\" style=\"stroke:#009af9; stroke-linecap:round; stroke-linejoin:round; stroke-width:4; stroke-opacity:1; fill:none\" points=\"2031.91,147.058 2178.32,147.058 \"/>\n",
       "<path clip-path=\"url(#clip790)\" d=\"M2216.56 166.745 Q2214.76 171.375 2213.04 172.787 Q2211.33 174.199 2208.46 174.199 L2205.06 174.199 L2205.06 170.634 L2207.56 170.634 Q2209.32 170.634 2210.29 169.8 Q2211.26 168.967 2212.44 165.865 L2213.2 163.921 L2202.72 138.412 L2207.23 138.412 L2215.33 158.689 L2223.44 138.412 L2227.95 138.412 L2216.56 166.745 Z\" fill=\"#000000\" fill-rule=\"nonzero\" fill-opacity=\"1\" /><path clip-path=\"url(#clip790)\" d=\"M2235.24 160.402 L2242.88 160.402 L2242.88 134.037 L2234.57 135.703 L2234.57 131.444 L2242.83 129.778 L2247.51 129.778 L2247.51 160.402 L2255.15 160.402 L2255.15 164.338 L2235.24 164.338 L2235.24 160.402 Z\" fill=\"#000000\" fill-rule=\"nonzero\" fill-opacity=\"1\" /></svg>\n"
      ]
     },
     "execution_count": 50,
     "metadata": {},
     "output_type": "execute_result"
    }
   ],
   "source": [
    "plot(thist[1:end-1], λhist)"
   ]
  },
  {
   "cell_type": "code",
   "execution_count": 26,
   "id": "221e36fb",
   "metadata": {},
   "outputs": [
    {
     "data": {
      "text/plain": [
       "1.992462232904273e-6"
      ]
     },
     "execution_count": 26,
     "metadata": {},
     "output_type": "execute_result"
    }
   ],
   "source": [
    "maximum(abs.(shist))"
   ]
  },
  {
   "cell_type": "code",
   "execution_count": null,
   "id": "b730e642",
   "metadata": {},
   "outputs": [],
   "source": []
  }
 ],
 "metadata": {
  "@webio": {
   "lastCommId": null,
   "lastKernelId": null
  },
  "kernelspec": {
   "display_name": "Julia 1.6.7",
   "language": "julia",
   "name": "julia-1.6"
  },
  "language_info": {
   "file_extension": ".jl",
   "mimetype": "application/julia",
   "name": "julia",
   "version": "1.6.7"
  }
 },
 "nbformat": 4,
 "nbformat_minor": 5
}
