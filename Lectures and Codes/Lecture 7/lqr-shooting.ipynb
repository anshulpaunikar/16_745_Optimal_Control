{
 "cells": [
  {
   "cell_type": "code",
   "execution_count": 1,
   "metadata": {},
   "outputs": [
    {
     "name": "stderr",
     "output_type": "stream",
     "text": [
      "\u001b[32m\u001b[1m  Activating\u001b[22m\u001b[39m environment at `C:\\D Drive\\Courses\\Non Umich Courses\\CMU\\Optimal_Control_16_745\\Lectures and Codes\\Lecture 7\\Project.toml`\n"
     ]
    }
   ],
   "source": [
    "import Pkg; Pkg.activate(@__DIR__); Pkg.instantiate()"
   ]
  },
  {
   "cell_type": "code",
   "execution_count": 2,
   "metadata": {},
   "outputs": [],
   "source": [
    "using LinearAlgebra\n",
    "using PyPlot"
   ]
  },
  {
   "cell_type": "code",
   "execution_count": 3,
   "metadata": {},
   "outputs": [
    {
     "data": {
      "text/plain": [
       "2-element Vector{Float64}:\n",
       " 0.005000000000000001\n",
       " 0.1"
      ]
     },
     "execution_count": 3,
     "metadata": {},
     "output_type": "execute_result"
    }
   ],
   "source": [
    "# Discrete dynamics\n",
    "h = 0.1   # time step\n",
    "A = [1 h; 0 1]\n",
    "B = [0.5*h*h; h]"
   ]
  },
  {
   "cell_type": "code",
   "execution_count": 21,
   "metadata": {},
   "outputs": [],
   "source": [
    "n = 2     # number of state\n",
    "m = 1     # number of controls\n",
    "Tfinal = 10.0 # final time #try larger values\n",
    "N = Int(Tfinal/h)+1    # number of time steps\n",
    "thist = Array(range(0,h*(N-1), step=h));"
   ]
  },
  {
   "cell_type": "code",
   "execution_count": 22,
   "metadata": {},
   "outputs": [
    {
     "data": {
      "text/plain": [
       "2-element Vector{Float64}:\n",
       " 1.0\n",
       " 0.0"
      ]
     },
     "execution_count": 22,
     "metadata": {},
     "output_type": "execute_result"
    }
   ],
   "source": [
    "# Initial conditions\n",
    "x0 = [1.0; 0]"
   ]
  },
  {
   "cell_type": "code",
   "execution_count": 23,
   "metadata": {},
   "outputs": [
    {
     "data": {
      "text/plain": [
       "2×2 Diagonal{Float64, Vector{Float64}}:\n",
       " 1.0   ⋅ \n",
       "  ⋅   1.0"
      ]
     },
     "execution_count": 23,
     "metadata": {},
     "output_type": "execute_result"
    }
   ],
   "source": [
    "# Cost weights\n",
    "Q = 1.0*I(2)\n",
    "R = 0.1\n",
    "Qn = 1.0*I(2)"
   ]
  },
  {
   "cell_type": "code",
   "execution_count": 24,
   "metadata": {},
   "outputs": [
    {
     "data": {
      "text/plain": [
       "J (generic function with 1 method)"
      ]
     },
     "execution_count": 24,
     "metadata": {},
     "output_type": "execute_result"
    }
   ],
   "source": [
    "function J(xhist,uhist)\n",
    "    cost = 0.5*xhist[:,end]'*Qn*xhist[:,end]\n",
    "    for k = 1:(N-1)\n",
    "        cost = cost + 0.5*xhist[:,k]'*Q*xhist[:,k] + 0.5*uhist[k]'*R*uhist[k]\n",
    "    end\n",
    "    return cost\n",
    "end"
   ]
  },
  {
   "cell_type": "code",
   "execution_count": 25,
   "metadata": {},
   "outputs": [
    {
     "data": {
      "text/plain": [
       "rollout (generic function with 1 method)"
      ]
     },
     "execution_count": 25,
     "metadata": {},
     "output_type": "execute_result"
    }
   ],
   "source": [
    "function rollout(xhist, uhist)\n",
    "    xnew = zeros(size(xhist))\n",
    "    xnew[:,1] = xhist[:,1]\n",
    "    for k = 1:(N-1)\n",
    "        xnew[:,k+1] .= A*xnew[:,k] + B*uhist[k]\n",
    "    end\n",
    "    return xnew\n",
    "end"
   ]
  },
  {
   "cell_type": "code",
   "execution_count": 26,
   "metadata": {},
   "outputs": [
    {
     "data": {
      "text/plain": [
       "50.5"
      ]
     },
     "execution_count": 26,
     "metadata": {},
     "output_type": "execute_result"
    }
   ],
   "source": [
    "# Initial guess\n",
    "xhist = repeat(x0, 1, N)\n",
    "uhist = zeros(N-1)\n",
    "Δu = ones(N-1)\n",
    "λhist = zeros(n,N)\n",
    "\n",
    "xhist = rollout(xhist, uhist) #initial rollout to get state trajectory\n",
    "\n",
    "J(xhist,uhist) #Initial cost"
   ]
  },
  {
   "cell_type": "code",
   "execution_count": 27,
   "metadata": {},
   "outputs": [],
   "source": [
    "b = 1e-2 #line search tolerance\n",
    "α = 1.0\n",
    "iter = 0\n",
    "while maximum(abs.(Δu[:])) > 1e-2 #terminate when the gradient is small\n",
    "    \n",
    "    #Backward pass to compute λ and Δu\n",
    "    λhist[:,N] .= Qn*xhist[:,N]\n",
    "    for k = N-1:-1:1\n",
    "        Δu[k] = -(uhist[k]+R\\B'*λhist[:,k+1])\n",
    "        λhist[:,k] .= Q*xhist[:,k] + A'*λhist[:,k+1]\n",
    "    end\n",
    "    \n",
    "    #Forward pass with line search to compute x\n",
    "    α = 1.0\n",
    "    unew = uhist + α.*Δu\n",
    "    xnew = rollout(xhist, unew)\n",
    "    while J(xnew, unew) > J(xhist, uhist) - b*α*Δu[:]'*Δu[:]\n",
    "        α = 0.5*α\n",
    "        unew = uhist + α.*Δu\n",
    "        xnew = rollout(xhist, unew)\n",
    "    end\n",
    "    uhist .= unew;\n",
    "    xhist .= xnew;\n",
    "    iter += 1\n",
    "end"
   ]
  },
  {
   "cell_type": "code",
   "execution_count": 28,
   "metadata": {},
   "outputs": [
    {
     "data": {
      "text/plain": [
       "2416"
      ]
     },
     "execution_count": 28,
     "metadata": {},
     "output_type": "execute_result"
    }
   ],
   "source": [
    "iter"
   ]
  },
  {
   "cell_type": "code",
   "execution_count": 29,
   "metadata": {},
   "outputs": [
    {
     "data": {
      "text/plain": [
       "6.658621241414695"
      ]
     },
     "execution_count": 29,
     "metadata": {},
     "output_type": "execute_result"
    }
   ],
   "source": [
    "J(xhist,uhist) #cost of solution"
   ]
  },
  {
   "cell_type": "code",
   "execution_count": 30,
   "metadata": {},
   "outputs": [
    {
     "data": {
      "image/png": "[encoded data removed]",
      "text/plain": [
       "Figure(PyObject <Figure size 640x480 with 1 Axes>)"
      ]
     },
     "metadata": {},
     "output_type": "display_data"
    },
    {
     "data": {
      "text/plain": [
       "PyObject <matplotlib.legend.Legend object at 0x000000000B9AE8B0>"
      ]
     },
     "execution_count": 30,
     "metadata": {},
     "output_type": "execute_result"
    }
   ],
   "source": [
    "# Plot x1 vs. x2, u vs. t, x vs. t, etc.\n",
    "plot(thist,xhist[1,:], label=\"Position\")\n",
    "plot(thist,xhist[2,:], label=\"Velocity\")\n",
    "xlabel(\"Time\")\n",
    "legend()"
   ]
  },
  {
   "cell_type": "code",
   "execution_count": 20,
   "metadata": {},
   "outputs": [
    {
     "data": {
      "image/png": "[encoded data removed]",
      "text/plain": [
       "Figure(PyObject <Figure size 640x480 with 1 Axes>)"
      ]
     },
     "metadata": {},
     "output_type": "display_data"
    },
    {
     "data": {
      "text/plain": [
       "PyObject <matplotlib.legend.Legend object at 0x000000000B9297F0>"
      ]
     },
     "execution_count": 20,
     "metadata": {},
     "output_type": "execute_result"
    }
   ],
   "source": [
    "plot(thist[1:end-1], uhist, label=\"control\")\n",
    "xlabel(\"Time\")\n",
    "legend()"
   ]
  },
  {
   "cell_type": "code",
   "execution_count": null,
   "metadata": {},
   "outputs": [],
   "source": []
  }
 ],
 "metadata": {
  "kernelspec": {
   "display_name": "Julia 1.6.7",
   "language": "julia",
   "name": "julia-1.6"
  },
  "language_info": {
   "file_extension": ".jl",
   "mimetype": "application/julia",
   "name": "julia",
   "version": "1.6.7"
  }
 },
 "nbformat": 4,
 "nbformat_minor": 4
}
