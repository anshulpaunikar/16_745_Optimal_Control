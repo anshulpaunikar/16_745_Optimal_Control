{
 "cells": [
  {
   "cell_type": "code",
   "execution_count": null,
   "id": "d18a781c",
   "metadata": {},
   "outputs": [],
   "source": [
    "import Pkg \n",
    "Pkg.activate(@__DIR__)\n",
    "Pkg.instantiate()"
   ]
  },
  {
   "cell_type": "code",
   "execution_count": null,
   "id": "50852209",
   "metadata": {},
   "outputs": [],
   "source": [
    "import DifferentiableCollisions as dc \n",
    "import MeshCat as mc \n",
    "using StaticArrays "
   ]
  },
  {
   "cell_type": "markdown",
   "id": "2b9cb81e",
   "metadata": {},
   "source": [
    "# MeshCat Guide\n",
    "\n",
    "## Resources\n",
    "\n",
    "MeshCat docs: https://github.com/rdeits/MeshCat.jl/tree/master/notebooks\n",
    "\n",
    "URDF support: https://github.com/JuliaRobotics/MeshCatMechanisms.jl\n",
    "\n",
    "animate cartpole example: https://github.com/Optimal-Control-16-745/HW3_S23_solutions/blob/main/utils/cartpole_animation.jl\n",
    "\n",
    "animation with mesh example: https://github.com/Optimal-Control-16-745/HW2_S23_solutions/blob/main/utils/rendezvous.jl#L54\n",
    "\n",
    "DifferentiableCollisions.jl: https://github.com/kevin-tracy/DifferentiableCollisions.jl\n",
    "\n",
    "Examples using dc: https://github.com/kevin-tracy/DifferentiableCollisions.jl/tree/master/examples"
   ]
  },
  {
   "cell_type": "markdown",
   "id": "80442038",
   "metadata": {},
   "source": [
    "### Static Arrays \n",
    "\n",
    "`DifferentiableCollisions.jl` uses StaticArrays. This means that we can't just use our normal vectors, we have to convert them to `SVector`'s first by using `SVector{vector_length}(normal_vector)` like so:\n",
    "\n",
    "```julia \n",
    "using StaticArrays\n",
    "\n",
    "normal_vector = [1,2,3,4.0]\n",
    "\n",
    "static_vector = SVector{4}(normal_vector)\n",
    "```"
   ]
  },
  {
   "cell_type": "markdown",
   "id": "5acd9f22",
   "metadata": {},
   "source": [
    "## Simple Animations in MeshCat with `DifferentiableCollisions.jl`\n",
    "\n",
    "You can use any of these shapes:\n",
    "```julia\n",
    "polytope = dc.Polytope(A, b)   # polytope is described by Ax <= b\n",
    "capsule  = dc.Capsule(R, L)    # radius R, length L\n",
    "cylinder = dc.Cylinder(R, L)   # radius R, length L\n",
    "cone     = dc.Cone(H, β)       # height H, half angle β\n",
    "sphere   = dc.Sphere(R)        # radius R\n",
    "ellips   = dc.Ellipsoid(P)     # x'*P*x ≦ 1\n",
    "polygon  = dc.Polygon(A, b, R) # polygon is described by Ay <= b, cushion radius R\n",
    "```\n",
    "\n",
    "Each shape has a position `r` and attitude quaternion `q`. We can update these by doing the following:\n",
    "\n",
    "```julia\n",
    "polytope.r = SVector{3}(randn(3)) # update with a random position \n",
    "polytope.q = normalize(SVector{4}(randn(4))) # random quaternion, normalized \n",
    "```\n",
    "\n",
    "check out https://github.com/kevin-tracy/DifferentiableCollisions.jl for more info. "
   ]
  },
  {
   "cell_type": "code",
   "execution_count": null,
   "id": "495535b3",
   "metadata": {},
   "outputs": [],
   "source": [
    "function create_fake_trajectory(N)\n",
    "    # create a fake trajectory for N steps\n",
    "    \n",
    "    # linearly interpolate between two random positions \n",
    "    r1 = 5*randn(3)\n",
    "    r2 = 5*randn(3)\n",
    "    rs = range(r1,r2, length = N)\n",
    "    \n",
    "    # do the same thing with attitude using MRP's \n",
    "    p1 = .5*randn(3)\n",
    "    p2 = .5*randn(3)\n",
    "    ps = range(p1,p2, length = N)\n",
    "    \n",
    "    # convert to quaternion (convert to StaticVector first)\n",
    "    qs = [dc.q_from_mrp(SVector{3}(p)) for p in ps]\n",
    "    \n",
    "    return rs, qs \n",
    "end\n",
    "\n",
    "let \n",
    "    \n",
    "    # start meshcat visualizer \n",
    "    vis = mc.Visualizer()\n",
    "    \n",
    "    # create capsule \n",
    "    capsule = dc.Capsule(1.4, 3.0)    \n",
    "    dc.build_primitive!(vis, capsule, :capsule; color = mc.RGBA(1,0,0,1.0))\n",
    "    \n",
    "    # length of trajectory \n",
    "    dt = 0.1 \n",
    "    tf = 5.0 \n",
    "    t_vec = 0:dt:tf \n",
    "    N = length(t_vec)\n",
    "    rs, qs = create_fake_trajectory(N)\n",
    "    \n",
    "    # animation \n",
    "    anim = mc.Animation(floor(Int,1/dt))\n",
    "    for k = 1:length(rs)\n",
    "        mc.atframe(anim, k) do\n",
    "            \n",
    "            # update position and attitude of capsule in DifferentiableCollisions\n",
    "            capsule.r = SVector{3}(rs[k]) # position in world frame W\n",
    "            capsule.q = SVector{4}(qs[k]) # quaternion ᵂqᴮ\n",
    "            \n",
    "            # update position and attitude in MeshCat\n",
    "            dc.update_pose!(vis[:capsule], capsule)\n",
    "            \n",
    "        end\n",
    "    end\n",
    "    mc.setanimation!(vis, anim)\n",
    "    \n",
    "    display(mc.render(vis))\n",
    "    \n",
    "end"
   ]
  },
  {
   "cell_type": "markdown",
   "id": "99c74a7e",
   "metadata": {},
   "source": [
    "## Recording\n",
    "\n",
    "You can record an animation by going to `Open Control` -> `Recording`, and it will give you instructions on how to convert the resulting images into a video using [ffmpeg](https://ffmpeg.org/). If you have a Mac with an ARM chip, you should use the following command:\n",
    "\n",
    "```\n",
    "ffmpeg -r 60 -i %07d.png -vcodec libx264 -pix_fmt yuv420p -preset slow -crf 18 output2.mp4\n",
    "```\n",
    "\n",
    "Alternatively, you can just use a screen recording tool."
   ]
  }
 ],
 "metadata": {
  "kernelspec": {
   "display_name": "Julia 1.6.7",
   "language": "julia",
   "name": "julia-1.6"
  },
  "language_info": {
   "file_extension": ".jl",
   "mimetype": "application/julia",
   "name": "julia",
   "version": "1.6.7"
  }
 },
 "nbformat": 4,
 "nbformat_minor": 5
}
