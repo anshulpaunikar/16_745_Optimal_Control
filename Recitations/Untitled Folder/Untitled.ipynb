{
 "cells": [
  {
   "cell_type": "code",
   "execution_count": 1,
   "id": "4838bcad-1ab4-4699-a305-b2d998460a4b",
   "metadata": {},
   "outputs": [
    {
     "name": "stderr",
     "output_type": "stream",
     "text": [
      "\u001b[32m\u001b[1m  Activating\u001b[22m\u001b[39m environment at `C:\\D Drive\\Courses\\Non Umich Courses\\CMU\\Optimal_Control_16_745\\Recitations\\Untitled Folder\\Project.toml`\n"
     ]
    }
   ],
   "source": [
    "import Pkg \n",
    "Pkg.activate(@__DIR__)\n",
    "Pkg.instantiate()"
   ]
  },
  {
   "cell_type": "code",
   "execution_count": 2,
   "id": "97ae1016-2064-4909-991a-e5e07646ba1b",
   "metadata": {},
   "outputs": [],
   "source": [
    "import DifferentiableCollisions as dc \n",
    "import MeshCat as mc \n",
    "using StaticArrays "
   ]
  },
  {
   "cell_type": "markdown",
   "id": "e9af1e8c",
   "metadata": {},
   "source": [
    "# MeshCat Guide\n",
    "\n",
    "## Resources\n",
    "\n",
    "MeshCat docs: https://github.com/rdeits/MeshCat.jl/tree/master/notebooks\n",
    "\n",
    "URDF support: https://github.com/JuliaRobotics/MeshCatMechanisms.jl\n",
    "\n",
    "animate cartpole example: https://github.com/Optimal-Control-16-745/HW3_S23_solutions/blob/main/utils/cartpole_animation.jl\n",
    "\n",
    "animation with mesh example: https://github.com/Optimal-Control-16-745/HW2_S23_solutions/blob/main/utils/rendezvous.jl#L54\n",
    "\n",
    "DifferentiableCollisions.jl: https://github.com/kevin-tracy/DifferentiableCollisions.jl\n",
    "\n",
    "Examples using dc: https://github.com/kevin-tracy/DifferentiableCollisions.jl/tree/master/examples"
   ]
  },
  {
   "cell_type": "markdown",
   "id": "eb0fab4d",
   "metadata": {},
   "source": [
    "### Static Arrays \n",
    "\n",
    "`DifferentiableCollisions.jl` uses StaticArrays. This means that we can't just use our normal vectors, we have to convert them to `SVector`'s first by using `SVector{vector_length}(normal_vector)` like so:\n",
    "\n",
    "```julia \n",
    "using StaticArrays\n",
    "\n",
    "normal_vector = [1,2,3,4.0]\n",
    "\n",
    "static_vector = SVector{4}(normal_vector)\n",
    "```"
   ]
  },
  {
   "cell_type": "markdown",
   "id": "40fd13ad",
   "metadata": {},
   "source": [
    "## Simple Animations in MeshCat with `DifferentiableCollisions.jl`\n",
    "\n",
    "You can use any of these shapes:\n",
    "```julia\n",
    "polytope = dc.Polytope(A, b)   # polytope is described by Ax <= b\n",
    "capsule  = dc.Capsule(R, L)    # radius R, length L\n",
    "cylinder = dc.Cylinder(R, L)   # radius R, length L\n",
    "cone     = dc.Cone(H, β)       # height H, half angle β\n",
    "sphere   = dc.Sphere(R)        # radius R\n",
    "ellips   = dc.Ellipsoid(P)     # x'*P*x ≦ 1\n",
    "polygon  = dc.Polygon(A, b, R) # polygon is described by Ay <= b, cushion radius R\n",
    "```\n",
    "\n",
    "Each shape has a position `r` and attitude quaternion `q`. We can update these by doing the following:\n",
    "\n",
    "```julia\n",
    "polytope.r = SVector{3}(randn(3)) # update with a random position \n",
    "polytope.q = normalize(SVector{4}(randn(4))) # random quaternion, normalized \n",
    "```\n",
    "\n",
    "check out https://github.com/kevin-tracy/DifferentiableCollisions.jl for more info. "
   ]
  },
  {
   "cell_type": "code",
   "execution_count": 4,
   "id": "1d5e3873-9a89-4fa1-b22e-edcf32aabc73",
   "metadata": {},
   "outputs": [
    {
     "name": "stderr",
     "output_type": "stream",
     "text": [
      "\u001b[36m\u001b[1m[ \u001b[22m\u001b[39m\u001b[36m\u001b[1mInfo: \u001b[22m\u001b[39mListening on: 127.0.0.1:8701, thread id: 1\n",
      "\u001b[36m\u001b[1m┌ \u001b[22m\u001b[39m\u001b[36m\u001b[1mInfo: \u001b[22m\u001b[39mMeshCat server started. You can open the visualizer by visiting the following URL in your browser:\n",
      "\u001b[36m\u001b[1m└ \u001b[22m\u001b[39mhttp://127.0.0.1:8701\n"
     ]
    },
    {
     "data": {
      "text/html": [
       "    <div style=\"height: 500px; width: 100%; overflow-x: auto; overflow-y: hidden; resize: both\">\n",
       "    <iframe src=\"http://127.0.0.1:8701\" style=\"width: 100%; height: 100%; border: none\"></iframe>\n",
       "    </div>\n"
      ],
      "text/plain": [
       "MeshCat.DisplayedVisualizer(MeshCat.CoreVisualizer(MeshCat.SceneTrees.SceneNode(nothing, nothing, Dict{String, Vector{UInt8}}(), UInt8[0x83, 0xa7, 0x6f, 0x70, 0x74, 0x69, 0x6f, 0x6e, 0x73, 0x82  …  0x5f, 0x61, 0x6e, 0x69, 0x6d, 0x61, 0x74, 0x69, 0x6f, 0x6e], Dict{String, MeshCat.SceneTrees.SceneNode}(\"meshcat\" => MeshCat.SceneTrees.SceneNode(nothing, nothing, Dict{String, Vector{UInt8}}(), nothing, Dict{String, MeshCat.SceneTrees.SceneNode}(\"capsule\" => MeshCat.SceneTrees.SceneNode(nothing, nothing, Dict{String, Vector{UInt8}}(), nothing, Dict{String, MeshCat.SceneTrees.SceneNode}(\"cyl\" => MeshCat.SceneTrees.SceneNode(UInt8[0x83, 0xa6, 0x6f, 0x62, 0x6a, 0x65, 0x63, 0x74, 0x84, 0xaa  …  0x61, 0x70, 0x73, 0x75, 0x6c, 0x65, 0x2f, 0x63, 0x79, 0x6c], nothing, Dict{String, Vector{UInt8}}(), nothing, Dict{String, MeshCat.SceneTrees.SceneNode}()), \"spha\" => MeshCat.SceneTrees.SceneNode(UInt8[0x83, 0xa6, 0x6f, 0x62, 0x6a, 0x65, 0x63, 0x74, 0x84, 0xaa  …  0x70, 0x73, 0x75, 0x6c, 0x65, 0x2f, 0x73, 0x70, 0x68, 0x61], nothing, Dict{String, Vector{UInt8}}(), nothing, Dict{String, MeshCat.SceneTrees.SceneNode}()), \"sphb\" => MeshCat.SceneTrees.SceneNode(UInt8[0x83, 0xa6, 0x6f, 0x62, 0x6a, 0x65, 0x63, 0x74, 0x84, 0xaa  …  0x70, 0x73, 0x75, 0x6c, 0x65, 0x2f, 0x73, 0x70, 0x68, 0x62], nothing, Dict{String, Vector{UInt8}}(), nothing, Dict{String, MeshCat.SceneTrees.SceneNode}()))))))), Set{HTTP.WebSockets.WebSocket}(), ip\"127.0.0.1\", 8701, HTTP.Servers.Server{HTTP.Servers.Listener{Nothing, Sockets.TCPServer}}(HTTP.Servers.Listener{Nothing, Sockets.TCPServer}(Sockets.InetAddr{Sockets.IPv4}(ip\"127.0.0.1\", 8701), \"127.0.0.1\", \"8701\", nothing, Sockets.TCPServer(Base.Libc.WindowsRawSocket(0x0000000000002238) active)), nothing, Set{HTTP.Connections.Connection}(), Task (runnable) @0x00000000107e15f0, ReentrantLock(nothing, Base.GenericCondition{Base.Threads.SpinLock}(Base.InvasiveLinkedList{Task}(nothing, nothing), Base.Threads.SpinLock(0)), 0))))"
      ]
     },
     "metadata": {},
     "output_type": "display_data"
    }
   ],
   "source": [
    "function create_fake_trajectory(N)\n",
    "    # create a fake trajectory for N steps\n",
    "    \n",
    "    # linearly interpolate between two random positions \n",
    "    r1 = 5*randn(3)\n",
    "    r2 = 5*randn(3)\n",
    "    rs = range(r1,r2, length = N)\n",
    "    \n",
    "    # do the same thing with attitude using MRP's \n",
    "    p1 = .5*randn(3)\n",
    "    p2 = .5*randn(3)\n",
    "    ps = range(p1,p2, length = N)\n",
    "    \n",
    "    # convert to quaternion (convert to StaticVector first)\n",
    "    qs = [dc.q_from_mrp(SVector{3}(p)) for p in ps]\n",
    "    \n",
    "    return rs, qs \n",
    "end\n",
    "\n",
    "let \n",
    "    \n",
    "    # start meshcat visualizer \n",
    "    vis = mc.Visualizer()\n",
    "    \n",
    "    # create capsule \n",
    "    capsule = dc.Capsule(1.4, 3.0)    \n",
    "    dc.build_primitive!(vis, capsule, :capsule; color = mc.RGBA(1,0,0,1.0))\n",
    "    \n",
    "    # length of trajectory \n",
    "    dt = 0.1 \n",
    "    tf = 5.0 \n",
    "    t_vec = 0:dt:tf \n",
    "    N = length(t_vec)\n",
    "    rs, qs = create_fake_trajectory(N)\n",
    "    \n",
    "    # animation \n",
    "    anim = mc.Animation(floor(Int,1/dt))\n",
    "    for k = 1:length(rs)\n",
    "        mc.atframe(anim, k) do\n",
    "            \n",
    "            # update position and attitude of capsule in DifferentiableCollisions\n",
    "            capsule.r = SVector{3}(rs[k]) # position in world frame W\n",
    "            capsule.q = SVector{4}(qs[k]) # quaternion ᵂqᴮ\n",
    "            \n",
    "            # update position and attitude in MeshCat\n",
    "            dc.update_pose!(vis[:capsule], capsule)\n",
    "            \n",
    "        end\n",
    "    end\n",
    "    mc.setanimation!(vis, anim)\n",
    "    \n",
    "    display(mc.render(vis))\n",
    "    \n",
    "end"
   ]
  },
  {
   "cell_type": "markdown",
   "id": "958c51b9",
   "metadata": {},
   "source": [
    "## Recording\n",
    "\n",
    "You can record an animation by going to `Open Control` -> `Recording`, and it will give you instructions on how to convert the resulting images into a video using [ffmpeg](https://ffmpeg.org/). If you have a Mac with an ARM chip, you should use the following command:\n",
    "\n",
    "```\n",
    "ffmpeg -r 60 -i %07d.png -vcodec libx264 -pix_fmt yuv420p -preset slow -crf 18 output2.mp4\n",
    "```\n",
    "\n",
    "Alternatively, you can just use a screen recording tool."
   ]
  },
  {
   "cell_type": "code",
   "execution_count": null,
   "id": "ffe84d18",
   "metadata": {},
   "outputs": [],
   "source": []
  }
 ],
 "metadata": {
  "kernelspec": {
   "display_name": "Julia 1.6.7",
   "language": "julia",
   "name": "julia-1.6"
  },
  "language_info": {
   "file_extension": ".jl",
   "mimetype": "application/julia",
   "name": "julia",
   "version": "1.6.7"
  }
 },
 "nbformat": 4,
 "nbformat_minor": 5
}
